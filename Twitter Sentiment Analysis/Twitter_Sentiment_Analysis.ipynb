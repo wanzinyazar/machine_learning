{
  "nbformat": 4,
  "nbformat_minor": 0,
  "metadata": {
    "colab": {
      "name": "Copy of Twitter_Sentiment_Analysis (1).ipynb",
      "version": "0.3.2",
      "provenance": [],
      "collapsed_sections": [
        "tzm0SgHAcyaV",
        "ET4Fn8TJcyaX",
        "CbdkRYxrcyak",
        "LxscakkRcyaz",
        "OwFkPP4Gcybm",
        "Xx62aifHcych"
      ]
    },
    "kernelspec": {
      "display_name": "Python 3",
      "language": "python",
      "name": "python3"
    }
  },
  "cells": [
    {
      "metadata": {
        "id": "NdBt4a2wcyaR",
        "colab_type": "text"
      },
      "cell_type": "markdown",
      "source": [
        "# Twitter Sentiment Analysis"
      ]
    },
    {
      "metadata": {
        "id": "tzm0SgHAcyaV",
        "colab_type": "text"
      },
      "cell_type": "markdown",
      "source": [
        "# 01 :Frame the Problem"
      ]
    },
    {
      "metadata": {
        "id": "41zBgXJlcyaV",
        "colab_type": "text"
      },
      "cell_type": "markdown",
      "source": [
        "#### Problem Statement Link :  https://datahack.analyticsvidhya.com/contest/practice-problem-twitter-sentiment-analysis/"
      ]
    },
    {
      "metadata": {
        "id": "ET4Fn8TJcyaX",
        "colab_type": "text"
      },
      "cell_type": "markdown",
      "source": [
        "# 02 :Obtain Data"
      ]
    },
    {
      "metadata": {
        "id": "ARmL3nlKcyaX",
        "colab_type": "text"
      },
      "cell_type": "markdown",
      "source": [
        "### Import Statements"
      ]
    },
    {
      "metadata": {
        "id": "zEo9ffljNNcv",
        "colab_type": "code",
        "outputId": "64e2089d-74e7-4fda-8813-7617640999c6",
        "colab": {
          "base_uri": "https://localhost:8080/",
          "height": 34
        }
      },
      "cell_type": "code",
      "source": [
        "!mkdir twitter\n",
        "%cd twitter\n",
        "!ls\n"
      ],
      "execution_count": 0,
      "outputs": [
        {
          "output_type": "stream",
          "text": [
            "/content/twitter\n"
          ],
          "name": "stdout"
        }
      ]
    },
    {
      "metadata": {
        "id": "mdHSpUOdcyaY",
        "colab_type": "code",
        "outputId": "ebe8ea0d-4e5d-4b08-9c2a-939c3b28f0e6",
        "colab": {
          "base_uri": "https://localhost:8080/",
          "height": 187
        }
      },
      "cell_type": "code",
      "source": [
        "!pip install missingno\n",
        "import numpy as np\n",
        "import pandas as pd\n",
        "import seaborn as sns\n",
        "import matplotlib.pyplot as plt\n",
        "import missingno as ms\n",
        "% matplotlib inline\n",
        "\n",
        "\n"
      ],
      "execution_count": 0,
      "outputs": [
        {
          "output_type": "stream",
          "text": [
            "Requirement already satisfied: missingno in /usr/local/lib/python3.6/dist-packages (0.4.1)\n",
            "Requirement already satisfied: numpy in /usr/local/lib/python3.6/dist-packages (from missingno) (1.14.6)\n",
            "Requirement already satisfied: seaborn in /usr/local/lib/python3.6/dist-packages (from missingno) (0.7.1)\n",
            "Requirement already satisfied: scipy in /usr/local/lib/python3.6/dist-packages (from missingno) (0.19.1)\n",
            "Requirement already satisfied: matplotlib in /usr/local/lib/python3.6/dist-packages (from missingno) (2.1.2)\n",
            "Requirement already satisfied: cycler>=0.10 in /usr/local/lib/python3.6/dist-packages (from matplotlib->missingno) (0.10.0)\n",
            "Requirement already satisfied: pytz in /usr/local/lib/python3.6/dist-packages (from matplotlib->missingno) (2018.7)\n",
            "Requirement already satisfied: pyparsing!=2.0.4,!=2.1.2,!=2.1.6,>=2.0.1 in /usr/local/lib/python3.6/dist-packages (from matplotlib->missingno) (2.3.0)\n",
            "Requirement already satisfied: python-dateutil>=2.1 in /usr/local/lib/python3.6/dist-packages (from matplotlib->missingno) (2.5.3)\n",
            "Requirement already satisfied: six>=1.10 in /usr/local/lib/python3.6/dist-packages (from matplotlib->missingno) (1.11.0)\n"
          ],
          "name": "stdout"
        }
      ]
    },
    {
      "metadata": {
        "id": "zmylpZZccyae",
        "colab_type": "text"
      },
      "cell_type": "markdown",
      "source": [
        "### Reading the Train Data"
      ]
    },
    {
      "metadata": {
        "id": "B7Hy1OdMeogC",
        "colab_type": "code",
        "outputId": "657b8c44-0608-41fe-8e47-99af07fd8eca",
        "colab": {
          "base_uri": "https://localhost:8080/",
          "height": 377
        }
      },
      "cell_type": "code",
      "source": [
        "!wget https://www.dropbox.com/s/p8fq1p6wan2g89a/train.csv "
      ],
      "execution_count": 0,
      "outputs": [
        {
          "output_type": "stream",
          "text": [
            "--2018-11-04 23:22:18--  https://www.dropbox.com/s/p8fq1p6wan2g89a/train.csv\n",
            "Resolving www.dropbox.com (www.dropbox.com)... 162.125.6.1, 2620:100:601c:1::a27d:601\n",
            "Connecting to www.dropbox.com (www.dropbox.com)|162.125.6.1|:443... connected.\n",
            "HTTP request sent, awaiting response... 301 Moved Permanently\n",
            "Location: /s/raw/p8fq1p6wan2g89a/train.csv [following]\n",
            "--2018-11-04 23:22:18--  https://www.dropbox.com/s/raw/p8fq1p6wan2g89a/train.csv\n",
            "Reusing existing connection to www.dropbox.com:443.\n",
            "HTTP request sent, awaiting response... 302 Found\n",
            "Location: https://uc1e19202a0e287289df2a170743.dl.dropboxusercontent.com/cd/0/inline/AUz6x9ZqsGVeYpIbLH8rKJiby3tXhiFIzeZSHds7a_TIkA4jJxqaiJ9KjKXrGaTCkJI9PmL9J_4Ahi4_bIcsA6dZ_odOgifopJWUHMxQjaSHrb-Q_NTvTVlLOZ4h-sepagS0BIxJvfV0pI6tgChLIbEHgE7akqaj8pLYlutpVDl_z_sC_GhZXNtrv708kPOS-20/file [following]\n",
            "--2018-11-04 23:22:18--  https://uc1e19202a0e287289df2a170743.dl.dropboxusercontent.com/cd/0/inline/AUz6x9ZqsGVeYpIbLH8rKJiby3tXhiFIzeZSHds7a_TIkA4jJxqaiJ9KjKXrGaTCkJI9PmL9J_4Ahi4_bIcsA6dZ_odOgifopJWUHMxQjaSHrb-Q_NTvTVlLOZ4h-sepagS0BIxJvfV0pI6tgChLIbEHgE7akqaj8pLYlutpVDl_z_sC_GhZXNtrv708kPOS-20/file\n",
            "Resolving uc1e19202a0e287289df2a170743.dl.dropboxusercontent.com (uc1e19202a0e287289df2a170743.dl.dropboxusercontent.com)... 162.125.6.6, 2620:100:601c:6::a27d:606\n",
            "Connecting to uc1e19202a0e287289df2a170743.dl.dropboxusercontent.com (uc1e19202a0e287289df2a170743.dl.dropboxusercontent.com)|162.125.6.6|:443... connected.\n",
            "HTTP request sent, awaiting response... 200 OK\n",
            "Length: 3103165 (3.0M) [text/plain]\n",
            "Saving to: ‘train.csv’\n",
            "\n",
            "train.csv           100%[===================>]   2.96M  --.-KB/s    in 0.1s    \n",
            "\n",
            "2018-11-04 23:22:19 (30.8 MB/s) - ‘train.csv’ saved [3103165/3103165]\n",
            "\n"
          ],
          "name": "stdout"
        }
      ]
    },
    {
      "metadata": {
        "id": "qwf7LwGJxFzt",
        "colab_type": "code",
        "outputId": "e762335b-1085-4acb-9519-d40947a75055",
        "colab": {
          "base_uri": "https://localhost:8080/",
          "height": 51
        }
      },
      "cell_type": "code",
      "source": [
        "!ls -l"
      ],
      "execution_count": 0,
      "outputs": [
        {
          "output_type": "stream",
          "text": [
            "total 3036\n",
            "-rw-r--r-- 1 root root 3103165 Nov  4 23:22 train.csv\n"
          ],
          "name": "stdout"
        }
      ]
    },
    {
      "metadata": {
        "id": "W7e7VXv1cyag",
        "colab_type": "code",
        "outputId": "0586e700-2cac-4857-9f94-3f798d7ae154",
        "colab": {
          "base_uri": "https://localhost:8080/",
          "height": 153
        }
      },
      "cell_type": "code",
      "source": [
        "train = pd.read_csv('train.csv')\n",
        "train.info()"
      ],
      "execution_count": 0,
      "outputs": [
        {
          "output_type": "stream",
          "text": [
            "<class 'pandas.core.frame.DataFrame'>\n",
            "RangeIndex: 31962 entries, 0 to 31961\n",
            "Data columns (total 3 columns):\n",
            "id       31962 non-null int64\n",
            "label    31962 non-null int64\n",
            "tweet    31962 non-null object\n",
            "dtypes: int64(2), object(1)\n",
            "memory usage: 749.2+ KB\n"
          ],
          "name": "stdout"
        }
      ]
    },
    {
      "metadata": {
        "id": "CbdkRYxrcyak",
        "colab_type": "text"
      },
      "cell_type": "markdown",
      "source": [
        "# 03 : Analyze Data"
      ]
    },
    {
      "metadata": {
        "id": "QT2EJjDlcyal",
        "colab_type": "code",
        "outputId": "25899f61-51d8-4642-9a0b-351a13f9f3c2",
        "colab": {
          "base_uri": "https://localhost:8080/",
          "height": 197
        }
      },
      "cell_type": "code",
      "source": [
        "train.head()"
      ],
      "execution_count": 0,
      "outputs": [
        {
          "output_type": "execute_result",
          "data": {
            "text/html": [
              "<div>\n",
              "<style scoped>\n",
              "    .dataframe tbody tr th:only-of-type {\n",
              "        vertical-align: middle;\n",
              "    }\n",
              "\n",
              "    .dataframe tbody tr th {\n",
              "        vertical-align: top;\n",
              "    }\n",
              "\n",
              "    .dataframe thead th {\n",
              "        text-align: right;\n",
              "    }\n",
              "</style>\n",
              "<table border=\"1\" class=\"dataframe\">\n",
              "  <thead>\n",
              "    <tr style=\"text-align: right;\">\n",
              "      <th></th>\n",
              "      <th>id</th>\n",
              "      <th>label</th>\n",
              "      <th>tweet</th>\n",
              "    </tr>\n",
              "  </thead>\n",
              "  <tbody>\n",
              "    <tr>\n",
              "      <th>0</th>\n",
              "      <td>1</td>\n",
              "      <td>0</td>\n",
              "      <td>@user when a father is dysfunctional and is s...</td>\n",
              "    </tr>\n",
              "    <tr>\n",
              "      <th>1</th>\n",
              "      <td>2</td>\n",
              "      <td>0</td>\n",
              "      <td>@user @user thanks for #lyft credit i can't us...</td>\n",
              "    </tr>\n",
              "    <tr>\n",
              "      <th>2</th>\n",
              "      <td>3</td>\n",
              "      <td>0</td>\n",
              "      <td>bihday your majesty</td>\n",
              "    </tr>\n",
              "    <tr>\n",
              "      <th>3</th>\n",
              "      <td>4</td>\n",
              "      <td>0</td>\n",
              "      <td>#model   i love u take with u all the time in ...</td>\n",
              "    </tr>\n",
              "    <tr>\n",
              "      <th>4</th>\n",
              "      <td>5</td>\n",
              "      <td>0</td>\n",
              "      <td>factsguide: society now    #motivation</td>\n",
              "    </tr>\n",
              "  </tbody>\n",
              "</table>\n",
              "</div>"
            ],
            "text/plain": [
              "   id  label                                              tweet\n",
              "0   1      0   @user when a father is dysfunctional and is s...\n",
              "1   2      0  @user @user thanks for #lyft credit i can't us...\n",
              "2   3      0                                bihday your majesty\n",
              "3   4      0  #model   i love u take with u all the time in ...\n",
              "4   5      0             factsguide: society now    #motivation"
            ]
          },
          "metadata": {
            "tags": []
          },
          "execution_count": 24
        }
      ]
    },
    {
      "metadata": {
        "id": "xcU0_jJCcyap",
        "colab_type": "code",
        "outputId": "c8ef03c3-dbfd-4400-d25c-c0dc65d25377",
        "colab": {
          "base_uri": "https://localhost:8080/",
          "height": 70
        }
      },
      "cell_type": "code",
      "source": [
        "train['label'].value_counts()"
      ],
      "execution_count": 0,
      "outputs": [
        {
          "output_type": "execute_result",
          "data": {
            "text/plain": [
              "0    29720\n",
              "1     2242\n",
              "Name: label, dtype: int64"
            ]
          },
          "metadata": {
            "tags": []
          },
          "execution_count": 25
        }
      ]
    },
    {
      "metadata": {
        "id": "JRB-IlTWcyau",
        "colab_type": "code",
        "outputId": "c9c5fb31-a09f-4bf8-f786-6980a8547a8e",
        "colab": {
          "base_uri": "https://localhost:8080/",
          "height": 123
        }
      },
      "cell_type": "code",
      "source": [
        "train[train['label']==1]['tweet'].head()"
      ],
      "execution_count": 0,
      "outputs": [
        {
          "output_type": "execute_result",
          "data": {
            "text/plain": [
              "13    @user #cnn calls #michigan middle school 'buil...\n",
              "14    no comment!  in #australia   #opkillingbay #se...\n",
              "17                               retweet if you agree! \n",
              "23      @user @user lumpy says i am a . prove it lumpy.\n",
              "34    it's unbelievable that in the 21st century we'...\n",
              "Name: tweet, dtype: object"
            ]
          },
          "metadata": {
            "tags": []
          },
          "execution_count": 26
        }
      ]
    },
    {
      "metadata": {
        "id": "cyoEN8kNcyax",
        "colab_type": "text"
      },
      "cell_type": "markdown",
      "source": [
        "## Label types\n",
        "-   0 : Normal\n",
        "-   1 : Hate"
      ]
    },
    {
      "metadata": {
        "id": "LxscakkRcyaz",
        "colab_type": "text"
      },
      "cell_type": "markdown",
      "source": [
        "# 05 : Model Selection ( 1st Iteration)"
      ]
    },
    {
      "metadata": {
        "id": "ZO14sZhrcya3",
        "colab_type": "text"
      },
      "cell_type": "markdown",
      "source": [
        "## RandomForest without Preprocessing of Text Data"
      ]
    },
    {
      "metadata": {
        "id": "c6cW-MYEcya5",
        "colab_type": "code",
        "colab": {}
      },
      "cell_type": "code",
      "source": [
        "#Building the model without preprocessing of data\n",
        "unprocessed_data = pd.read_csv('train.csv')"
      ],
      "execution_count": 0,
      "outputs": []
    },
    {
      "metadata": {
        "id": "sWIpAIwkcya_",
        "colab_type": "code",
        "colab": {}
      },
      "cell_type": "code",
      "source": [
        "from sklearn.model_selection import train_test_split\n",
        "\n",
        "\n",
        "#splitting the data into random train and test subsets\n",
        "X_train, X_test, y_train, y_test = train_test_split(unprocessed_data[\"tweet\"],\n",
        "                                                        unprocessed_data[\"label\"], \n",
        "                                                    test_size = 0.2, random_state = 42)"
      ],
      "execution_count": 0,
      "outputs": []
    },
    {
      "metadata": {
        "id": "OKlor2vwcybC",
        "colab_type": "code",
        "colab": {}
      },
      "cell_type": "code",
      "source": [
        "# Sequentialization of tasks\n",
        "from sklearn.pipeline import Pipeline\n",
        "\n",
        "#generating ngrams and tokens and Bagging\n",
        "from sklearn.feature_extraction.text import CountVectorizer, TfidfTransformer, TfidfVectorizer\n",
        "\n",
        "from sklearn.ensemble import RandomForestClassifier\n",
        "\n",
        "text_clf = Pipeline([('vect', CountVectorizer(stop_words='english')),\n",
        "                      ('tfidf', TfidfTransformer()),\n",
        "                     ('clf', RandomForestClassifier(n_estimators=50)),])"
      ],
      "execution_count": 0,
      "outputs": []
    },
    {
      "metadata": {
        "id": "44UiE9uJcybG",
        "colab_type": "code",
        "colab": {}
      },
      "cell_type": "code",
      "source": [
        "model = text_clf.fit(X_train,y_train)"
      ],
      "execution_count": 0,
      "outputs": []
    },
    {
      "metadata": {
        "id": "BuSld_gicybJ",
        "colab_type": "code",
        "colab": {}
      },
      "cell_type": "code",
      "source": [
        "predicted = model.predict(X_test)"
      ],
      "execution_count": 0,
      "outputs": []
    },
    {
      "metadata": {
        "id": "AP9mNIPLcybQ",
        "colab_type": "code",
        "colab": {}
      },
      "cell_type": "code",
      "source": [
        "from sklearn.metrics import precision_score,recall_score,f1_score, accuracy_score, confusion_matrix"
      ],
      "execution_count": 0,
      "outputs": []
    },
    {
      "metadata": {
        "id": "Hl9X8LfE-bmh",
        "colab_type": "code",
        "outputId": "8c1a7f6d-63ce-45b6-bffb-75e8fe36f0a7",
        "colab": {
          "base_uri": "https://localhost:8080/",
          "height": 52
        }
      },
      "cell_type": "code",
      "source": [
        "confusion_matrix(y_test,predicted)"
      ],
      "execution_count": 0,
      "outputs": [
        {
          "output_type": "execute_result",
          "data": {
            "text/plain": [
              "array([[5908,   29],\n",
              "       [ 243,  213]])"
            ]
          },
          "metadata": {
            "tags": []
          },
          "execution_count": 33
        }
      ]
    },
    {
      "metadata": {
        "id": "nyRyVCpOcybX",
        "colab_type": "code",
        "outputId": "91e957b8-f377-4c89-fcba-d0adf67d46c5",
        "colab": {
          "base_uri": "https://localhost:8080/",
          "height": 34
        }
      },
      "cell_type": "code",
      "source": [
        "accuracy_score(y_test,predicted)"
      ],
      "execution_count": 0,
      "outputs": [
        {
          "output_type": "execute_result",
          "data": {
            "text/plain": [
              "0.9574534647270452"
            ]
          },
          "metadata": {
            "tags": []
          },
          "execution_count": 34
        }
      ]
    },
    {
      "metadata": {
        "id": "gC4FA0B16Q46",
        "colab_type": "code",
        "outputId": "8f50dcff-f66f-406c-9888-4ec553aa291d",
        "colab": {
          "base_uri": "https://localhost:8080/",
          "height": 34
        }
      },
      "cell_type": "code",
      "source": [
        "precision_score(y_test,predicted)"
      ],
      "execution_count": 0,
      "outputs": [
        {
          "output_type": "execute_result",
          "data": {
            "text/plain": [
              "0.8801652892561983"
            ]
          },
          "metadata": {
            "tags": []
          },
          "execution_count": 35
        }
      ]
    },
    {
      "metadata": {
        "id": "jR6qcZrbcybd",
        "colab_type": "code",
        "outputId": "afa8c930-c3af-45e9-ca91-eb2b59bfc738",
        "colab": {
          "base_uri": "https://localhost:8080/",
          "height": 34
        }
      },
      "cell_type": "code",
      "source": [
        "recall_score(y_test,predicted)"
      ],
      "execution_count": 0,
      "outputs": [
        {
          "output_type": "execute_result",
          "data": {
            "text/plain": [
              "0.46710526315789475"
            ]
          },
          "metadata": {
            "tags": []
          },
          "execution_count": 36
        }
      ]
    },
    {
      "metadata": {
        "id": "93wsrfhkcybh",
        "colab_type": "code",
        "outputId": "25a14dff-39e8-4c38-8f59-5f0373d0696d",
        "colab": {
          "base_uri": "https://localhost:8080/",
          "height": 34
        }
      },
      "cell_type": "code",
      "source": [
        "f1_score(y_test,predicted)"
      ],
      "execution_count": 0,
      "outputs": [
        {
          "output_type": "execute_result",
          "data": {
            "text/plain": [
              "0.6103151862464183"
            ]
          },
          "metadata": {
            "tags": []
          },
          "execution_count": 37
        }
      ]
    },
    {
      "metadata": {
        "id": "OwFkPP4Gcybm",
        "colab_type": "text"
      },
      "cell_type": "markdown",
      "source": [
        "# 04 and 05 : Feature Engineering and Model Selection (2nd Iteration)"
      ]
    },
    {
      "metadata": {
        "id": "47IjHacjcybn",
        "colab_type": "text"
      },
      "cell_type": "markdown",
      "source": [
        "Preprocessing of Text data is very important for Textual Analysis. Tokenization, Feature Extraction (Vectorization) are the most important techniques in Scikit-Learn. \n",
        "The text must be parsed to extract words, called tokenization. Then the words need to be encoded as integers or floating point values for use as input to a machine learning algorithm, called feature extraction (or vectorization).\n"
      ]
    },
    {
      "metadata": {
        "id": "Gix7KnZTcybp",
        "colab_type": "code",
        "colab": {}
      },
      "cell_type": "code",
      "source": [
        "#regular expression \n",
        "import re \n",
        "\n",
        "#regular expression for the removal of name tags and the emoticons from tweets.\n",
        "def process_tweet(tweet):\n",
        "    return \" \".join(re.sub(\"(@[A-Za-z0-9]+)|([^0-9A-Za-z \\t])\", \" \",tweet.lower()).split())"
      ],
      "execution_count": 0,
      "outputs": []
    },
    {
      "metadata": {
        "id": "ku256IDFcybs",
        "colab_type": "code",
        "colab": {}
      },
      "cell_type": "code",
      "source": [
        "#Dropping of columns from pd\n",
        "def drop_features(features,data):\n",
        "    data.drop(features,inplace=True,axis=1)"
      ],
      "execution_count": 0,
      "outputs": []
    },
    {
      "metadata": {
        "id": "OhfPruW_cybv",
        "colab_type": "code",
        "colab": {}
      },
      "cell_type": "code",
      "source": [
        "#Applying the Process_tweet function to the given Train Data\n",
        "train['processed_tweets'] = train['tweet'].apply(process_tweet)"
      ],
      "execution_count": 0,
      "outputs": []
    },
    {
      "metadata": {
        "id": "fIFHG0sHcyby",
        "colab_type": "code",
        "outputId": "751b1390-6fba-4656-ffab-2e1c571d8b9a",
        "colab": {
          "base_uri": "https://localhost:8080/",
          "height": 197
        }
      },
      "cell_type": "code",
      "source": [
        "train.head()"
      ],
      "execution_count": 0,
      "outputs": [
        {
          "output_type": "execute_result",
          "data": {
            "text/html": [
              "<div>\n",
              "<style scoped>\n",
              "    .dataframe tbody tr th:only-of-type {\n",
              "        vertical-align: middle;\n",
              "    }\n",
              "\n",
              "    .dataframe tbody tr th {\n",
              "        vertical-align: top;\n",
              "    }\n",
              "\n",
              "    .dataframe thead th {\n",
              "        text-align: right;\n",
              "    }\n",
              "</style>\n",
              "<table border=\"1\" class=\"dataframe\">\n",
              "  <thead>\n",
              "    <tr style=\"text-align: right;\">\n",
              "      <th></th>\n",
              "      <th>id</th>\n",
              "      <th>label</th>\n",
              "      <th>tweet</th>\n",
              "      <th>processed_tweets</th>\n",
              "    </tr>\n",
              "  </thead>\n",
              "  <tbody>\n",
              "    <tr>\n",
              "      <th>0</th>\n",
              "      <td>1</td>\n",
              "      <td>0</td>\n",
              "      <td>@user when a father is dysfunctional and is s...</td>\n",
              "      <td>when a father is dysfunctional and is so selfi...</td>\n",
              "    </tr>\n",
              "    <tr>\n",
              "      <th>1</th>\n",
              "      <td>2</td>\n",
              "      <td>0</td>\n",
              "      <td>@user @user thanks for #lyft credit i can't us...</td>\n",
              "      <td>thanks for lyft credit i can t use cause they ...</td>\n",
              "    </tr>\n",
              "    <tr>\n",
              "      <th>2</th>\n",
              "      <td>3</td>\n",
              "      <td>0</td>\n",
              "      <td>bihday your majesty</td>\n",
              "      <td>bihday your majesty</td>\n",
              "    </tr>\n",
              "    <tr>\n",
              "      <th>3</th>\n",
              "      <td>4</td>\n",
              "      <td>0</td>\n",
              "      <td>#model   i love u take with u all the time in ...</td>\n",
              "      <td>model i love u take with u all the time in ur</td>\n",
              "    </tr>\n",
              "    <tr>\n",
              "      <th>4</th>\n",
              "      <td>5</td>\n",
              "      <td>0</td>\n",
              "      <td>factsguide: society now    #motivation</td>\n",
              "      <td>factsguide society now motivation</td>\n",
              "    </tr>\n",
              "  </tbody>\n",
              "</table>\n",
              "</div>"
            ],
            "text/plain": [
              "   id  label                                              tweet  \\\n",
              "0   1      0   @user when a father is dysfunctional and is s...   \n",
              "1   2      0  @user @user thanks for #lyft credit i can't us...   \n",
              "2   3      0                                bihday your majesty   \n",
              "3   4      0  #model   i love u take with u all the time in ...   \n",
              "4   5      0             factsguide: society now    #motivation   \n",
              "\n",
              "                                    processed_tweets  \n",
              "0  when a father is dysfunctional and is so selfi...  \n",
              "1  thanks for lyft credit i can t use cause they ...  \n",
              "2                                bihday your majesty  \n",
              "3      model i love u take with u all the time in ur  \n",
              "4                  factsguide society now motivation  "
            ]
          },
          "metadata": {
            "tags": []
          },
          "execution_count": 41
        }
      ]
    },
    {
      "metadata": {
        "id": "TPBOZpkmcyb1",
        "colab_type": "code",
        "outputId": "ef4e8d62-c0a0-4521-f8d4-eecbbe3c7fd4",
        "colab": {
          "base_uri": "https://localhost:8080/",
          "height": 647
        }
      },
      "cell_type": "code",
      "source": [
        "train[train['label']==1].head(20)"
      ],
      "execution_count": 0,
      "outputs": [
        {
          "output_type": "execute_result",
          "data": {
            "text/html": [
              "<div>\n",
              "<style scoped>\n",
              "    .dataframe tbody tr th:only-of-type {\n",
              "        vertical-align: middle;\n",
              "    }\n",
              "\n",
              "    .dataframe tbody tr th {\n",
              "        vertical-align: top;\n",
              "    }\n",
              "\n",
              "    .dataframe thead th {\n",
              "        text-align: right;\n",
              "    }\n",
              "</style>\n",
              "<table border=\"1\" class=\"dataframe\">\n",
              "  <thead>\n",
              "    <tr style=\"text-align: right;\">\n",
              "      <th></th>\n",
              "      <th>id</th>\n",
              "      <th>label</th>\n",
              "      <th>tweet</th>\n",
              "      <th>processed_tweets</th>\n",
              "    </tr>\n",
              "  </thead>\n",
              "  <tbody>\n",
              "    <tr>\n",
              "      <th>13</th>\n",
              "      <td>14</td>\n",
              "      <td>1</td>\n",
              "      <td>@user #cnn calls #michigan middle school 'buil...</td>\n",
              "      <td>cnn calls michigan middle school build the wal...</td>\n",
              "    </tr>\n",
              "    <tr>\n",
              "      <th>14</th>\n",
              "      <td>15</td>\n",
              "      <td>1</td>\n",
              "      <td>no comment!  in #australia   #opkillingbay #se...</td>\n",
              "      <td>no comment in australia opkillingbay seashephe...</td>\n",
              "    </tr>\n",
              "    <tr>\n",
              "      <th>17</th>\n",
              "      <td>18</td>\n",
              "      <td>1</td>\n",
              "      <td>retweet if you agree!</td>\n",
              "      <td>retweet if you agree</td>\n",
              "    </tr>\n",
              "    <tr>\n",
              "      <th>23</th>\n",
              "      <td>24</td>\n",
              "      <td>1</td>\n",
              "      <td>@user @user lumpy says i am a . prove it lumpy.</td>\n",
              "      <td>lumpy says i am a prove it lumpy</td>\n",
              "    </tr>\n",
              "    <tr>\n",
              "      <th>34</th>\n",
              "      <td>35</td>\n",
              "      <td>1</td>\n",
              "      <td>it's unbelievable that in the 21st century we'...</td>\n",
              "      <td>it s unbelievable that in the 21st century we ...</td>\n",
              "    </tr>\n",
              "    <tr>\n",
              "      <th>56</th>\n",
              "      <td>57</td>\n",
              "      <td>1</td>\n",
              "      <td>@user lets fight against  #love #peace</td>\n",
              "      <td>lets fight against love peace</td>\n",
              "    </tr>\n",
              "    <tr>\n",
              "      <th>68</th>\n",
              "      <td>69</td>\n",
              "      <td>1</td>\n",
              "      <td>ð©the white establishment can't have blk fol...</td>\n",
              "      <td>the white establishment can t have blk folx ru...</td>\n",
              "    </tr>\n",
              "    <tr>\n",
              "      <th>77</th>\n",
              "      <td>78</td>\n",
              "      <td>1</td>\n",
              "      <td>@user hey, white people: you can call people '...</td>\n",
              "      <td>hey white people you can call people white by ...</td>\n",
              "    </tr>\n",
              "    <tr>\n",
              "      <th>82</th>\n",
              "      <td>83</td>\n",
              "      <td>1</td>\n",
              "      <td>how the #altright uses  &amp;amp; insecurity to lu...</td>\n",
              "      <td>how the altright uses amp insecurity to lure m...</td>\n",
              "    </tr>\n",
              "    <tr>\n",
              "      <th>111</th>\n",
              "      <td>112</td>\n",
              "      <td>1</td>\n",
              "      <td>@user i'm not interested in a #linguistics tha...</td>\n",
              "      <td>i m not interested in a linguistics that doesn...</td>\n",
              "    </tr>\n",
              "    <tr>\n",
              "      <th>114</th>\n",
              "      <td>115</td>\n",
              "      <td>1</td>\n",
              "      <td>@user why not @user mocked obama for being bla...</td>\n",
              "      <td>why not mocked obama for being black brexit</td>\n",
              "    </tr>\n",
              "    <tr>\n",
              "      <th>131</th>\n",
              "      <td>132</td>\n",
              "      <td>1</td>\n",
              "      <td>#people aren't protesting #trump because a #re...</td>\n",
              "      <td>people aren t protesting trump because a repub...</td>\n",
              "    </tr>\n",
              "    <tr>\n",
              "      <th>151</th>\n",
              "      <td>152</td>\n",
              "      <td>1</td>\n",
              "      <td>yes it's  when you call #michelleobama a goril...</td>\n",
              "      <td>yes it s when you call michelleobama a gorilla...</td>\n",
              "    </tr>\n",
              "    <tr>\n",
              "      <th>156</th>\n",
              "      <td>157</td>\n",
              "      <td>1</td>\n",
              "      <td>as the smaller hands show, barry probably lied...</td>\n",
              "      <td>as the smaller hands show barry probably lied ...</td>\n",
              "    </tr>\n",
              "    <tr>\n",
              "      <th>167</th>\n",
              "      <td>168</td>\n",
              "      <td>1</td>\n",
              "      <td>@user @user you point one finger @user million...</td>\n",
              "      <td>you point one finger millions are pointed righ...</td>\n",
              "    </tr>\n",
              "    <tr>\n",
              "      <th>192</th>\n",
              "      <td>193</td>\n",
              "      <td>1</td>\n",
              "      <td>you might be a libtard if... #libtard  #sjw #l...</td>\n",
              "      <td>you might be a libtard if libtard sjw liberal ...</td>\n",
              "    </tr>\n",
              "    <tr>\n",
              "      <th>210</th>\n",
              "      <td>211</td>\n",
              "      <td>1</td>\n",
              "      <td>@user take out the #trash america...  - i vote...</td>\n",
              "      <td>take out the trash america i voted against hat...</td>\n",
              "    </tr>\n",
              "    <tr>\n",
              "      <th>232</th>\n",
              "      <td>233</td>\n",
              "      <td>1</td>\n",
              "      <td>if you hold open a door for a woman because sh...</td>\n",
              "      <td>if you hold open a door for a woman because sh...</td>\n",
              "    </tr>\n",
              "    <tr>\n",
              "      <th>263</th>\n",
              "      <td>264</td>\n",
              "      <td>1</td>\n",
              "      <td>@user this man ran for governor of ny, the sta...</td>\n",
              "      <td>this man ran for governor of ny the state with...</td>\n",
              "    </tr>\n",
              "    <tr>\n",
              "      <th>264</th>\n",
              "      <td>265</td>\n",
              "      <td>1</td>\n",
              "      <td>#stereotyping #prejudice  offer no #hope or so...</td>\n",
              "      <td>stereotyping prejudice offer no hope or soluti...</td>\n",
              "    </tr>\n",
              "  </tbody>\n",
              "</table>\n",
              "</div>"
            ],
            "text/plain": [
              "      id  label                                              tweet  \\\n",
              "13    14      1  @user #cnn calls #michigan middle school 'buil...   \n",
              "14    15      1  no comment!  in #australia   #opkillingbay #se...   \n",
              "17    18      1                             retweet if you agree!    \n",
              "23    24      1    @user @user lumpy says i am a . prove it lumpy.   \n",
              "34    35      1  it's unbelievable that in the 21st century we'...   \n",
              "56    57      1            @user lets fight against  #love #peace    \n",
              "68    69      1  ð©the white establishment can't have blk fol...   \n",
              "77    78      1  @user hey, white people: you can call people '...   \n",
              "82    83      1  how the #altright uses  &amp; insecurity to lu...   \n",
              "111  112      1  @user i'm not interested in a #linguistics tha...   \n",
              "114  115      1  @user why not @user mocked obama for being bla...   \n",
              "131  132      1  #people aren't protesting #trump because a #re...   \n",
              "151  152      1  yes it's  when you call #michelleobama a goril...   \n",
              "156  157      1  as the smaller hands show, barry probably lied...   \n",
              "167  168      1  @user @user you point one finger @user million...   \n",
              "192  193      1  you might be a libtard if... #libtard  #sjw #l...   \n",
              "210  211      1  @user take out the #trash america...  - i vote...   \n",
              "232  233      1  if you hold open a door for a woman because sh...   \n",
              "263  264      1  @user this man ran for governor of ny, the sta...   \n",
              "264  265      1  #stereotyping #prejudice  offer no #hope or so...   \n",
              "\n",
              "                                      processed_tweets  \n",
              "13   cnn calls michigan middle school build the wal...  \n",
              "14   no comment in australia opkillingbay seashephe...  \n",
              "17                                retweet if you agree  \n",
              "23                    lumpy says i am a prove it lumpy  \n",
              "34   it s unbelievable that in the 21st century we ...  \n",
              "56                       lets fight against love peace  \n",
              "68   the white establishment can t have blk folx ru...  \n",
              "77   hey white people you can call people white by ...  \n",
              "82   how the altright uses amp insecurity to lure m...  \n",
              "111  i m not interested in a linguistics that doesn...  \n",
              "114        why not mocked obama for being black brexit  \n",
              "131  people aren t protesting trump because a repub...  \n",
              "151  yes it s when you call michelleobama a gorilla...  \n",
              "156  as the smaller hands show barry probably lied ...  \n",
              "167  you point one finger millions are pointed righ...  \n",
              "192  you might be a libtard if libtard sjw liberal ...  \n",
              "210  take out the trash america i voted against hat...  \n",
              "232  if you hold open a door for a woman because sh...  \n",
              "263  this man ran for governor of ny the state with...  \n",
              "264  stereotyping prejudice offer no hope or soluti...  "
            ]
          },
          "metadata": {
            "tags": []
          },
          "execution_count": 42
        }
      ]
    },
    {
      "metadata": {
        "id": "8sKtJXnWcyb4",
        "colab_type": "code",
        "colab": {}
      },
      "cell_type": "code",
      "source": [
        "drop_features(['id','tweet'],train)"
      ],
      "execution_count": 0,
      "outputs": []
    },
    {
      "metadata": {
        "id": "5IicKPahcyb8",
        "colab_type": "code",
        "outputId": "a1f59ea1-8766-4578-ac3f-7fe65fe87864",
        "colab": {
          "base_uri": "https://localhost:8080/",
          "height": 197
        }
      },
      "cell_type": "code",
      "source": [
        "train.head()"
      ],
      "execution_count": 0,
      "outputs": [
        {
          "output_type": "execute_result",
          "data": {
            "text/html": [
              "<div>\n",
              "<style scoped>\n",
              "    .dataframe tbody tr th:only-of-type {\n",
              "        vertical-align: middle;\n",
              "    }\n",
              "\n",
              "    .dataframe tbody tr th {\n",
              "        vertical-align: top;\n",
              "    }\n",
              "\n",
              "    .dataframe thead th {\n",
              "        text-align: right;\n",
              "    }\n",
              "</style>\n",
              "<table border=\"1\" class=\"dataframe\">\n",
              "  <thead>\n",
              "    <tr style=\"text-align: right;\">\n",
              "      <th></th>\n",
              "      <th>label</th>\n",
              "      <th>processed_tweets</th>\n",
              "    </tr>\n",
              "  </thead>\n",
              "  <tbody>\n",
              "    <tr>\n",
              "      <th>0</th>\n",
              "      <td>0</td>\n",
              "      <td>when a father is dysfunctional and is so selfi...</td>\n",
              "    </tr>\n",
              "    <tr>\n",
              "      <th>1</th>\n",
              "      <td>0</td>\n",
              "      <td>thanks for lyft credit i can t use cause they ...</td>\n",
              "    </tr>\n",
              "    <tr>\n",
              "      <th>2</th>\n",
              "      <td>0</td>\n",
              "      <td>bihday your majesty</td>\n",
              "    </tr>\n",
              "    <tr>\n",
              "      <th>3</th>\n",
              "      <td>0</td>\n",
              "      <td>model i love u take with u all the time in ur</td>\n",
              "    </tr>\n",
              "    <tr>\n",
              "      <th>4</th>\n",
              "      <td>0</td>\n",
              "      <td>factsguide society now motivation</td>\n",
              "    </tr>\n",
              "  </tbody>\n",
              "</table>\n",
              "</div>"
            ],
            "text/plain": [
              "   label                                   processed_tweets\n",
              "0      0  when a father is dysfunctional and is so selfi...\n",
              "1      0  thanks for lyft credit i can t use cause they ...\n",
              "2      0                                bihday your majesty\n",
              "3      0      model i love u take with u all the time in ur\n",
              "4      0                  factsguide society now motivation"
            ]
          },
          "metadata": {
            "tags": []
          },
          "execution_count": 44
        }
      ]
    },
    {
      "metadata": {
        "id": "iUs7ij12cycA",
        "colab_type": "code",
        "colab": {}
      },
      "cell_type": "code",
      "source": [
        "#splitting the data into random train and test subsets\n",
        "x_train, x_test, y_train, y_test = train_test_split(train[\"processed_tweets\"],train[\"label\"],\n",
        "                                                    test_size = 0.2, random_state = 42)"
      ],
      "execution_count": 0,
      "outputs": []
    },
    {
      "metadata": {
        "id": "ppnpLomfcycD",
        "colab_type": "text"
      },
      "cell_type": "markdown",
      "source": [
        "Pipeline : Sequentially apply a list of transforms and a final estimator. Intermediate steps of the pipeline must be ‘transforms’, that is, they must implement fit and transform methods. The final estimator only needs to implement fit. "
      ]
    },
    {
      "metadata": {
        "id": "ILSy_zy-cycG",
        "colab_type": "code",
        "colab": {}
      },
      "cell_type": "code",
      "source": [
        "text_clf = Pipeline([('vect', CountVectorizer(stop_words='english')),\n",
        "                      ('tfidf', TfidfTransformer()),\n",
        "                     ('clf', RandomForestClassifier(n_estimators=200)),])\n",
        "text = text_clf.fit(x_train,y_train)"
      ],
      "execution_count": 0,
      "outputs": []
    },
    {
      "metadata": {
        "id": "ErVvXOqkcycK",
        "colab_type": "code",
        "colab": {}
      },
      "cell_type": "code",
      "source": [
        "predicted = text.predict(x_test)"
      ],
      "execution_count": 0,
      "outputs": []
    },
    {
      "metadata": {
        "id": "uv3YZCOEcycO",
        "colab_type": "code",
        "colab": {}
      },
      "cell_type": "code",
      "source": [
        "from sklearn.metrics import confusion_matrix, classification_report,precision_score"
      ],
      "execution_count": 0,
      "outputs": []
    },
    {
      "metadata": {
        "id": "P0rDhze8cycW",
        "colab_type": "code",
        "outputId": "32d551ba-246c-4e08-d667-5c1132d07683",
        "colab": {
          "base_uri": "https://localhost:8080/",
          "height": 52
        }
      },
      "cell_type": "code",
      "source": [
        "cm_m = confusion_matrix(y_test,predicted)\n",
        "cm_m"
      ],
      "execution_count": 0,
      "outputs": [
        {
          "output_type": "execute_result",
          "data": {
            "text/plain": [
              "array([[5906,   31],\n",
              "       [ 219,  237]])"
            ]
          },
          "metadata": {
            "tags": []
          },
          "execution_count": 50
        }
      ]
    },
    {
      "metadata": {
        "id": "y5G_beLH3NPF",
        "colab_type": "code",
        "colab": {}
      },
      "cell_type": "code",
      "source": [
        "TN, FP = cm_m[0]\n",
        "FN, TP = cm_m[1]"
      ],
      "execution_count": 0,
      "outputs": []
    },
    {
      "metadata": {
        "id": "RsIU_dO73WOj",
        "colab_type": "code",
        "outputId": "7e483f7f-894f-4553-d69d-fa19a53dc7ec",
        "colab": {
          "base_uri": "https://localhost:8080/",
          "height": 34
        }
      },
      "cell_type": "code",
      "source": [
        "TP"
      ],
      "execution_count": 0,
      "outputs": [
        {
          "output_type": "execute_result",
          "data": {
            "text/plain": [
              "237"
            ]
          },
          "metadata": {
            "tags": []
          },
          "execution_count": 57
        }
      ]
    },
    {
      "metadata": {
        "id": "pyZgRKJB43Yr",
        "colab_type": "code",
        "outputId": "95dc0b62-27e1-448e-b635-6274381d9251",
        "colab": {
          "base_uri": "https://localhost:8080/",
          "height": 34
        }
      },
      "cell_type": "code",
      "source": [
        "float(TN+TP)/(TN+TP+FN+FP)"
      ],
      "execution_count": 0,
      "outputs": [
        {
          "output_type": "execute_result",
          "data": {
            "text/plain": [
              "0.9608947286094166"
            ]
          },
          "metadata": {
            "tags": []
          },
          "execution_count": 58
        }
      ]
    },
    {
      "metadata": {
        "id": "eLPHotjvRkFc",
        "colab_type": "code",
        "outputId": "763c0cc0-b32c-4218-e757-aae80c5cbfbc",
        "colab": {
          "base_uri": "https://localhost:8080/",
          "height": 34
        }
      },
      "cell_type": "code",
      "source": [
        "p = TP/(TP+FP)\n",
        "p"
      ],
      "execution_count": 0,
      "outputs": [
        {
          "output_type": "execute_result",
          "data": {
            "text/plain": [
              "0.8843283582089553"
            ]
          },
          "metadata": {
            "tags": []
          },
          "execution_count": 64
        }
      ]
    },
    {
      "metadata": {
        "id": "mbhuq7iscyca",
        "colab_type": "code",
        "outputId": "c2ba2eb6-626b-4237-ea1a-5f27327b99a0",
        "colab": {
          "base_uri": "https://localhost:8080/",
          "height": 34
        }
      },
      "cell_type": "code",
      "source": [
        "precision_score(y_test,predicted)"
      ],
      "execution_count": 0,
      "outputs": [
        {
          "output_type": "execute_result",
          "data": {
            "text/plain": [
              "0.8843283582089553"
            ]
          },
          "metadata": {
            "tags": []
          },
          "execution_count": 60
        }
      ]
    },
    {
      "metadata": {
        "id": "R289nYn8R0Tg",
        "colab_type": "code",
        "outputId": "481dd791-c8ee-4746-84a8-7ea2f2488a96",
        "colab": {
          "base_uri": "https://localhost:8080/",
          "height": 34
        }
      },
      "cell_type": "code",
      "source": [
        "r = TP/(FN+TP)\n",
        "r"
      ],
      "execution_count": 0,
      "outputs": [
        {
          "output_type": "execute_result",
          "data": {
            "text/plain": [
              "0.5197368421052632"
            ]
          },
          "metadata": {
            "tags": []
          },
          "execution_count": 61
        }
      ]
    },
    {
      "metadata": {
        "id": "XsUDNFfUcyce",
        "colab_type": "code",
        "outputId": "35929ec4-5ed6-4994-f5b7-28e3df17f3d4",
        "colab": {
          "base_uri": "https://localhost:8080/",
          "height": 34
        }
      },
      "cell_type": "code",
      "source": [
        "recall_score(y_test,predicted)"
      ],
      "execution_count": 0,
      "outputs": [
        {
          "output_type": "execute_result",
          "data": {
            "text/plain": [
              "0.5197368421052632"
            ]
          },
          "metadata": {
            "tags": []
          },
          "execution_count": 62
        }
      ]
    },
    {
      "metadata": {
        "id": "J6nnay9jR7pO",
        "colab_type": "code",
        "outputId": "c8f58189-e6c0-4e22-9df6-2de6c110d5b4",
        "colab": {
          "base_uri": "https://localhost:8080/",
          "height": 34
        }
      },
      "cell_type": "code",
      "source": [
        "f1 = 2*p*r/(p+r)\n",
        "f1"
      ],
      "execution_count": 0,
      "outputs": [
        {
          "output_type": "execute_result",
          "data": {
            "text/plain": [
              "0.654696132596685"
            ]
          },
          "metadata": {
            "tags": []
          },
          "execution_count": 65
        }
      ]
    },
    {
      "metadata": {
        "id": "8sDAeurqcycS",
        "colab_type": "code",
        "outputId": "eee068be-c6a9-47de-87c9-69a7e37cf07c",
        "colab": {
          "base_uri": "https://localhost:8080/",
          "height": 34
        }
      },
      "cell_type": "code",
      "source": [
        "f1_score(y_test,predicted)"
      ],
      "execution_count": 0,
      "outputs": [
        {
          "output_type": "execute_result",
          "data": {
            "text/plain": [
              "0.654696132596685"
            ]
          },
          "metadata": {
            "tags": []
          },
          "execution_count": 66
        }
      ]
    },
    {
      "metadata": {
        "id": "Xx62aifHcych",
        "colab_type": "text"
      },
      "cell_type": "markdown",
      "source": [
        "# 04 and 05 : Feature Engineering and Model Selection (3rd Iteration)"
      ]
    },
    {
      "metadata": {
        "id": "zA5IBXItcyci",
        "colab_type": "code",
        "colab": {}
      },
      "cell_type": "code",
      "source": [
        "\n",
        "count_vect = CountVectorizer(stop_words='english',ngram_range=(1,2),analyzer='word')\n",
        "transformer = TfidfTransformer(norm='l2',sublinear_tf=True)"
      ],
      "execution_count": 0,
      "outputs": []
    },
    {
      "metadata": {
        "id": "Zf0Ff6BZcycl",
        "colab_type": "code",
        "colab": {}
      },
      "cell_type": "code",
      "source": [
        "#splitting the data into random train and test subsets\n",
        "x_train, x_test, y_train, y_test = train_test_split(train[\"processed_tweets\"],train[\"label\"],\n",
        "                                                    test_size = 0.2, random_state = 42)\n",
        "\n",
        "x_train_counts = count_vect.fit_transform(x_train)\n",
        "x_train_tfidf = transformer.fit_transform(x_train_counts)\n",
        "x_test_counts = count_vect.transform(x_test)\n",
        "x_test_tfidf = transformer.transform(x_test_counts)"
      ],
      "execution_count": 0,
      "outputs": []
    },
    {
      "metadata": {
        "id": "uazetEyTcycq",
        "colab_type": "code",
        "outputId": "25a362d2-6573-4358-9751-5f51a233886b",
        "colab": {
          "base_uri": "https://localhost:8080/",
          "height": 85
        }
      },
      "cell_type": "code",
      "source": [
        "print(x_train_counts.shape)\n",
        "print(x_train_tfidf.shape)\n",
        "print(x_test_counts.shape)\n",
        "print(x_test_tfidf.shape)"
      ],
      "execution_count": 0,
      "outputs": [
        {
          "output_type": "stream",
          "text": [
            "(25569, 155348)\n",
            "(25569, 155348)\n",
            "(6393, 155348)\n",
            "(6393, 155348)\n"
          ],
          "name": "stdout"
        }
      ]
    },
    {
      "metadata": {
        "id": "OL_yxN9Gcycv",
        "colab_type": "code",
        "outputId": "6d91fcb2-3887-4ea3-a99d-ec9ea4c128a1",
        "colab": {
          "base_uri": "https://localhost:8080/",
          "height": 71
        }
      },
      "cell_type": "code",
      "source": [
        "from sklearn.linear_model import SGDClassifier\n",
        "\n",
        "model = SGDClassifier(loss=\"modified_huber\", penalty=\"l1\")\n",
        "model.fit(x_train_tfidf,y_train)\n",
        "predictions = model.predict(x_test_tfidf)"
      ],
      "execution_count": 0,
      "outputs": [
        {
          "output_type": "stream",
          "text": [
            "/usr/local/lib/python3.6/dist-packages/sklearn/linear_model/stochastic_gradient.py:128: FutureWarning: max_iter and tol parameters have been added in <class 'sklearn.linear_model.stochastic_gradient.SGDClassifier'> in 0.19. If both are left unset, they default to max_iter=5 and tol=None. If tol is not None, max_iter defaults to max_iter=1000. From 0.21, default max_iter will be 1000, and default tol will be 1e-3.\n",
            "  \"and default tol will be 1e-3.\" % type(self), FutureWarning)\n"
          ],
          "name": "stderr"
        }
      ]
    },
    {
      "metadata": {
        "id": "oZjcEFlacyc0",
        "colab_type": "code",
        "outputId": "f905ddf3-10ce-4e91-a871-097c23be3f9b",
        "colab": {
          "base_uri": "https://localhost:8080/",
          "height": 34
        }
      },
      "cell_type": "code",
      "source": [
        "f1_score(y_test,predictions)"
      ],
      "execution_count": 0,
      "outputs": [
        {
          "output_type": "execute_result",
          "data": {
            "text/plain": [
              "0.5979381443298969"
            ]
          },
          "metadata": {
            "tags": []
          },
          "execution_count": 87
        }
      ]
    },
    {
      "metadata": {
        "id": "F7FL95xSCRiz",
        "colab_type": "code",
        "outputId": "912ffdbc-993e-40f2-cf99-0e3a6cf82845",
        "colab": {
          "base_uri": "https://localhost:8080/",
          "height": 34
        }
      },
      "cell_type": "code",
      "source": [
        "recall_score(y_test,predictions)"
      ],
      "execution_count": 0,
      "outputs": [
        {
          "output_type": "execute_result",
          "data": {
            "text/plain": [
              "0.5087719298245614"
            ]
          },
          "metadata": {
            "tags": []
          },
          "execution_count": 88
        }
      ]
    },
    {
      "metadata": {
        "id": "WKgx4J3VCRWy",
        "colab_type": "code",
        "outputId": "c6754eaf-20e1-4050-bc19-5eca1f26c9f1",
        "colab": {
          "base_uri": "https://localhost:8080/",
          "height": 34
        }
      },
      "cell_type": "code",
      "source": [
        "precision_score(y_test,predictions)"
      ],
      "execution_count": 0,
      "outputs": [
        {
          "output_type": "execute_result",
          "data": {
            "text/plain": [
              "0.725"
            ]
          },
          "metadata": {
            "tags": []
          },
          "execution_count": 89
        }
      ]
    },
    {
      "metadata": {
        "id": "uOJfC-TQCRKS",
        "colab_type": "code",
        "outputId": "0d7710c1-a5b9-413c-ce3f-1ab2a8d7c6ae",
        "colab": {
          "base_uri": "https://localhost:8080/",
          "height": 34
        }
      },
      "cell_type": "code",
      "source": [
        "f1_score(y_test,predictions)"
      ],
      "execution_count": 0,
      "outputs": [
        {
          "output_type": "execute_result",
          "data": {
            "text/plain": [
              "0.5979381443298969"
            ]
          },
          "metadata": {
            "tags": []
          },
          "execution_count": 90
        }
      ]
    },
    {
      "metadata": {
        "id": "nGzaxQ4ccyc3",
        "colab_type": "text"
      },
      "cell_type": "markdown",
      "source": [
        "# 05 : Model Selection"
      ]
    },
    {
      "metadata": {
        "id": "C2HWZTTjcyc5",
        "colab_type": "code",
        "outputId": "e0ea121e-749f-46dc-f7c0-08478b8eef99",
        "colab": {
          "base_uri": "https://localhost:8080/",
          "height": 68
        }
      },
      "cell_type": "code",
      "source": [
        "#different classification modesls being used\n",
        "from sklearn.svm import LinearSVC\n",
        "\n",
        "model_svc = LinearSVC(C=2.0,max_iter=500,tol=0.0001,loss ='hinge')\n",
        "model_svc.fit(x_train_counts,y_train)"
      ],
      "execution_count": 0,
      "outputs": [
        {
          "output_type": "execute_result",
          "data": {
            "text/plain": [
              "LinearSVC(C=2.0, class_weight=None, dual=True, fit_intercept=True,\n",
              "     intercept_scaling=1, loss='hinge', max_iter=500, multi_class='ovr',\n",
              "     penalty='l2', random_state=None, tol=0.0001, verbose=0)"
            ]
          },
          "metadata": {
            "tags": []
          },
          "execution_count": 91
        }
      ]
    },
    {
      "metadata": {
        "id": "b_LTy4q4cyc_",
        "colab_type": "code",
        "colab": {}
      },
      "cell_type": "code",
      "source": [
        "predict_svc = model_svc.predict(x_test_counts)"
      ],
      "execution_count": 0,
      "outputs": []
    },
    {
      "metadata": {
        "id": "qnYwAU5DcydC",
        "colab_type": "code",
        "outputId": "fbfae873-f01f-41c5-d113-9976eb5efb0c",
        "colab": {
          "base_uri": "https://localhost:8080/",
          "height": 34
        }
      },
      "cell_type": "code",
      "source": [
        "f1_score(y_test,predict_svc)"
      ],
      "execution_count": 0,
      "outputs": [
        {
          "output_type": "execute_result",
          "data": {
            "text/plain": [
              "0.6830530401034929"
            ]
          },
          "metadata": {
            "tags": []
          },
          "execution_count": 93
        }
      ]
    },
    {
      "metadata": {
        "id": "L4DupaqjChEM",
        "colab_type": "code",
        "outputId": "d107a984-e958-40ee-b840-b19982bad3c0",
        "colab": {
          "base_uri": "https://localhost:8080/",
          "height": 34
        }
      },
      "cell_type": "code",
      "source": [
        "recall_score(y_test,predict_svc)"
      ],
      "execution_count": 0,
      "outputs": [
        {
          "output_type": "execute_result",
          "data": {
            "text/plain": [
              "0.5789473684210527"
            ]
          },
          "metadata": {
            "tags": []
          },
          "execution_count": 94
        }
      ]
    },
    {
      "metadata": {
        "id": "PTMPadzBcydM",
        "colab_type": "text"
      },
      "cell_type": "markdown",
      "source": [
        "# 06 : Tune the Model"
      ]
    },
    {
      "metadata": {
        "id": "GrYMEX1rcydN",
        "colab_type": "code",
        "outputId": "ed09238c-9c84-45ba-b562-67e12b4644ac",
        "colab": {
          "base_uri": "https://localhost:8080/",
          "height": 1207
        }
      },
      "cell_type": "code",
      "source": [
        "\n",
        "#optimizing parameters\n",
        "from sklearn.model_selection import GridSearchCV\n",
        "\n",
        "\n",
        "params = {\"tfidf__ngram_range\": [(1, 2), (1,3)],\n",
        "          \"svc__C\": [.01, .1, 1, 10, 100]}\n",
        "\n",
        "clf = Pipeline([(\"tfidf\", TfidfVectorizer(sublinear_tf=True)),\n",
        "                (\"svc\", LinearSVC(loss='hinge'))])\n",
        "\n",
        "gs = GridSearchCV(clf, params, verbose=2, n_jobs=-1)\n",
        "gs.fit(x_train,y_train)\n",
        "print(\"Best Estimator = \", gs.best_estimator_)\n",
        "print(\"Best Score = \",gs.best_score_)"
      ],
      "execution_count": 0,
      "outputs": [
        {
          "output_type": "stream",
          "text": [
            "Fitting 3 folds for each of 10 candidates, totalling 30 fits\n",
            "[CV] svc__C=0.01, tfidf__ngram_range=(1, 2) ..........................\n",
            "[CV] svc__C=0.01, tfidf__ngram_range=(1, 2) ..........................\n",
            "[CV] ........... svc__C=0.01, tfidf__ngram_range=(1, 2), total=   2.7s\n",
            "[CV] svc__C=0.01, tfidf__ngram_range=(1, 2) ..........................\n",
            "[CV] ........... svc__C=0.01, tfidf__ngram_range=(1, 2), total=   2.9s\n",
            "[CV] svc__C=0.01, tfidf__ngram_range=(2, 3) ..........................\n",
            "[CV] ........... svc__C=0.01, tfidf__ngram_range=(1, 2), total=   2.6s\n",
            "[CV] svc__C=0.01, tfidf__ngram_range=(2, 3) ..........................\n",
            "[CV] ........... svc__C=0.01, tfidf__ngram_range=(2, 3), total=   4.0s\n",
            "[CV] svc__C=0.01, tfidf__ngram_range=(2, 3) ..........................\n",
            "[CV] ........... svc__C=0.01, tfidf__ngram_range=(2, 3), total=   3.8s\n",
            "[CV] svc__C=0.1, tfidf__ngram_range=(1, 2) ...........................\n",
            "[CV] ........... svc__C=0.01, tfidf__ngram_range=(2, 3), total=   3.9s\n",
            "[CV] svc__C=0.1, tfidf__ngram_range=(1, 2) ...........................\n",
            "[CV] ............ svc__C=0.1, tfidf__ngram_range=(1, 2), total=   2.8s\n",
            "[CV] svc__C=0.1, tfidf__ngram_range=(1, 2) ...........................\n",
            "[CV] ............ svc__C=0.1, tfidf__ngram_range=(1, 2), total=   3.0s\n",
            "[CV] svc__C=0.1, tfidf__ngram_range=(2, 3) ...........................\n",
            "[CV] ............ svc__C=0.1, tfidf__ngram_range=(1, 2), total=   3.3s\n",
            "[CV] svc__C=0.1, tfidf__ngram_range=(2, 3) ...........................\n",
            "[CV] ............ svc__C=0.1, tfidf__ngram_range=(2, 3), total=   5.5s\n",
            "[CV] svc__C=0.1, tfidf__ngram_range=(2, 3) ...........................\n",
            "[CV] ............ svc__C=0.1, tfidf__ngram_range=(2, 3), total=   5.7s\n",
            "[CV] svc__C=1, tfidf__ngram_range=(1, 2) .............................\n",
            "[CV] ............ svc__C=0.1, tfidf__ngram_range=(2, 3), total=   5.1s\n",
            "[CV] svc__C=1, tfidf__ngram_range=(1, 2) .............................\n",
            "[CV] .............. svc__C=1, tfidf__ngram_range=(1, 2), total=   3.7s\n",
            "[CV] svc__C=1, tfidf__ngram_range=(1, 2) .............................\n",
            "[CV] .............. svc__C=1, tfidf__ngram_range=(1, 2), total=   4.7s\n",
            "[CV] svc__C=1, tfidf__ngram_range=(2, 3) .............................\n",
            "[CV] .............. svc__C=1, tfidf__ngram_range=(1, 2), total=   5.3s\n",
            "[CV] svc__C=1, tfidf__ngram_range=(2, 3) .............................\n",
            "[CV] .............. svc__C=1, tfidf__ngram_range=(2, 3), total=   6.4s\n",
            "[CV] svc__C=1, tfidf__ngram_range=(2, 3) .............................\n",
            "[CV] .............. svc__C=1, tfidf__ngram_range=(2, 3), total=   8.3s\n",
            "[CV] svc__C=10, tfidf__ngram_range=(1, 2) ............................\n",
            "[CV] ............. svc__C=10, tfidf__ngram_range=(1, 2), total=   3.8s\n",
            "[CV] svc__C=10, tfidf__ngram_range=(1, 2) ............................\n",
            "[CV] .............. svc__C=1, tfidf__ngram_range=(2, 3), total=   5.8s\n",
            "[CV] svc__C=10, tfidf__ngram_range=(1, 2) ............................\n",
            "[CV] ............. svc__C=10, tfidf__ngram_range=(1, 2), total=   4.8s\n",
            "[CV] svc__C=10, tfidf__ngram_range=(2, 3) ............................\n",
            "[CV] ............. svc__C=10, tfidf__ngram_range=(1, 2), total=   5.6s\n",
            "[CV] svc__C=10, tfidf__ngram_range=(2, 3) ............................\n",
            "[CV] ............. svc__C=10, tfidf__ngram_range=(2, 3), total=   7.8s\n",
            "[CV] svc__C=10, tfidf__ngram_range=(2, 3) ............................\n",
            "[CV] ............. svc__C=10, tfidf__ngram_range=(2, 3), total=   7.0s\n",
            "[CV] svc__C=100, tfidf__ngram_range=(1, 2) ...........................\n",
            "[CV] ............. svc__C=10, tfidf__ngram_range=(2, 3), total=   7.2s\n",
            "[CV] svc__C=100, tfidf__ngram_range=(1, 2) ...........................\n",
            "[CV] ............ svc__C=100, tfidf__ngram_range=(1, 2), total=   8.4s\n",
            "[CV] svc__C=100, tfidf__ngram_range=(1, 2) ...........................\n",
            "[CV] ............ svc__C=100, tfidf__ngram_range=(1, 2), total=   7.9s\n",
            "[CV] svc__C=100, tfidf__ngram_range=(2, 3) ...........................\n",
            "[CV] ............ svc__C=100, tfidf__ngram_range=(1, 2), total=   8.7s\n",
            "[CV] svc__C=100, tfidf__ngram_range=(2, 3) ...........................\n",
            "[CV] ............ svc__C=100, tfidf__ngram_range=(2, 3), total=  14.2s\n",
            "[CV] svc__C=100, tfidf__ngram_range=(2, 3) ...........................\n",
            "[CV] ............ svc__C=100, tfidf__ngram_range=(2, 3), total=  14.7s\n",
            "[CV] ............ svc__C=100, tfidf__ngram_range=(2, 3), total=  10.3s\n"
          ],
          "name": "stdout"
        },
        {
          "output_type": "stream",
          "text": [
            "[Parallel(n_jobs=-1)]: Done  30 out of  30 | elapsed:  1.8min finished\n"
          ],
          "name": "stderr"
        },
        {
          "output_type": "stream",
          "text": [
            "Best Estimator =  Pipeline(memory=None,\n",
            "     steps=[('tfidf', TfidfVectorizer(analyzer='word', binary=False, decode_error='strict',\n",
            "        dtype=<class 'numpy.int64'>, encoding='utf-8', input='content',\n",
            "        lowercase=True, max_df=1.0, max_features=None, min_df=1,\n",
            "        ngram_range=(1, 2), norm='l2', preprocessor=None, smooth_idf=True,\n",
            " ...e', max_iter=1000, multi_class='ovr',\n",
            "     penalty='l2', random_state=None, tol=0.0001, verbose=0))])\n",
            "Best Score =  0.9630411826821542\n"
          ],
          "name": "stdout"
        }
      ]
    },
    {
      "metadata": {
        "id": "dwYFNF0ccydQ",
        "colab_type": "code",
        "colab": {}
      },
      "cell_type": "code",
      "source": [
        "predicted = gs.predict(x_test)\n"
      ],
      "execution_count": 0,
      "outputs": []
    },
    {
      "metadata": {
        "id": "RcIFAblxcydU",
        "colab_type": "code",
        "outputId": "13895b22-9cb9-459a-9d99-1e3e4ca8b85a",
        "colab": {
          "base_uri": "https://localhost:8080/",
          "height": 34
        }
      },
      "cell_type": "code",
      "source": [
        "predicted"
      ],
      "execution_count": 0,
      "outputs": [
        {
          "output_type": "execute_result",
          "data": {
            "text/plain": [
              "array([0, 0, 0, ..., 0, 0, 1])"
            ]
          },
          "metadata": {
            "tags": []
          },
          "execution_count": 54
        }
      ]
    },
    {
      "metadata": {
        "id": "JD6u-vtNcydY",
        "colab_type": "code",
        "outputId": "58ab4c17-5530-41aa-b2b6-ae3cdb80190d",
        "colab": {
          "base_uri": "https://localhost:8080/",
          "height": 34
        }
      },
      "cell_type": "code",
      "source": [
        "f1_score(y_test,predicted)"
      ],
      "execution_count": 0,
      "outputs": [
        {
          "output_type": "execute_result",
          "data": {
            "text/plain": [
              "0.7245657568238213"
            ]
          },
          "metadata": {
            "tags": []
          },
          "execution_count": 55
        }
      ]
    },
    {
      "metadata": {
        "id": "lDzYhR4LGC1O",
        "colab_type": "code",
        "outputId": "fbf14262-6b97-4a84-ad60-1b59e1a6d1df",
        "colab": {
          "base_uri": "https://localhost:8080/",
          "height": 34
        }
      },
      "cell_type": "code",
      "source": [
        "recall_score(y_test,predicted)"
      ],
      "execution_count": 0,
      "outputs": [
        {
          "output_type": "execute_result",
          "data": {
            "text/plain": [
              "0.6403508771929824"
            ]
          },
          "metadata": {
            "tags": []
          },
          "execution_count": 56
        }
      ]
    },
    {
      "metadata": {
        "id": "Rmlfhm1CGCsm",
        "colab_type": "code",
        "outputId": "7f0ea5ed-6acf-472a-d38a-ed728f3ae4d2",
        "colab": {
          "base_uri": "https://localhost:8080/",
          "height": 34
        }
      },
      "cell_type": "code",
      "source": [
        "precision_score(y_test,predicted)"
      ],
      "execution_count": 0,
      "outputs": [
        {
          "output_type": "execute_result",
          "data": {
            "text/plain": [
              "0.8342857142857143"
            ]
          },
          "metadata": {
            "tags": []
          },
          "execution_count": 57
        }
      ]
    },
    {
      "metadata": {
        "id": "DEspfC2rcydf",
        "colab_type": "text"
      },
      "cell_type": "markdown",
      "source": [
        "# 07 : Predict on new cases"
      ]
    },
    {
      "metadata": {
        "id": "U7vEEfaAfPUR",
        "colab_type": "code",
        "colab": {}
      },
      "cell_type": "code",
      "source": [
        "!wget https://www.dropbox.com/s/as2y6lpjsh6284l/test.csv"
      ],
      "execution_count": 0,
      "outputs": []
    },
    {
      "metadata": {
        "id": "5-gLZQBUcydg",
        "colab_type": "code",
        "colab": {}
      },
      "cell_type": "code",
      "source": [
        "submission = pd.read_csv('test.csv')\n",
        "submission.info()"
      ],
      "execution_count": 0,
      "outputs": []
    },
    {
      "metadata": {
        "id": "MR_4JhdGcydj",
        "colab_type": "code",
        "colab": {}
      },
      "cell_type": "code",
      "source": [
        "submission['processed_tweet'] = submission['tweet'].apply(process_tweet)"
      ],
      "execution_count": 0,
      "outputs": []
    },
    {
      "metadata": {
        "id": "87TJQBwBcydp",
        "colab_type": "code",
        "colab": {}
      },
      "cell_type": "code",
      "source": [
        "submission.head()"
      ],
      "execution_count": 0,
      "outputs": []
    },
    {
      "metadata": {
        "id": "uZIrcv-Vcyds",
        "colab_type": "code",
        "colab": {}
      },
      "cell_type": "code",
      "source": [
        "drop_features(['tweet'],submission)"
      ],
      "execution_count": 0,
      "outputs": []
    },
    {
      "metadata": {
        "id": "xrBlYyEXcydw",
        "colab_type": "code",
        "colab": {}
      },
      "cell_type": "code",
      "source": [
        "submission.head()"
      ],
      "execution_count": 0,
      "outputs": []
    },
    {
      "metadata": {
        "id": "wNdl88jMcyd2",
        "colab_type": "code",
        "colab": {}
      },
      "cell_type": "code",
      "source": [
        "predicted = gs.predict(submission['processed_tweet'])"
      ],
      "execution_count": 0,
      "outputs": []
    },
    {
      "metadata": {
        "id": "rtvZBhVacyd8",
        "colab_type": "code",
        "colab": {}
      },
      "cell_type": "code",
      "source": [
        "predicted"
      ],
      "execution_count": 0,
      "outputs": []
    },
    {
      "metadata": {
        "id": "Ooq33e_zcyeA",
        "colab_type": "code",
        "colab": {}
      },
      "cell_type": "code",
      "source": [
        "final_predict = pd.DataFrame(predicted,columns=['label'])\n",
        "result = pd.DataFrame(submission['id'],columns=['id'])\n",
        "result = pd.concat([result,final_predict],axis=1)\n",
        "result.to_csv('final_predictions.csv',index=False)"
      ],
      "execution_count": 0,
      "outputs": []
    },
    {
      "metadata": {
        "id": "5EOBhV-gcyeD",
        "colab_type": "code",
        "colab": {}
      },
      "cell_type": "code",
      "source": [
        "result['label'].value_counts()"
      ],
      "execution_count": 0,
      "outputs": []
    },
    {
      "metadata": {
        "id": "HQrRoUiTRg5T",
        "colab_type": "code",
        "colab": {}
      },
      "cell_type": "code",
      "source": [
        ""
      ],
      "execution_count": 0,
      "outputs": []
    }
  ]
}