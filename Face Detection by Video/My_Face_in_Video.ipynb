{
  "nbformat": 4,
  "nbformat_minor": 0,
  "metadata": {
    "colab": {
      "name": "My_Face in Video.ipynb",
      "version": "0.3.2",
      "provenance": [],
      "collapsed_sections": []
    },
    "kernelspec": {
      "name": "python3",
      "display_name": "Python 3"
    },
    "accelerator": "GPU"
  },
  "cells": [
    {
      "metadata": {
        "id": "POoo5zbbvXS4",
        "colab_type": "text"
      },
      "cell_type": "markdown",
      "source": [
        "Video Sources: https://www.youtube.com/watch?v=S0-ePp9Ij44&t=5s"
      ]
    },
    {
      "metadata": {
        "id": "AXHIRcwTm38i",
        "colab_type": "code",
        "colab": {}
      },
      "cell_type": "code",
      "source": [
        "#Installing modules we need. And doing it only once.\n",
        "import pkgutil; \n",
        "if not pkgutil.find_loader(\"missingno\"):\n",
        "  !pip install missingno -q\n"
      ],
      "execution_count": 0,
      "outputs": []
    },
    {
      "metadata": {
        "id": "kLE1vk--F0Jk",
        "colab_type": "code",
        "colab": {}
      },
      "cell_type": "code",
      "source": [
        "def get_file(url):\n",
        "  fname = url.split('/')[-1]\n",
        "  if not Path(fname).exists():\n",
        "    print(\"Getting \", fname)\n",
        "    !wget {url} -q"
      ],
      "execution_count": 0,
      "outputs": []
    },
    {
      "metadata": {
        "id": "OiqPVDmfkVEQ",
        "colab_type": "code",
        "colab": {}
      },
      "cell_type": "code",
      "source": [
        "#importing modules we need \n",
        "from pathlib import Path\n",
        "from matplotlib import pyplot as plt\n"
      ],
      "execution_count": 0,
      "outputs": []
    },
    {
      "metadata": {
        "id": "RSI0ROYBjN_v",
        "colab_type": "code",
        "colab": {}
      },
      "cell_type": "code",
      "source": [
        "import cv2\n",
        "import os\n",
        "import numpy as np"
      ],
      "execution_count": 0,
      "outputs": []
    },
    {
      "metadata": {
        "id": "v2OEr3IWkW1d",
        "colab_type": "code",
        "colab": {
          "base_uri": "https://localhost:8080/",
          "height": 34
        },
        "outputId": "05a57a15-109f-49af-d979-a89ea32c4cf4"
      },
      "cell_type": "code",
      "source": [
        "#downloading files. This will run only once.\n",
        "get_file(\"https://www.dropbox.com/s/mq7julne4cudghx/haarcascade_frontalface_default.xml\")\n",
        "\n"
      ],
      "execution_count": 5,
      "outputs": [
        {
          "output_type": "stream",
          "text": [
            "Getting  haarcascade_frontalface_default.xml\n"
          ],
          "name": "stdout"
        }
      ]
    },
    {
      "metadata": {
        "id": "7jAgNfUrr7iE",
        "colab_type": "code",
        "outputId": "96397561-8600-4691-f219-7c5ec6ac48de",
        "colab": {
          "base_uri": "https://localhost:8080/",
          "height": 34
        }
      },
      "cell_type": "code",
      "source": [
        "get_file(\"https://www.dropbox.com/s/bq0zhrefmy1ckqi/videoplayback.3gp?dl=0\")\n",
        "camera = cv2.VideoCapture(\"videoplayback (1).3gp?dl=0\")"
      ],
      "execution_count": 6,
      "outputs": [
        {
          "output_type": "stream",
          "text": [
            "Getting  videoplayback%20%281%29.3gp?dl=0\n"
          ],
          "name": "stdout"
        }
      ]
    },
    {
      "metadata": {
        "id": "ZQ6L1z63hWgG",
        "colab_type": "code",
        "colab": {}
      },
      "cell_type": "code",
      "source": [
        "def imshow(image):\n",
        "  plt.grid(False)\n",
        "  if len(image.shape) == 3:\n",
        "    conv = cv2.COLOR_BGR2RGB\n",
        "  else:\n",
        "    conv = cv2.COLOR_GRAY2RGB\n",
        "  plt.imshow(cv2.cvtColor(image,conv ))\n",
        "  "
      ],
      "execution_count": 0,
      "outputs": []
    },
    {
      "metadata": {
        "id": "3eIe_cGNkuLL",
        "colab_type": "code",
        "colab": {}
      },
      "cell_type": "code",
      "source": [
        "def detect_face(image, scaleFactor = 1.2, minNeighbors = 5, minSize = (30, 30)):\n",
        "  faceCascade = cv2.CascadeClassifier(\"haarcascade_frontalface_default.xml\")\n",
        "  gr_image= cv2.cvtColor(image, cv2.COLOR_BGR2GRAY)\n",
        "  rects = faceCascade.detectMultiScale(gr_image,\n",
        "               scaleFactor = scaleFactor,\n",
        "               minNeighbors = minNeighbors, minSize = minSize,\n",
        "               flags = cv2.CASCADE_SCALE_IMAGE)\n",
        "  for (x, y, w, h) in rects:\n",
        "    cv2.rectangle(image, (x, y), (x + w, y + h), (0, 255, 0), 2)\n",
        "  return image"
      ],
      "execution_count": 0,
      "outputs": []
    },
    {
      "metadata": {
        "id": "1BFDx5DwLlgQ",
        "colab_type": "code",
        "colab": {}
      },
      "cell_type": "code",
      "source": [
        "def make_video(outvid, images=None, fps=30, size=None,\n",
        "               is_color=True, format=\"FMP4\"):\n",
        "    \"\"\"\n",
        "    Create a video from a list of images.\n",
        " \n",
        "    @param      outvid      output video\n",
        "    @param      images      list of images to use in the video\n",
        "    @param      fps         frame per second\n",
        "    @param      size        size of each frame\n",
        "    @param      is_color    color\n",
        "    @param      format      see http://www.fourcc.org/codecs.php\n",
        "    @return                 see http://opencv-python-tutroals.readthedocs.org/en/latest/py_tutorials/py_gui/py_video_display/py_video_display.html\n",
        "    \"\"\"\n",
        "    from cv2 import VideoWriter, VideoWriter_fourcc, imread, resize\n",
        "    fourcc = VideoWriter_fourcc(*format)\n",
        "    vid = None\n",
        "    for image in images:\n",
        "        if not os.path.exists(image):\n",
        "            raise FileNotFoundError(image)\n",
        "        img = imread(image)\n",
        "        if vid is None:\n",
        "            if size is None:\n",
        "                size = img.shape[1], img.shape[0]\n",
        "            vid = VideoWriter(outvid, fourcc, float(fps), size, is_color)\n",
        "        if size[0] != img.shape[1] and size[1] != img.shape[0]:\n",
        "            img = resize(img, size)\n",
        "        vid.write(img)\n",
        "    vid.release()\n",
        "    return vid\n",
        "\n"
      ],
      "execution_count": 0,
      "outputs": []
    },
    {
      "metadata": {
        "id": "x3rpxfphepsC",
        "colab_type": "code",
        "outputId": "50c73c7f-5ffe-4b3c-da73-7c8c82b25933",
        "colab": {
          "base_uri": "https://localhost:8080/",
          "height": 34
        }
      },
      "cell_type": "code",
      "source": [
        "rm *.jpg"
      ],
      "execution_count": 10,
      "outputs": [
        {
          "output_type": "stream",
          "text": [
            "rm: cannot remove '*.jpg': No such file or directory\n"
          ],
          "name": "stdout"
        }
      ]
    },
    {
      "metadata": {
        "id": "p9GXANxlu3SR",
        "colab_type": "code",
        "colab": {}
      },
      "cell_type": "code",
      "source": [
        "def resize(image, width = None, height = None, inter = cv2.INTER_AREA):\n",
        "\t# initialize the dimensions of the image to be resized and\n",
        "\t# grab the image size\n",
        "\tdim = None\n",
        "\t(h, w) = image.shape[:2]\n",
        "\n",
        "\t# if both the width and height are None, then return the\n",
        "\t# original image\n",
        "\tif width is None and height is None:\n",
        "\t\treturn image\n",
        "\n",
        "\t# check to see if the width is None\n",
        "\tif width is None:\n",
        "\t\t# calculate the ratio of the height and construct the\n",
        "\t\t# dimensions\n",
        "\t\tr = height / float(h)\n",
        "\t\tdim = (int(w * r), height)\n",
        "\n",
        "\t# otherwise, the height is None\n",
        "\telse:\n",
        "\t\t# calculate the ratio of the width and construct the\n",
        "\t\t# dimensions\n",
        "\t\tr = width / float(w)\n",
        "\t\tdim = (width, int(h * r))\n",
        "\n",
        "\t# resize the image\n",
        "\tresized = cv2.resize(image, dim, interpolation = inter)\n",
        "\n",
        "\t# return the resized image\n",
        "\treturn resized"
      ],
      "execution_count": 0,
      "outputs": []
    },
    {
      "metadata": {
        "id": "PnhrQqT7HKU7",
        "colab_type": "code",
        "outputId": "611627b4-3afe-476a-9e4f-9f9f527aa3e7",
        "colab": {
          "base_uri": "https://localhost:8080/",
          "height": 629
        }
      },
      "cell_type": "code",
      "source": [
        "\n",
        "ROOT_DIR = os.getcwd()\n",
        "\n",
        "camera = cv2.VideoCapture(\"videoplayback.3gp?dl=0\")\n",
        "frame_count = 0 \n",
        "frames = []\n",
        "while True:\n",
        "  (grabbed, frame) = camera.read()\n",
        "\n",
        "  if not grabbed:\n",
        "    break\n",
        "\n",
        "  frame = resize(frame, width = 300)\n",
        "  detect_face(frame, scaleFactor = 1.1, minNeighbors = 5,\n",
        "                      minSize = (30, 30))\n",
        "  if (frame_count%50 == 0):\n",
        "    print (frame_count)\n",
        "  frame_count += 1\n",
        "  name = '{0}.jpg'.format(frame_count)\n",
        "  name = os.path.join(ROOT_DIR, name)\n",
        "  cv2.imwrite(name, frame)\n"
      ],
      "execution_count": 12,
      "outputs": [
        {
          "output_type": "stream",
          "text": [
            "0\n",
            "50\n",
            "100\n",
            "150\n",
            "200\n",
            "250\n",
            "300\n",
            "350\n",
            "400\n",
            "450\n",
            "500\n",
            "550\n",
            "600\n",
            "650\n",
            "700\n",
            "750\n",
            "800\n",
            "850\n",
            "900\n",
            "950\n",
            "1000\n",
            "1050\n",
            "1100\n",
            "1150\n",
            "1200\n",
            "1250\n",
            "1300\n",
            "1350\n",
            "1400\n",
            "1450\n",
            "1500\n",
            "1550\n",
            "1600\n",
            "1650\n",
            "1700\n",
            "1750\n"
          ],
          "name": "stdout"
        }
      ]
    },
    {
      "metadata": {
        "id": "u5PrX-6Ndt_r",
        "colab_type": "code",
        "outputId": "ffaf09a9-dbce-47e7-e800-e9874b3d71a8",
        "colab": {
          "base_uri": "https://localhost:8080/",
          "height": 34
        }
      },
      "cell_type": "code",
      "source": [
        "rm *.mp4"
      ],
      "execution_count": 13,
      "outputs": [
        {
          "output_type": "stream",
          "text": [
            "rm: cannot remove '*.mp4': No such file or directory\n"
          ],
          "name": "stdout"
        }
      ]
    },
    {
      "metadata": {
        "id": "irJavmohL_e4",
        "colab_type": "code",
        "outputId": "d1f96aec-136b-441c-8d2e-0a2ba15f6d56",
        "colab": {
          "base_uri": "https://localhost:8080/",
          "height": 34
        }
      },
      "cell_type": "code",
      "source": [
        "import glob\n",
        "import os\n",
        "\n",
        "# Directory of images to run detection on\n",
        "ROOT_DIR = os.getcwd()\n",
        "images = list(glob.iglob(os.path.join(ROOT_DIR, '*.jpg')))\n",
        "# Sort the images by integer index\n",
        "images = sorted(images, key=lambda x: float(os.path.split(x)[1][:-3]))\n",
        "\n",
        "outvid = os.path.join(ROOT_DIR, \"out.mp4\")\n",
        "make_video(outvid, images, fps=30)"
      ],
      "execution_count": 14,
      "outputs": [
        {
          "output_type": "execute_result",
          "data": {
            "text/plain": [
              "<VideoWriter 0x7f52322dc630>"
            ]
          },
          "metadata": {
            "tags": []
          },
          "execution_count": 14
        }
      ]
    },
    {
      "metadata": {
        "id": "GM5qLomcPjx0",
        "colab_type": "code",
        "outputId": "46b67468-eda4-4c69-f83d-1ca69f26a76a",
        "colab": {
          "base_uri": "https://localhost:8080/",
          "height": 34
        }
      },
      "cell_type": "code",
      "source": [
        "ls -l *.mp4"
      ],
      "execution_count": 15,
      "outputs": [
        {
          "output_type": "stream",
          "text": [
            "-rw-r--r-- 1 root root 5113454 Nov 28 03:11 out.mp4\n"
          ],
          "name": "stdout"
        }
      ]
    },
    {
      "metadata": {
        "id": "fPEGkC19QDM8",
        "colab_type": "code",
        "colab": {}
      },
      "cell_type": "code",
      "source": [
        "from google.colab import files\n",
        "\n",
        "files.download('out.mp4')"
      ],
      "execution_count": 0,
      "outputs": []
    },
    {
      "metadata": {
        "id": "A1dxgJWhLtZS",
        "colab_type": "code",
        "colab": {}
      },
      "cell_type": "code",
      "source": [
        ""
      ],
      "execution_count": 0,
      "outputs": []
    }
  ]
}