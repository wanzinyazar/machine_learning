{
  "nbformat": 4,
  "nbformat_minor": 0,
  "metadata": {
    "colab": {
      "name": "Copy of Stock_Market_Analysis (1).ipynb",
      "version": "0.3.2",
      "provenance": [],
      "collapsed_sections": []
    },
    "kernelspec": {
      "display_name": "Python 3",
      "language": "python",
      "name": "python3"
    }
  },
  "cells": [
    {
      "metadata": {
        "id": "fhDw1wWQahmQ",
        "colab_type": "text"
      },
      "cell_type": "markdown",
      "source": [
        "# Stock Market Analysis"
      ]
    },
    {
      "metadata": {
        "id": "7I4MQuX5ahmT",
        "colab_type": "text"
      },
      "cell_type": "markdown",
      "source": [
        "### Problem Link : https://www.kaggle.com/daiearth22/uniqlo-fastretailing-stock-price-prediction/data"
      ]
    },
    {
      "metadata": {
        "id": "YWeuxfbmahmU",
        "colab_type": "text"
      },
      "cell_type": "markdown",
      "source": [
        "#### Necessary Import Statements"
      ]
    },
    {
      "metadata": {
        "id": "qX2NpITuahmV",
        "colab_type": "code",
        "colab": {}
      },
      "cell_type": "code",
      "source": [
        "import pandas as pd\n",
        "import numpy as np\n",
        "%matplotlib inline\n",
        "from matplotlib import pyplot as plt\n",
        "from pandas import Series\n",
        "from pandas import DataFrame\n",
        "from pandas import concat\n",
        "\n",
        "# Train test split\n",
        "from sklearn.model_selection import TimeSeriesSplit\n",
        "\n",
        "\n",
        "# Models\n",
        "from sklearn.svm import LinearSVC\n",
        "from sklearn.ensemble import RandomForestRegressor\n",
        "\n",
        "# Model evaluators\n",
        "from sklearn.metrics import f1_score,confusion_matrix"
      ],
      "execution_count": 0,
      "outputs": []
    },
    {
      "metadata": {
        "id": "c6QtwVDVahmd",
        "colab_type": "text"
      },
      "cell_type": "markdown",
      "source": [
        "### Reading the Train Data"
      ]
    },
    {
      "metadata": {
        "id": "we2fw9bubBIO",
        "colab_type": "code",
        "outputId": "9c58bf7e-ca4f-48a6-f74f-0ea9f7945d23",
        "colab": {
          "base_uri": "https://localhost:8080/",
          "height": 377
        }
      },
      "cell_type": "code",
      "source": [
        "!wget https://www.dropbox.com/s/22nfk89c8hshxhs/Train.csv"
      ],
      "execution_count": 0,
      "outputs": [
        {
          "output_type": "stream",
          "text": [
            "--2018-11-11 19:14:15--  https://www.dropbox.com/s/22nfk89c8hshxhs/Train.csv\n",
            "Resolving www.dropbox.com (www.dropbox.com)... 162.125.7.1, 2620:100:601a:1::a27d:701\n",
            "Connecting to www.dropbox.com (www.dropbox.com)|162.125.7.1|:443... connected.\n",
            "HTTP request sent, awaiting response... 301 Moved Permanently\n",
            "Location: /s/raw/22nfk89c8hshxhs/Train.csv [following]\n",
            "--2018-11-11 19:14:15--  https://www.dropbox.com/s/raw/22nfk89c8hshxhs/Train.csv\n",
            "Reusing existing connection to www.dropbox.com:443.\n",
            "HTTP request sent, awaiting response... 302 Found\n",
            "Location: https://uc1e7ba61e2b44e0d9b0f2be9169.dl.dropboxusercontent.com/cd/0/inline/AVUV4NK_L_VfJ7KyJjKmJa6ecbArIgkpOYca2uUpWdPtMqo73rxwQggGwpyMl_0zXhi4xJZ0ba90NrDUwoMhm0Fc6uQ_HfnRFBk5u4_KBP5b1P792snWO8wcrDuEJDZuE66JwGEXZ1N7dzw8M7cltve4s4bSeZAnxtKKFvPl5FZmRJ54lX9UQgOBgX1I-lOLuL0/file [following]\n",
            "--2018-11-11 19:14:15--  https://uc1e7ba61e2b44e0d9b0f2be9169.dl.dropboxusercontent.com/cd/0/inline/AVUV4NK_L_VfJ7KyJjKmJa6ecbArIgkpOYca2uUpWdPtMqo73rxwQggGwpyMl_0zXhi4xJZ0ba90NrDUwoMhm0Fc6uQ_HfnRFBk5u4_KBP5b1P792snWO8wcrDuEJDZuE66JwGEXZ1N7dzw8M7cltve4s4bSeZAnxtKKFvPl5FZmRJ54lX9UQgOBgX1I-lOLuL0/file\n",
            "Resolving uc1e7ba61e2b44e0d9b0f2be9169.dl.dropboxusercontent.com (uc1e7ba61e2b44e0d9b0f2be9169.dl.dropboxusercontent.com)... 162.125.8.6, 2620:100:601a:6::a27d:706\n",
            "Connecting to uc1e7ba61e2b44e0d9b0f2be9169.dl.dropboxusercontent.com (uc1e7ba61e2b44e0d9b0f2be9169.dl.dropboxusercontent.com)|162.125.8.6|:443... connected.\n",
            "HTTP request sent, awaiting response... 200 OK\n",
            "Length: 67529 (66K) [text/plain]\n",
            "Saving to: ‘Train.csv.1’\n",
            "\n",
            "Train.csv.1         100%[===================>]  65.95K  --.-KB/s    in 0.09s   \n",
            "\n",
            "2018-11-11 19:14:15 (756 KB/s) - ‘Train.csv.1’ saved [67529/67529]\n",
            "\n"
          ],
          "name": "stdout"
        }
      ]
    },
    {
      "metadata": {
        "id": "25EZyfbOahme",
        "colab_type": "code",
        "outputId": "f4544439-588a-42d3-eae4-0c79be44a5df",
        "colab": {
          "base_uri": "https://localhost:8080/",
          "height": 221
        }
      },
      "cell_type": "code",
      "source": [
        "train = pd.read_csv(\"Train.csv\")\n",
        "train.info()"
      ],
      "execution_count": 0,
      "outputs": [
        {
          "output_type": "stream",
          "text": [
            "<class 'pandas.core.frame.DataFrame'>\n",
            "RangeIndex: 1226 entries, 0 to 1225\n",
            "Data columns (total 7 columns):\n",
            "Date             1226 non-null object\n",
            "Open             1226 non-null int64\n",
            "High             1226 non-null int64\n",
            "Low              1226 non-null int64\n",
            "Close            1226 non-null int64\n",
            "Volume           1226 non-null int64\n",
            "Stock Trading    1226 non-null int64\n",
            "dtypes: int64(6), object(1)\n",
            "memory usage: 67.1+ KB\n"
          ],
          "name": "stdout"
        }
      ]
    },
    {
      "metadata": {
        "id": "D7YJ-kQ8ahmm",
        "colab_type": "code",
        "outputId": "1de2f60e-7e80-4dd9-85d2-0aa54af4ba60",
        "colab": {
          "base_uri": "https://localhost:8080/",
          "height": 204
        }
      },
      "cell_type": "code",
      "source": [
        "train.head()"
      ],
      "execution_count": 0,
      "outputs": [
        {
          "output_type": "execute_result",
          "data": {
            "text/html": [
              "<div>\n",
              "<style scoped>\n",
              "    .dataframe tbody tr th:only-of-type {\n",
              "        vertical-align: middle;\n",
              "    }\n",
              "\n",
              "    .dataframe tbody tr th {\n",
              "        vertical-align: top;\n",
              "    }\n",
              "\n",
              "    .dataframe thead th {\n",
              "        text-align: right;\n",
              "    }\n",
              "</style>\n",
              "<table border=\"1\" class=\"dataframe\">\n",
              "  <thead>\n",
              "    <tr style=\"text-align: right;\">\n",
              "      <th></th>\n",
              "      <th>Date</th>\n",
              "      <th>Open</th>\n",
              "      <th>High</th>\n",
              "      <th>Low</th>\n",
              "      <th>Close</th>\n",
              "      <th>Volume</th>\n",
              "      <th>Stock Trading</th>\n",
              "    </tr>\n",
              "  </thead>\n",
              "  <tbody>\n",
              "    <tr>\n",
              "      <th>0</th>\n",
              "      <td>2016-12-30</td>\n",
              "      <td>42120</td>\n",
              "      <td>42330</td>\n",
              "      <td>41700</td>\n",
              "      <td>41830</td>\n",
              "      <td>610000</td>\n",
              "      <td>25628028000</td>\n",
              "    </tr>\n",
              "    <tr>\n",
              "      <th>1</th>\n",
              "      <td>2016-12-29</td>\n",
              "      <td>43000</td>\n",
              "      <td>43220</td>\n",
              "      <td>42540</td>\n",
              "      <td>42660</td>\n",
              "      <td>448400</td>\n",
              "      <td>19188227000</td>\n",
              "    </tr>\n",
              "    <tr>\n",
              "      <th>2</th>\n",
              "      <td>2016-12-28</td>\n",
              "      <td>43940</td>\n",
              "      <td>43970</td>\n",
              "      <td>43270</td>\n",
              "      <td>43270</td>\n",
              "      <td>339900</td>\n",
              "      <td>14780670000</td>\n",
              "    </tr>\n",
              "    <tr>\n",
              "      <th>3</th>\n",
              "      <td>2016-12-27</td>\n",
              "      <td>43140</td>\n",
              "      <td>43700</td>\n",
              "      <td>43140</td>\n",
              "      <td>43620</td>\n",
              "      <td>400100</td>\n",
              "      <td>17427993000</td>\n",
              "    </tr>\n",
              "    <tr>\n",
              "      <th>4</th>\n",
              "      <td>2016-12-26</td>\n",
              "      <td>43310</td>\n",
              "      <td>43660</td>\n",
              "      <td>43090</td>\n",
              "      <td>43340</td>\n",
              "      <td>358200</td>\n",
              "      <td>15547803000</td>\n",
              "    </tr>\n",
              "  </tbody>\n",
              "</table>\n",
              "</div>"
            ],
            "text/plain": [
              "         Date   Open   High    Low  Close  Volume  Stock Trading\n",
              "0  2016-12-30  42120  42330  41700  41830  610000    25628028000\n",
              "1  2016-12-29  43000  43220  42540  42660  448400    19188227000\n",
              "2  2016-12-28  43940  43970  43270  43270  339900    14780670000\n",
              "3  2016-12-27  43140  43700  43140  43620  400100    17427993000\n",
              "4  2016-12-26  43310  43660  43090  43340  358200    15547803000"
            ]
          },
          "metadata": {
            "tags": []
          },
          "execution_count": 40
        }
      ]
    },
    {
      "metadata": {
        "id": "5FKyklJKjI6w",
        "colab_type": "code",
        "colab": {}
      },
      "cell_type": "code",
      "source": [
        "train['Avg'] = train['Stock Trading'] / train['Volume']"
      ],
      "execution_count": 0,
      "outputs": []
    },
    {
      "metadata": {
        "id": "ya24lEaEahms",
        "colab_type": "code",
        "outputId": "af1c78e6-1b6d-4c7a-9906-d67ccacafc71",
        "colab": {
          "base_uri": "https://localhost:8080/",
          "height": 297
        }
      },
      "cell_type": "code",
      "source": [
        "train.describe()"
      ],
      "execution_count": 0,
      "outputs": [
        {
          "output_type": "execute_result",
          "data": {
            "text/html": [
              "<div>\n",
              "<style scoped>\n",
              "    .dataframe tbody tr th:only-of-type {\n",
              "        vertical-align: middle;\n",
              "    }\n",
              "\n",
              "    .dataframe tbody tr th {\n",
              "        vertical-align: top;\n",
              "    }\n",
              "\n",
              "    .dataframe thead th {\n",
              "        text-align: right;\n",
              "    }\n",
              "</style>\n",
              "<table border=\"1\" class=\"dataframe\">\n",
              "  <thead>\n",
              "    <tr style=\"text-align: right;\">\n",
              "      <th></th>\n",
              "      <th>Open</th>\n",
              "      <th>High</th>\n",
              "      <th>Low</th>\n",
              "      <th>Close</th>\n",
              "      <th>Volume</th>\n",
              "      <th>Stock Trading</th>\n",
              "      <th>Avg</th>\n",
              "    </tr>\n",
              "  </thead>\n",
              "  <tbody>\n",
              "    <tr>\n",
              "      <th>count</th>\n",
              "      <td>1226.000000</td>\n",
              "      <td>1226.000000</td>\n",
              "      <td>1226.000000</td>\n",
              "      <td>1226.000000</td>\n",
              "      <td>1.226000e+03</td>\n",
              "      <td>1.226000e+03</td>\n",
              "      <td>1226.000000</td>\n",
              "    </tr>\n",
              "    <tr>\n",
              "      <th>mean</th>\n",
              "      <td>33754.416803</td>\n",
              "      <td>34178.784666</td>\n",
              "      <td>33347.903752</td>\n",
              "      <td>33760.583197</td>\n",
              "      <td>7.275556e+05</td>\n",
              "      <td>2.440933e+10</td>\n",
              "      <td>33763.026423</td>\n",
              "    </tr>\n",
              "    <tr>\n",
              "      <th>std</th>\n",
              "      <td>10813.440409</td>\n",
              "      <td>10936.326802</td>\n",
              "      <td>10695.664102</td>\n",
              "      <td>10815.661389</td>\n",
              "      <td>4.137178e+05</td>\n",
              "      <td>1.526300e+10</td>\n",
              "      <td>10812.850207</td>\n",
              "    </tr>\n",
              "    <tr>\n",
              "      <th>min</th>\n",
              "      <td>13720.000000</td>\n",
              "      <td>13840.000000</td>\n",
              "      <td>13600.000000</td>\n",
              "      <td>13720.000000</td>\n",
              "      <td>1.391000e+05</td>\n",
              "      <td>3.966140e+09</td>\n",
              "      <td>13745.476051</td>\n",
              "    </tr>\n",
              "    <tr>\n",
              "      <th>25%</th>\n",
              "      <td>27788.750000</td>\n",
              "      <td>28091.250000</td>\n",
              "      <td>27401.250000</td>\n",
              "      <td>27675.000000</td>\n",
              "      <td>4.873000e+05</td>\n",
              "      <td>1.454097e+10</td>\n",
              "      <td>27754.215142</td>\n",
              "    </tr>\n",
              "    <tr>\n",
              "      <th>50%</th>\n",
              "      <td>34445.000000</td>\n",
              "      <td>34835.000000</td>\n",
              "      <td>33925.000000</td>\n",
              "      <td>34412.500000</td>\n",
              "      <td>6.260000e+05</td>\n",
              "      <td>2.153772e+10</td>\n",
              "      <td>34402.817572</td>\n",
              "    </tr>\n",
              "    <tr>\n",
              "      <th>75%</th>\n",
              "      <td>41412.500000</td>\n",
              "      <td>41900.000000</td>\n",
              "      <td>40810.000000</td>\n",
              "      <td>41365.000000</td>\n",
              "      <td>8.267000e+05</td>\n",
              "      <td>3.015922e+10</td>\n",
              "      <td>41362.554281</td>\n",
              "    </tr>\n",
              "    <tr>\n",
              "      <th>max</th>\n",
              "      <td>61550.000000</td>\n",
              "      <td>61970.000000</td>\n",
              "      <td>60740.000000</td>\n",
              "      <td>61930.000000</td>\n",
              "      <td>4.937300e+06</td>\n",
              "      <td>1.460450e+11</td>\n",
              "      <td>61515.769283</td>\n",
              "    </tr>\n",
              "  </tbody>\n",
              "</table>\n",
              "</div>"
            ],
            "text/plain": [
              "               Open          High           Low         Close        Volume  \\\n",
              "count   1226.000000   1226.000000   1226.000000   1226.000000  1.226000e+03   \n",
              "mean   33754.416803  34178.784666  33347.903752  33760.583197  7.275556e+05   \n",
              "std    10813.440409  10936.326802  10695.664102  10815.661389  4.137178e+05   \n",
              "min    13720.000000  13840.000000  13600.000000  13720.000000  1.391000e+05   \n",
              "25%    27788.750000  28091.250000  27401.250000  27675.000000  4.873000e+05   \n",
              "50%    34445.000000  34835.000000  33925.000000  34412.500000  6.260000e+05   \n",
              "75%    41412.500000  41900.000000  40810.000000  41365.000000  8.267000e+05   \n",
              "max    61550.000000  61970.000000  60740.000000  61930.000000  4.937300e+06   \n",
              "\n",
              "       Stock Trading           Avg  \n",
              "count   1.226000e+03   1226.000000  \n",
              "mean    2.440933e+10  33763.026423  \n",
              "std     1.526300e+10  10812.850207  \n",
              "min     3.966140e+09  13745.476051  \n",
              "25%     1.454097e+10  27754.215142  \n",
              "50%     2.153772e+10  34402.817572  \n",
              "75%     3.015922e+10  41362.554281  \n",
              "max     1.460450e+11  61515.769283  "
            ]
          },
          "metadata": {
            "tags": []
          },
          "execution_count": 42
        }
      ]
    },
    {
      "metadata": {
        "id": "HMfCJhBPahmy",
        "colab_type": "code",
        "outputId": "ce163a54-c9b6-451c-ee4d-dbeccd4a03f2",
        "colab": {
          "base_uri": "https://localhost:8080/",
          "height": 204
        }
      },
      "cell_type": "code",
      "source": [
        "train.head()"
      ],
      "execution_count": 0,
      "outputs": [
        {
          "output_type": "execute_result",
          "data": {
            "text/html": [
              "<div>\n",
              "<style scoped>\n",
              "    .dataframe tbody tr th:only-of-type {\n",
              "        vertical-align: middle;\n",
              "    }\n",
              "\n",
              "    .dataframe tbody tr th {\n",
              "        vertical-align: top;\n",
              "    }\n",
              "\n",
              "    .dataframe thead th {\n",
              "        text-align: right;\n",
              "    }\n",
              "</style>\n",
              "<table border=\"1\" class=\"dataframe\">\n",
              "  <thead>\n",
              "    <tr style=\"text-align: right;\">\n",
              "      <th></th>\n",
              "      <th>Date</th>\n",
              "      <th>Open</th>\n",
              "      <th>High</th>\n",
              "      <th>Low</th>\n",
              "      <th>Close</th>\n",
              "      <th>Volume</th>\n",
              "      <th>Stock Trading</th>\n",
              "      <th>Avg</th>\n",
              "    </tr>\n",
              "  </thead>\n",
              "  <tbody>\n",
              "    <tr>\n",
              "      <th>0</th>\n",
              "      <td>2016-12-30</td>\n",
              "      <td>42120</td>\n",
              "      <td>42330</td>\n",
              "      <td>41700</td>\n",
              "      <td>41830</td>\n",
              "      <td>610000</td>\n",
              "      <td>25628028000</td>\n",
              "      <td>42013.160656</td>\n",
              "    </tr>\n",
              "    <tr>\n",
              "      <th>1</th>\n",
              "      <td>2016-12-29</td>\n",
              "      <td>43000</td>\n",
              "      <td>43220</td>\n",
              "      <td>42540</td>\n",
              "      <td>42660</td>\n",
              "      <td>448400</td>\n",
              "      <td>19188227000</td>\n",
              "      <td>42792.656111</td>\n",
              "    </tr>\n",
              "    <tr>\n",
              "      <th>2</th>\n",
              "      <td>2016-12-28</td>\n",
              "      <td>43940</td>\n",
              "      <td>43970</td>\n",
              "      <td>43270</td>\n",
              "      <td>43270</td>\n",
              "      <td>339900</td>\n",
              "      <td>14780670000</td>\n",
              "      <td>43485.348632</td>\n",
              "    </tr>\n",
              "    <tr>\n",
              "      <th>3</th>\n",
              "      <td>2016-12-27</td>\n",
              "      <td>43140</td>\n",
              "      <td>43700</td>\n",
              "      <td>43140</td>\n",
              "      <td>43620</td>\n",
              "      <td>400100</td>\n",
              "      <td>17427993000</td>\n",
              "      <td>43559.092727</td>\n",
              "    </tr>\n",
              "    <tr>\n",
              "      <th>4</th>\n",
              "      <td>2016-12-26</td>\n",
              "      <td>43310</td>\n",
              "      <td>43660</td>\n",
              "      <td>43090</td>\n",
              "      <td>43340</td>\n",
              "      <td>358200</td>\n",
              "      <td>15547803000</td>\n",
              "      <td>43405.368509</td>\n",
              "    </tr>\n",
              "  </tbody>\n",
              "</table>\n",
              "</div>"
            ],
            "text/plain": [
              "         Date   Open   High    Low  Close  Volume  Stock Trading           Avg\n",
              "0  2016-12-30  42120  42330  41700  41830  610000    25628028000  42013.160656\n",
              "1  2016-12-29  43000  43220  42540  42660  448400    19188227000  42792.656111\n",
              "2  2016-12-28  43940  43970  43270  43270  339900    14780670000  43485.348632\n",
              "3  2016-12-27  43140  43700  43140  43620  400100    17427993000  43559.092727\n",
              "4  2016-12-26  43310  43660  43090  43340  358200    15547803000  43405.368509"
            ]
          },
          "metadata": {
            "tags": []
          },
          "execution_count": 43
        }
      ]
    },
    {
      "metadata": {
        "id": "ywlVAdDMkRU3",
        "colab_type": "code",
        "outputId": "92a351cd-511d-4b00-e345-bcc0a230f5e3",
        "colab": {
          "base_uri": "https://localhost:8080/",
          "height": 204
        }
      },
      "cell_type": "code",
      "source": [
        "train.tail()"
      ],
      "execution_count": 0,
      "outputs": [
        {
          "output_type": "execute_result",
          "data": {
            "text/html": [
              "<div>\n",
              "<style scoped>\n",
              "    .dataframe tbody tr th:only-of-type {\n",
              "        vertical-align: middle;\n",
              "    }\n",
              "\n",
              "    .dataframe tbody tr th {\n",
              "        vertical-align: top;\n",
              "    }\n",
              "\n",
              "    .dataframe thead th {\n",
              "        text-align: right;\n",
              "    }\n",
              "</style>\n",
              "<table border=\"1\" class=\"dataframe\">\n",
              "  <thead>\n",
              "    <tr style=\"text-align: right;\">\n",
              "      <th></th>\n",
              "      <th>Date</th>\n",
              "      <th>Open</th>\n",
              "      <th>High</th>\n",
              "      <th>Low</th>\n",
              "      <th>Close</th>\n",
              "      <th>Volume</th>\n",
              "      <th>Stock Trading</th>\n",
              "      <th>Avg</th>\n",
              "    </tr>\n",
              "  </thead>\n",
              "  <tbody>\n",
              "    <tr>\n",
              "      <th>1221</th>\n",
              "      <td>2012-01-11</td>\n",
              "      <td>14360</td>\n",
              "      <td>14750</td>\n",
              "      <td>14280</td>\n",
              "      <td>14590</td>\n",
              "      <td>1043400</td>\n",
              "      <td>15191988000</td>\n",
              "      <td>14560.080506</td>\n",
              "    </tr>\n",
              "    <tr>\n",
              "      <th>1222</th>\n",
              "      <td>2012-01-10</td>\n",
              "      <td>13890</td>\n",
              "      <td>14390</td>\n",
              "      <td>13860</td>\n",
              "      <td>14390</td>\n",
              "      <td>952300</td>\n",
              "      <td>13533413000</td>\n",
              "      <td>14211.291610</td>\n",
              "    </tr>\n",
              "    <tr>\n",
              "      <th>1223</th>\n",
              "      <td>2012-01-06</td>\n",
              "      <td>13990</td>\n",
              "      <td>14030</td>\n",
              "      <td>13790</td>\n",
              "      <td>13850</td>\n",
              "      <td>765500</td>\n",
              "      <td>10635609000</td>\n",
              "      <td>13893.676029</td>\n",
              "    </tr>\n",
              "    <tr>\n",
              "      <th>1224</th>\n",
              "      <td>2012-01-05</td>\n",
              "      <td>13720</td>\n",
              "      <td>13840</td>\n",
              "      <td>13600</td>\n",
              "      <td>13800</td>\n",
              "      <td>511500</td>\n",
              "      <td>7030811000</td>\n",
              "      <td>13745.476051</td>\n",
              "    </tr>\n",
              "    <tr>\n",
              "      <th>1225</th>\n",
              "      <td>2012-01-04</td>\n",
              "      <td>14050</td>\n",
              "      <td>14050</td>\n",
              "      <td>13700</td>\n",
              "      <td>13720</td>\n",
              "      <td>559100</td>\n",
              "      <td>7719804000</td>\n",
              "      <td>13807.554999</td>\n",
              "    </tr>\n",
              "  </tbody>\n",
              "</table>\n",
              "</div>"
            ],
            "text/plain": [
              "            Date   Open   High    Low  Close   Volume  Stock Trading  \\\n",
              "1221  2012-01-11  14360  14750  14280  14590  1043400    15191988000   \n",
              "1222  2012-01-10  13890  14390  13860  14390   952300    13533413000   \n",
              "1223  2012-01-06  13990  14030  13790  13850   765500    10635609000   \n",
              "1224  2012-01-05  13720  13840  13600  13800   511500     7030811000   \n",
              "1225  2012-01-04  14050  14050  13700  13720   559100     7719804000   \n",
              "\n",
              "               Avg  \n",
              "1221  14560.080506  \n",
              "1222  14211.291610  \n",
              "1223  13893.676029  \n",
              "1224  13745.476051  \n",
              "1225  13807.554999  "
            ]
          },
          "metadata": {
            "tags": []
          },
          "execution_count": 44
        }
      ]
    },
    {
      "metadata": {
        "id": "L0Kpnf09ahm6",
        "colab_type": "code",
        "outputId": "05480340-8f3e-417c-f8b1-6dad202f53ed",
        "colab": {
          "base_uri": "https://localhost:8080/",
          "height": 282
        }
      },
      "cell_type": "code",
      "source": [
        "train['Open'].plot(color='k')"
      ],
      "execution_count": 0,
      "outputs": [
        {
          "output_type": "execute_result",
          "data": {
            "text/plain": [
              "<matplotlib.axes._subplots.AxesSubplot at 0x7fc477680e10>"
            ]
          },
          "metadata": {
            "tags": []
          },
          "execution_count": 45
        },
        {
          "output_type": "display_data",
          "data": {
            "image/png": "[encoded data removed]",
            "text/plain": [
              "<matplotlib.figure.Figure at 0x7fc477680550>"
            ]
          },
          "metadata": {
            "tags": []
          }
        }
      ]
    },
    {
      "metadata": {
        "id": "eOUJqOlNahnA",
        "colab_type": "code",
        "outputId": "dd1ee0cf-5d4e-48b0-adde-11e8de5283db",
        "colab": {
          "base_uri": "https://localhost:8080/",
          "height": 204
        }
      },
      "cell_type": "code",
      "source": [
        " train.head()"
      ],
      "execution_count": 0,
      "outputs": [
        {
          "output_type": "execute_result",
          "data": {
            "text/html": [
              "<div>\n",
              "<style scoped>\n",
              "    .dataframe tbody tr th:only-of-type {\n",
              "        vertical-align: middle;\n",
              "    }\n",
              "\n",
              "    .dataframe tbody tr th {\n",
              "        vertical-align: top;\n",
              "    }\n",
              "\n",
              "    .dataframe thead th {\n",
              "        text-align: right;\n",
              "    }\n",
              "</style>\n",
              "<table border=\"1\" class=\"dataframe\">\n",
              "  <thead>\n",
              "    <tr style=\"text-align: right;\">\n",
              "      <th></th>\n",
              "      <th>Date</th>\n",
              "      <th>Open</th>\n",
              "      <th>High</th>\n",
              "      <th>Low</th>\n",
              "      <th>Close</th>\n",
              "      <th>Volume</th>\n",
              "      <th>Stock Trading</th>\n",
              "      <th>Avg</th>\n",
              "    </tr>\n",
              "  </thead>\n",
              "  <tbody>\n",
              "    <tr>\n",
              "      <th>0</th>\n",
              "      <td>2016-12-30</td>\n",
              "      <td>42120</td>\n",
              "      <td>42330</td>\n",
              "      <td>41700</td>\n",
              "      <td>41830</td>\n",
              "      <td>610000</td>\n",
              "      <td>25628028000</td>\n",
              "      <td>42013.160656</td>\n",
              "    </tr>\n",
              "    <tr>\n",
              "      <th>1</th>\n",
              "      <td>2016-12-29</td>\n",
              "      <td>43000</td>\n",
              "      <td>43220</td>\n",
              "      <td>42540</td>\n",
              "      <td>42660</td>\n",
              "      <td>448400</td>\n",
              "      <td>19188227000</td>\n",
              "      <td>42792.656111</td>\n",
              "    </tr>\n",
              "    <tr>\n",
              "      <th>2</th>\n",
              "      <td>2016-12-28</td>\n",
              "      <td>43940</td>\n",
              "      <td>43970</td>\n",
              "      <td>43270</td>\n",
              "      <td>43270</td>\n",
              "      <td>339900</td>\n",
              "      <td>14780670000</td>\n",
              "      <td>43485.348632</td>\n",
              "    </tr>\n",
              "    <tr>\n",
              "      <th>3</th>\n",
              "      <td>2016-12-27</td>\n",
              "      <td>43140</td>\n",
              "      <td>43700</td>\n",
              "      <td>43140</td>\n",
              "      <td>43620</td>\n",
              "      <td>400100</td>\n",
              "      <td>17427993000</td>\n",
              "      <td>43559.092727</td>\n",
              "    </tr>\n",
              "    <tr>\n",
              "      <th>4</th>\n",
              "      <td>2016-12-26</td>\n",
              "      <td>43310</td>\n",
              "      <td>43660</td>\n",
              "      <td>43090</td>\n",
              "      <td>43340</td>\n",
              "      <td>358200</td>\n",
              "      <td>15547803000</td>\n",
              "      <td>43405.368509</td>\n",
              "    </tr>\n",
              "  </tbody>\n",
              "</table>\n",
              "</div>"
            ],
            "text/plain": [
              "         Date   Open   High    Low  Close  Volume  Stock Trading           Avg\n",
              "0  2016-12-30  42120  42330  41700  41830  610000    25628028000  42013.160656\n",
              "1  2016-12-29  43000  43220  42540  42660  448400    19188227000  42792.656111\n",
              "2  2016-12-28  43940  43970  43270  43270  339900    14780670000  43485.348632\n",
              "3  2016-12-27  43140  43700  43140  43620  400100    17427993000  43559.092727\n",
              "4  2016-12-26  43310  43660  43090  43340  358200    15547803000  43405.368509"
            ]
          },
          "metadata": {
            "tags": []
          },
          "execution_count": 46
        }
      ]
    },
    {
      "metadata": {
        "id": "t1n36SKaahnH",
        "colab_type": "text"
      },
      "cell_type": "markdown",
      "source": [
        "Seperating the DateTime field to data, month and year into different columns."
      ]
    },
    {
      "metadata": {
        "id": "LoLdRMarahnI",
        "colab_type": "code",
        "colab": {}
      },
      "cell_type": "code",
      "source": [
        "train['Year'] = pd.DatetimeIndex(train['Date']).year\n",
        "train['Month'] = pd.DatetimeIndex(train['Date']).month\n",
        "train['Day'] = pd.DatetimeIndex(train['Date']).day"
      ],
      "execution_count": 0,
      "outputs": []
    },
    {
      "metadata": {
        "id": "5GCYHdZ4ahnN",
        "colab_type": "code",
        "outputId": "516df25e-c004-4b2a-a292-9c15c82373ab",
        "colab": {
          "base_uri": "https://localhost:8080/",
          "height": 204
        }
      },
      "cell_type": "code",
      "source": [
        "train.head()"
      ],
      "execution_count": 0,
      "outputs": [
        {
          "output_type": "execute_result",
          "data": {
            "text/html": [
              "<div>\n",
              "<style scoped>\n",
              "    .dataframe tbody tr th:only-of-type {\n",
              "        vertical-align: middle;\n",
              "    }\n",
              "\n",
              "    .dataframe tbody tr th {\n",
              "        vertical-align: top;\n",
              "    }\n",
              "\n",
              "    .dataframe thead th {\n",
              "        text-align: right;\n",
              "    }\n",
              "</style>\n",
              "<table border=\"1\" class=\"dataframe\">\n",
              "  <thead>\n",
              "    <tr style=\"text-align: right;\">\n",
              "      <th></th>\n",
              "      <th>Date</th>\n",
              "      <th>Open</th>\n",
              "      <th>High</th>\n",
              "      <th>Low</th>\n",
              "      <th>Close</th>\n",
              "      <th>Volume</th>\n",
              "      <th>Stock Trading</th>\n",
              "      <th>Avg</th>\n",
              "      <th>Year</th>\n",
              "      <th>Month</th>\n",
              "      <th>Day</th>\n",
              "    </tr>\n",
              "  </thead>\n",
              "  <tbody>\n",
              "    <tr>\n",
              "      <th>0</th>\n",
              "      <td>2016-12-30</td>\n",
              "      <td>42120</td>\n",
              "      <td>42330</td>\n",
              "      <td>41700</td>\n",
              "      <td>41830</td>\n",
              "      <td>610000</td>\n",
              "      <td>25628028000</td>\n",
              "      <td>42013.160656</td>\n",
              "      <td>2016</td>\n",
              "      <td>12</td>\n",
              "      <td>30</td>\n",
              "    </tr>\n",
              "    <tr>\n",
              "      <th>1</th>\n",
              "      <td>2016-12-29</td>\n",
              "      <td>43000</td>\n",
              "      <td>43220</td>\n",
              "      <td>42540</td>\n",
              "      <td>42660</td>\n",
              "      <td>448400</td>\n",
              "      <td>19188227000</td>\n",
              "      <td>42792.656111</td>\n",
              "      <td>2016</td>\n",
              "      <td>12</td>\n",
              "      <td>29</td>\n",
              "    </tr>\n",
              "    <tr>\n",
              "      <th>2</th>\n",
              "      <td>2016-12-28</td>\n",
              "      <td>43940</td>\n",
              "      <td>43970</td>\n",
              "      <td>43270</td>\n",
              "      <td>43270</td>\n",
              "      <td>339900</td>\n",
              "      <td>14780670000</td>\n",
              "      <td>43485.348632</td>\n",
              "      <td>2016</td>\n",
              "      <td>12</td>\n",
              "      <td>28</td>\n",
              "    </tr>\n",
              "    <tr>\n",
              "      <th>3</th>\n",
              "      <td>2016-12-27</td>\n",
              "      <td>43140</td>\n",
              "      <td>43700</td>\n",
              "      <td>43140</td>\n",
              "      <td>43620</td>\n",
              "      <td>400100</td>\n",
              "      <td>17427993000</td>\n",
              "      <td>43559.092727</td>\n",
              "      <td>2016</td>\n",
              "      <td>12</td>\n",
              "      <td>27</td>\n",
              "    </tr>\n",
              "    <tr>\n",
              "      <th>4</th>\n",
              "      <td>2016-12-26</td>\n",
              "      <td>43310</td>\n",
              "      <td>43660</td>\n",
              "      <td>43090</td>\n",
              "      <td>43340</td>\n",
              "      <td>358200</td>\n",
              "      <td>15547803000</td>\n",
              "      <td>43405.368509</td>\n",
              "      <td>2016</td>\n",
              "      <td>12</td>\n",
              "      <td>26</td>\n",
              "    </tr>\n",
              "  </tbody>\n",
              "</table>\n",
              "</div>"
            ],
            "text/plain": [
              "         Date   Open   High    Low  Close  Volume  Stock Trading  \\\n",
              "0  2016-12-30  42120  42330  41700  41830  610000    25628028000   \n",
              "1  2016-12-29  43000  43220  42540  42660  448400    19188227000   \n",
              "2  2016-12-28  43940  43970  43270  43270  339900    14780670000   \n",
              "3  2016-12-27  43140  43700  43140  43620  400100    17427993000   \n",
              "4  2016-12-26  43310  43660  43090  43340  358200    15547803000   \n",
              "\n",
              "            Avg  Year  Month  Day  \n",
              "0  42013.160656  2016     12   30  \n",
              "1  42792.656111  2016     12   29  \n",
              "2  43485.348632  2016     12   28  \n",
              "3  43559.092727  2016     12   27  \n",
              "4  43405.368509  2016     12   26  "
            ]
          },
          "metadata": {
            "tags": []
          },
          "execution_count": 20
        }
      ]
    },
    {
      "metadata": {
        "id": "2aZcT9O7ahnT",
        "colab_type": "text"
      },
      "cell_type": "markdown",
      "source": [
        "Function for dropping of unnecesary features or redundant features"
      ]
    },
    {
      "metadata": {
        "id": "Y0U1HvkQahnT",
        "colab_type": "code",
        "colab": {}
      },
      "cell_type": "code",
      "source": [
        "def drop_features(features,data):\n",
        "    data.drop(features,inplace=True,axis=1)"
      ],
      "execution_count": 0,
      "outputs": []
    },
    {
      "metadata": {
        "id": "_lE5WE1EahnY",
        "colab_type": "code",
        "colab": {}
      },
      "cell_type": "code",
      "source": [
        "drop_features(['Date'],train)"
      ],
      "execution_count": 0,
      "outputs": []
    },
    {
      "metadata": {
        "id": "IBYhH4Z_ahnc",
        "colab_type": "text"
      },
      "cell_type": "markdown",
      "source": [
        "### Applying the TimeSeries Feature Engineering\n",
        "#### Lag Features"
      ]
    },
    {
      "metadata": {
        "id": "Q6dQsR-Pahne",
        "colab_type": "code",
        "outputId": "325cf2a6-ec91-4fcc-d392-840db439e024",
        "colab": {
          "base_uri": "https://localhost:8080/",
          "height": 272
        }
      },
      "cell_type": "code",
      "source": [
        "train.info()"
      ],
      "execution_count": 0,
      "outputs": [
        {
          "output_type": "stream",
          "text": [
            "<class 'pandas.core.frame.DataFrame'>\n",
            "RangeIndex: 1226 entries, 0 to 1225\n",
            "Data columns (total 10 columns):\n",
            "Open             1226 non-null int64\n",
            "High             1226 non-null int64\n",
            "Low              1226 non-null int64\n",
            "Close            1226 non-null int64\n",
            "Volume           1226 non-null int64\n",
            "Stock Trading    1226 non-null int64\n",
            "Avg              1226 non-null float64\n",
            "Year             1226 non-null int64\n",
            "Month            1226 non-null int64\n",
            "Day              1226 non-null int64\n",
            "dtypes: float64(1), int64(9)\n",
            "memory usage: 95.9 KB\n"
          ],
          "name": "stdout"
        }
      ]
    },
    {
      "metadata": {
        "id": "5zjNhjLTahnm",
        "colab_type": "code",
        "colab": {}
      },
      "cell_type": "code",
      "source": [
        "open_vals = Series(train['Open'])"
      ],
      "execution_count": 0,
      "outputs": []
    },
    {
      "metadata": {
        "id": "RiSVvGW9ahnp",
        "colab_type": "code",
        "outputId": "c89912f0-dfa0-495a-a5a8-8b02301816b4",
        "colab": {
          "base_uri": "https://localhost:8080/",
          "height": 119
        }
      },
      "cell_type": "code",
      "source": [
        "open_vals.head()"
      ],
      "execution_count": 0,
      "outputs": [
        {
          "output_type": "execute_result",
          "data": {
            "text/plain": [
              "0    42120\n",
              "1    43000\n",
              "2    43940\n",
              "3    43140\n",
              "4    43310\n",
              "Name: Open, dtype: int64"
            ]
          },
          "metadata": {
            "tags": []
          },
          "execution_count": 52
        }
      ]
    },
    {
      "metadata": {
        "id": "EhLrlfWOahnt",
        "colab_type": "code",
        "outputId": "dc604991-7dd4-4aed-fc4c-8d1b07a1dd6a",
        "colab": {
          "base_uri": "https://localhost:8080/",
          "height": 119
        }
      },
      "cell_type": "code",
      "source": [
        "open_vals.shift(-1).head()"
      ],
      "execution_count": 0,
      "outputs": [
        {
          "output_type": "execute_result",
          "data": {
            "text/plain": [
              "0    43000.0\n",
              "1    43940.0\n",
              "2    43140.0\n",
              "3    43310.0\n",
              "4    43660.0\n",
              "Name: Open, dtype: float64"
            ]
          },
          "metadata": {
            "tags": []
          },
          "execution_count": 53
        }
      ]
    },
    {
      "metadata": {
        "id": "lvkVZvyYSk6a",
        "colab_type": "code",
        "outputId": "0d31c552-b609-4cdb-9748-0bf7d9ffa65d",
        "colab": {
          "base_uri": "https://localhost:8080/",
          "height": 119
        }
      },
      "cell_type": "code",
      "source": [
        "open_vals.shift(-1).tail()"
      ],
      "execution_count": 0,
      "outputs": [
        {
          "output_type": "execute_result",
          "data": {
            "text/plain": [
              "1221    13890.0\n",
              "1222    13990.0\n",
              "1223    13720.0\n",
              "1224    14050.0\n",
              "1225        NaN\n",
              "Name: Open, dtype: float64"
            ]
          },
          "metadata": {
            "tags": []
          },
          "execution_count": 54
        }
      ]
    },
    {
      "metadata": {
        "id": "kw1F8DtZahn1",
        "colab_type": "code",
        "outputId": "2c15532c-e17b-4f5b-cb13-267cb8430491",
        "colab": {
          "base_uri": "https://localhost:8080/",
          "height": 34
        }
      },
      "cell_type": "code",
      "source": [
        "#Applying Lag Features to Opening Price\n",
        "open1 = Series(train['Open'])\n",
        "open_dataframe = concat([open1.shift(-3), open1.shift(-2), open1.shift(-1)], axis=1)\n",
        "open_dataframe.columns = ['O_t-3', 'O_t-2', 'O_t-1']\n",
        "open_dataframe.shape"
      ],
      "execution_count": 0,
      "outputs": [
        {
          "output_type": "execute_result",
          "data": {
            "text/plain": [
              "(1226, 3)"
            ]
          },
          "metadata": {
            "tags": []
          },
          "execution_count": 55
        }
      ]
    },
    {
      "metadata": {
        "id": "qRQxFeKYahn5",
        "colab_type": "code",
        "outputId": "c5193f6b-0838-4bcf-966d-7b51772987cf",
        "colab": {
          "base_uri": "https://localhost:8080/",
          "height": 204
        }
      },
      "cell_type": "code",
      "source": [
        "open_dataframe.head()"
      ],
      "execution_count": 0,
      "outputs": [
        {
          "output_type": "execute_result",
          "data": {
            "text/html": [
              "<div>\n",
              "<style scoped>\n",
              "    .dataframe tbody tr th:only-of-type {\n",
              "        vertical-align: middle;\n",
              "    }\n",
              "\n",
              "    .dataframe tbody tr th {\n",
              "        vertical-align: top;\n",
              "    }\n",
              "\n",
              "    .dataframe thead th {\n",
              "        text-align: right;\n",
              "    }\n",
              "</style>\n",
              "<table border=\"1\" class=\"dataframe\">\n",
              "  <thead>\n",
              "    <tr style=\"text-align: right;\">\n",
              "      <th></th>\n",
              "      <th>O_t-3</th>\n",
              "      <th>O_t-2</th>\n",
              "      <th>O_t-1</th>\n",
              "    </tr>\n",
              "  </thead>\n",
              "  <tbody>\n",
              "    <tr>\n",
              "      <th>0</th>\n",
              "      <td>43140.0</td>\n",
              "      <td>43940.0</td>\n",
              "      <td>43000.0</td>\n",
              "    </tr>\n",
              "    <tr>\n",
              "      <th>1</th>\n",
              "      <td>43310.0</td>\n",
              "      <td>43140.0</td>\n",
              "      <td>43940.0</td>\n",
              "    </tr>\n",
              "    <tr>\n",
              "      <th>2</th>\n",
              "      <td>43660.0</td>\n",
              "      <td>43310.0</td>\n",
              "      <td>43140.0</td>\n",
              "    </tr>\n",
              "    <tr>\n",
              "      <th>3</th>\n",
              "      <td>43900.0</td>\n",
              "      <td>43660.0</td>\n",
              "      <td>43310.0</td>\n",
              "    </tr>\n",
              "    <tr>\n",
              "      <th>4</th>\n",
              "      <td>42910.0</td>\n",
              "      <td>43900.0</td>\n",
              "      <td>43660.0</td>\n",
              "    </tr>\n",
              "  </tbody>\n",
              "</table>\n",
              "</div>"
            ],
            "text/plain": [
              "     O_t-3    O_t-2    O_t-1\n",
              "0  43140.0  43940.0  43000.0\n",
              "1  43310.0  43140.0  43940.0\n",
              "2  43660.0  43310.0  43140.0\n",
              "3  43900.0  43660.0  43310.0\n",
              "4  42910.0  43900.0  43660.0"
            ]
          },
          "metadata": {
            "tags": []
          },
          "execution_count": 56
        }
      ]
    },
    {
      "metadata": {
        "id": "7hevx1eTahoC",
        "colab_type": "code",
        "colab": {}
      },
      "cell_type": "code",
      "source": [
        "#combining the train data and the lag features of Temp\n",
        "train1 = pd.concat([train, open_dataframe], axis=1)"
      ],
      "execution_count": 0,
      "outputs": []
    },
    {
      "metadata": {
        "id": "aIa9We5MahoG",
        "colab_type": "code",
        "outputId": "f1e16711-cd00-40f4-d5a0-5de858ba3715",
        "colab": {
          "base_uri": "https://localhost:8080/",
          "height": 204
        }
      },
      "cell_type": "code",
      "source": [
        "train1.head()"
      ],
      "execution_count": 0,
      "outputs": [
        {
          "output_type": "execute_result",
          "data": {
            "text/html": [
              "<div>\n",
              "<style scoped>\n",
              "    .dataframe tbody tr th:only-of-type {\n",
              "        vertical-align: middle;\n",
              "    }\n",
              "\n",
              "    .dataframe tbody tr th {\n",
              "        vertical-align: top;\n",
              "    }\n",
              "\n",
              "    .dataframe thead th {\n",
              "        text-align: right;\n",
              "    }\n",
              "</style>\n",
              "<table border=\"1\" class=\"dataframe\">\n",
              "  <thead>\n",
              "    <tr style=\"text-align: right;\">\n",
              "      <th></th>\n",
              "      <th>Open</th>\n",
              "      <th>High</th>\n",
              "      <th>Low</th>\n",
              "      <th>Close</th>\n",
              "      <th>Volume</th>\n",
              "      <th>Stock Trading</th>\n",
              "      <th>Avg</th>\n",
              "      <th>Year</th>\n",
              "      <th>Month</th>\n",
              "      <th>Day</th>\n",
              "      <th>O_t-3</th>\n",
              "      <th>O_t-2</th>\n",
              "      <th>O_t-1</th>\n",
              "      <th>C_t-3</th>\n",
              "      <th>C_t-2</th>\n",
              "      <th>C_t-1</th>\n",
              "    </tr>\n",
              "  </thead>\n",
              "  <tbody>\n",
              "    <tr>\n",
              "      <th>0</th>\n",
              "      <td>42120</td>\n",
              "      <td>42330</td>\n",
              "      <td>41700</td>\n",
              "      <td>41830</td>\n",
              "      <td>610000</td>\n",
              "      <td>25628028000</td>\n",
              "      <td>42013.160656</td>\n",
              "      <td>2016</td>\n",
              "      <td>12</td>\n",
              "      <td>30</td>\n",
              "      <td>43140.0</td>\n",
              "      <td>43940.0</td>\n",
              "      <td>43000.0</td>\n",
              "      <td>43620.0</td>\n",
              "      <td>43270.0</td>\n",
              "      <td>42660.0</td>\n",
              "    </tr>\n",
              "    <tr>\n",
              "      <th>1</th>\n",
              "      <td>43000</td>\n",
              "      <td>43220</td>\n",
              "      <td>42540</td>\n",
              "      <td>42660</td>\n",
              "      <td>448400</td>\n",
              "      <td>19188227000</td>\n",
              "      <td>42792.656111</td>\n",
              "      <td>2016</td>\n",
              "      <td>12</td>\n",
              "      <td>29</td>\n",
              "      <td>43310.0</td>\n",
              "      <td>43140.0</td>\n",
              "      <td>43940.0</td>\n",
              "      <td>43340.0</td>\n",
              "      <td>43620.0</td>\n",
              "      <td>43270.0</td>\n",
              "    </tr>\n",
              "    <tr>\n",
              "      <th>2</th>\n",
              "      <td>43940</td>\n",
              "      <td>43970</td>\n",
              "      <td>43270</td>\n",
              "      <td>43270</td>\n",
              "      <td>339900</td>\n",
              "      <td>14780670000</td>\n",
              "      <td>43485.348632</td>\n",
              "      <td>2016</td>\n",
              "      <td>12</td>\n",
              "      <td>28</td>\n",
              "      <td>43660.0</td>\n",
              "      <td>43310.0</td>\n",
              "      <td>43140.0</td>\n",
              "      <td>43480.0</td>\n",
              "      <td>43340.0</td>\n",
              "      <td>43620.0</td>\n",
              "    </tr>\n",
              "    <tr>\n",
              "      <th>3</th>\n",
              "      <td>43140</td>\n",
              "      <td>43700</td>\n",
              "      <td>43140</td>\n",
              "      <td>43620</td>\n",
              "      <td>400100</td>\n",
              "      <td>17427993000</td>\n",
              "      <td>43559.092727</td>\n",
              "      <td>2016</td>\n",
              "      <td>12</td>\n",
              "      <td>27</td>\n",
              "      <td>43900.0</td>\n",
              "      <td>43660.0</td>\n",
              "      <td>43310.0</td>\n",
              "      <td>44000.0</td>\n",
              "      <td>43480.0</td>\n",
              "      <td>43340.0</td>\n",
              "    </tr>\n",
              "    <tr>\n",
              "      <th>4</th>\n",
              "      <td>43310</td>\n",
              "      <td>43660</td>\n",
              "      <td>43090</td>\n",
              "      <td>43340</td>\n",
              "      <td>358200</td>\n",
              "      <td>15547803000</td>\n",
              "      <td>43405.368509</td>\n",
              "      <td>2016</td>\n",
              "      <td>12</td>\n",
              "      <td>26</td>\n",
              "      <td>42910.0</td>\n",
              "      <td>43900.0</td>\n",
              "      <td>43660.0</td>\n",
              "      <td>43620.0</td>\n",
              "      <td>44000.0</td>\n",
              "      <td>43480.0</td>\n",
              "    </tr>\n",
              "  </tbody>\n",
              "</table>\n",
              "</div>"
            ],
            "text/plain": [
              "    Open   High    Low  Close  Volume  Stock Trading           Avg  Year  \\\n",
              "0  42120  42330  41700  41830  610000    25628028000  42013.160656  2016   \n",
              "1  43000  43220  42540  42660  448400    19188227000  42792.656111  2016   \n",
              "2  43940  43970  43270  43270  339900    14780670000  43485.348632  2016   \n",
              "3  43140  43700  43140  43620  400100    17427993000  43559.092727  2016   \n",
              "4  43310  43660  43090  43340  358200    15547803000  43405.368509  2016   \n",
              "\n",
              "   Month  Day    O_t-3    O_t-2    O_t-1    C_t-3    C_t-2    C_t-1  \n",
              "0     12   30  43140.0  43940.0  43000.0  43620.0  43270.0  42660.0  \n",
              "1     12   29  43310.0  43140.0  43940.0  43340.0  43620.0  43270.0  \n",
              "2     12   28  43660.0  43310.0  43140.0  43480.0  43340.0  43620.0  \n",
              "3     12   27  43900.0  43660.0  43310.0  44000.0  43480.0  43340.0  \n",
              "4     12   26  42910.0  43900.0  43660.0  43620.0  44000.0  43480.0  "
            ]
          },
          "metadata": {
            "tags": []
          },
          "execution_count": 68
        }
      ]
    },
    {
      "metadata": {
        "id": "k_9TMktUahoK",
        "colab_type": "code",
        "outputId": "e778cc65-e586-4abb-f6f0-7f36ab44a635",
        "colab": {
          "base_uri": "https://localhost:8080/",
          "height": 221
        }
      },
      "cell_type": "code",
      "source": [
        "train1.tail()"
      ],
      "execution_count": 0,
      "outputs": [
        {
          "output_type": "execute_result",
          "data": {
            "text/html": [
              "<div>\n",
              "<style scoped>\n",
              "    .dataframe tbody tr th:only-of-type {\n",
              "        vertical-align: middle;\n",
              "    }\n",
              "\n",
              "    .dataframe tbody tr th {\n",
              "        vertical-align: top;\n",
              "    }\n",
              "\n",
              "    .dataframe thead th {\n",
              "        text-align: right;\n",
              "    }\n",
              "</style>\n",
              "<table border=\"1\" class=\"dataframe\">\n",
              "  <thead>\n",
              "    <tr style=\"text-align: right;\">\n",
              "      <th></th>\n",
              "      <th>Open</th>\n",
              "      <th>High</th>\n",
              "      <th>Low</th>\n",
              "      <th>Close</th>\n",
              "      <th>Volume</th>\n",
              "      <th>Stock Trading</th>\n",
              "      <th>Avg</th>\n",
              "      <th>Year</th>\n",
              "      <th>Month</th>\n",
              "      <th>Day</th>\n",
              "      <th>O_t-3</th>\n",
              "      <th>O_t-2</th>\n",
              "      <th>O_t-1</th>\n",
              "      <th>C_t-3</th>\n",
              "      <th>C_t-2</th>\n",
              "      <th>C_t-1</th>\n",
              "    </tr>\n",
              "  </thead>\n",
              "  <tbody>\n",
              "    <tr>\n",
              "      <th>1218</th>\n",
              "      <td>14610</td>\n",
              "      <td>14670</td>\n",
              "      <td>14530</td>\n",
              "      <td>14610</td>\n",
              "      <td>360100</td>\n",
              "      <td>5255652000</td>\n",
              "      <td>14594.979172</td>\n",
              "      <td>2012</td>\n",
              "      <td>1</td>\n",
              "      <td>16</td>\n",
              "      <td>14360.0</td>\n",
              "      <td>14520.0</td>\n",
              "      <td>14740.0</td>\n",
              "      <td>14590.0</td>\n",
              "      <td>14520.0</td>\n",
              "      <td>14770.0</td>\n",
              "    </tr>\n",
              "    <tr>\n",
              "      <th>1219</th>\n",
              "      <td>14740</td>\n",
              "      <td>14780</td>\n",
              "      <td>14450</td>\n",
              "      <td>14770</td>\n",
              "      <td>1543700</td>\n",
              "      <td>22669096000</td>\n",
              "      <td>14684.910280</td>\n",
              "      <td>2012</td>\n",
              "      <td>1</td>\n",
              "      <td>13</td>\n",
              "      <td>13890.0</td>\n",
              "      <td>14360.0</td>\n",
              "      <td>14520.0</td>\n",
              "      <td>14390.0</td>\n",
              "      <td>14590.0</td>\n",
              "      <td>14520.0</td>\n",
              "    </tr>\n",
              "    <tr>\n",
              "      <th>1220</th>\n",
              "      <td>14520</td>\n",
              "      <td>14600</td>\n",
              "      <td>14330</td>\n",
              "      <td>14520</td>\n",
              "      <td>540500</td>\n",
              "      <td>7814121000</td>\n",
              "      <td>14457.208141</td>\n",
              "      <td>2012</td>\n",
              "      <td>1</td>\n",
              "      <td>12</td>\n",
              "      <td>13990.0</td>\n",
              "      <td>13890.0</td>\n",
              "      <td>14360.0</td>\n",
              "      <td>13850.0</td>\n",
              "      <td>14390.0</td>\n",
              "      <td>14590.0</td>\n",
              "    </tr>\n",
              "    <tr>\n",
              "      <th>1221</th>\n",
              "      <td>14360</td>\n",
              "      <td>14750</td>\n",
              "      <td>14280</td>\n",
              "      <td>14590</td>\n",
              "      <td>1043400</td>\n",
              "      <td>15191988000</td>\n",
              "      <td>14560.080506</td>\n",
              "      <td>2012</td>\n",
              "      <td>1</td>\n",
              "      <td>11</td>\n",
              "      <td>13720.0</td>\n",
              "      <td>13990.0</td>\n",
              "      <td>13890.0</td>\n",
              "      <td>13800.0</td>\n",
              "      <td>13850.0</td>\n",
              "      <td>14390.0</td>\n",
              "    </tr>\n",
              "    <tr>\n",
              "      <th>1222</th>\n",
              "      <td>13890</td>\n",
              "      <td>14390</td>\n",
              "      <td>13860</td>\n",
              "      <td>14390</td>\n",
              "      <td>952300</td>\n",
              "      <td>13533413000</td>\n",
              "      <td>14211.291610</td>\n",
              "      <td>2012</td>\n",
              "      <td>1</td>\n",
              "      <td>10</td>\n",
              "      <td>14050.0</td>\n",
              "      <td>13720.0</td>\n",
              "      <td>13990.0</td>\n",
              "      <td>13720.0</td>\n",
              "      <td>13800.0</td>\n",
              "      <td>13850.0</td>\n",
              "    </tr>\n",
              "  </tbody>\n",
              "</table>\n",
              "</div>"
            ],
            "text/plain": [
              "       Open   High    Low  Close   Volume  Stock Trading           Avg  Year  \\\n",
              "1218  14610  14670  14530  14610   360100     5255652000  14594.979172  2012   \n",
              "1219  14740  14780  14450  14770  1543700    22669096000  14684.910280  2012   \n",
              "1220  14520  14600  14330  14520   540500     7814121000  14457.208141  2012   \n",
              "1221  14360  14750  14280  14590  1043400    15191988000  14560.080506  2012   \n",
              "1222  13890  14390  13860  14390   952300    13533413000  14211.291610  2012   \n",
              "\n",
              "      Month  Day    O_t-3    O_t-2    O_t-1    C_t-3    C_t-2    C_t-1  \n",
              "1218      1   16  14360.0  14520.0  14740.0  14590.0  14520.0  14770.0  \n",
              "1219      1   13  13890.0  14360.0  14520.0  14390.0  14590.0  14520.0  \n",
              "1220      1   12  13990.0  13890.0  14360.0  13850.0  14390.0  14590.0  \n",
              "1221      1   11  13720.0  13990.0  13890.0  13800.0  13850.0  14390.0  \n",
              "1222      1   10  14050.0  13720.0  13990.0  13720.0  13800.0  13850.0  "
            ]
          },
          "metadata": {
            "tags": []
          },
          "execution_count": 69
        }
      ]
    },
    {
      "metadata": {
        "id": "QfZKFcyTahoP",
        "colab_type": "code",
        "outputId": "151b6499-b526-42bc-eca5-eef05b97acc4",
        "colab": {
          "base_uri": "https://localhost:8080/",
          "height": 34
        }
      },
      "cell_type": "code",
      "source": [
        "#Applying Lag Features to Opening Price\n",
        "close_vals = Series(train['Close'])\n",
        "close_dataframe = concat([close_vals.shift(-3), close_vals.shift(-2), close_vals.shift(-1)], axis=1)\n",
        "close_dataframe.columns = ['C_t-3', 'C_t-2', 'C_t-1']\n",
        "close_dataframe.shape"
      ],
      "execution_count": 0,
      "outputs": [
        {
          "output_type": "execute_result",
          "data": {
            "text/plain": [
              "(1226, 3)"
            ]
          },
          "metadata": {
            "tags": []
          },
          "execution_count": 59
        }
      ]
    },
    {
      "metadata": {
        "id": "Q6NQqZc1ahoU",
        "colab_type": "code",
        "colab": {}
      },
      "cell_type": "code",
      "source": [
        "#combining the train data and the lag features of Temp\n",
        "train1 = pd.concat([train1, close_dataframe], axis=1)"
      ],
      "execution_count": 0,
      "outputs": []
    },
    {
      "metadata": {
        "id": "2h8K9XzNahoZ",
        "colab_type": "code",
        "outputId": "316b7b66-4801-4049-b0f5-a5054b3ecac9",
        "colab": {
          "base_uri": "https://localhost:8080/",
          "height": 204
        }
      },
      "cell_type": "code",
      "source": [
        "train1.head()"
      ],
      "execution_count": 0,
      "outputs": [
        {
          "output_type": "execute_result",
          "data": {
            "text/html": [
              "<div>\n",
              "<style scoped>\n",
              "    .dataframe tbody tr th:only-of-type {\n",
              "        vertical-align: middle;\n",
              "    }\n",
              "\n",
              "    .dataframe tbody tr th {\n",
              "        vertical-align: top;\n",
              "    }\n",
              "\n",
              "    .dataframe thead th {\n",
              "        text-align: right;\n",
              "    }\n",
              "</style>\n",
              "<table border=\"1\" class=\"dataframe\">\n",
              "  <thead>\n",
              "    <tr style=\"text-align: right;\">\n",
              "      <th></th>\n",
              "      <th>Open</th>\n",
              "      <th>High</th>\n",
              "      <th>Low</th>\n",
              "      <th>Close</th>\n",
              "      <th>Volume</th>\n",
              "      <th>Stock Trading</th>\n",
              "      <th>Avg</th>\n",
              "      <th>Year</th>\n",
              "      <th>Month</th>\n",
              "      <th>Day</th>\n",
              "      <th>O_t-3</th>\n",
              "      <th>O_t-2</th>\n",
              "      <th>O_t-1</th>\n",
              "      <th>C_t-3</th>\n",
              "      <th>C_t-2</th>\n",
              "      <th>C_t-1</th>\n",
              "    </tr>\n",
              "  </thead>\n",
              "  <tbody>\n",
              "    <tr>\n",
              "      <th>0</th>\n",
              "      <td>42120</td>\n",
              "      <td>42330</td>\n",
              "      <td>41700</td>\n",
              "      <td>41830</td>\n",
              "      <td>610000</td>\n",
              "      <td>25628028000</td>\n",
              "      <td>42013.160656</td>\n",
              "      <td>2016</td>\n",
              "      <td>12</td>\n",
              "      <td>30</td>\n",
              "      <td>43140.0</td>\n",
              "      <td>43940.0</td>\n",
              "      <td>43000.0</td>\n",
              "      <td>43620.0</td>\n",
              "      <td>43270.0</td>\n",
              "      <td>42660.0</td>\n",
              "    </tr>\n",
              "    <tr>\n",
              "      <th>1</th>\n",
              "      <td>43000</td>\n",
              "      <td>43220</td>\n",
              "      <td>42540</td>\n",
              "      <td>42660</td>\n",
              "      <td>448400</td>\n",
              "      <td>19188227000</td>\n",
              "      <td>42792.656111</td>\n",
              "      <td>2016</td>\n",
              "      <td>12</td>\n",
              "      <td>29</td>\n",
              "      <td>43310.0</td>\n",
              "      <td>43140.0</td>\n",
              "      <td>43940.0</td>\n",
              "      <td>43340.0</td>\n",
              "      <td>43620.0</td>\n",
              "      <td>43270.0</td>\n",
              "    </tr>\n",
              "    <tr>\n",
              "      <th>2</th>\n",
              "      <td>43940</td>\n",
              "      <td>43970</td>\n",
              "      <td>43270</td>\n",
              "      <td>43270</td>\n",
              "      <td>339900</td>\n",
              "      <td>14780670000</td>\n",
              "      <td>43485.348632</td>\n",
              "      <td>2016</td>\n",
              "      <td>12</td>\n",
              "      <td>28</td>\n",
              "      <td>43660.0</td>\n",
              "      <td>43310.0</td>\n",
              "      <td>43140.0</td>\n",
              "      <td>43480.0</td>\n",
              "      <td>43340.0</td>\n",
              "      <td>43620.0</td>\n",
              "    </tr>\n",
              "    <tr>\n",
              "      <th>3</th>\n",
              "      <td>43140</td>\n",
              "      <td>43700</td>\n",
              "      <td>43140</td>\n",
              "      <td>43620</td>\n",
              "      <td>400100</td>\n",
              "      <td>17427993000</td>\n",
              "      <td>43559.092727</td>\n",
              "      <td>2016</td>\n",
              "      <td>12</td>\n",
              "      <td>27</td>\n",
              "      <td>43900.0</td>\n",
              "      <td>43660.0</td>\n",
              "      <td>43310.0</td>\n",
              "      <td>44000.0</td>\n",
              "      <td>43480.0</td>\n",
              "      <td>43340.0</td>\n",
              "    </tr>\n",
              "    <tr>\n",
              "      <th>4</th>\n",
              "      <td>43310</td>\n",
              "      <td>43660</td>\n",
              "      <td>43090</td>\n",
              "      <td>43340</td>\n",
              "      <td>358200</td>\n",
              "      <td>15547803000</td>\n",
              "      <td>43405.368509</td>\n",
              "      <td>2016</td>\n",
              "      <td>12</td>\n",
              "      <td>26</td>\n",
              "      <td>42910.0</td>\n",
              "      <td>43900.0</td>\n",
              "      <td>43660.0</td>\n",
              "      <td>43620.0</td>\n",
              "      <td>44000.0</td>\n",
              "      <td>43480.0</td>\n",
              "    </tr>\n",
              "  </tbody>\n",
              "</table>\n",
              "</div>"
            ],
            "text/plain": [
              "    Open   High    Low  Close  Volume  Stock Trading           Avg  Year  \\\n",
              "0  42120  42330  41700  41830  610000    25628028000  42013.160656  2016   \n",
              "1  43000  43220  42540  42660  448400    19188227000  42792.656111  2016   \n",
              "2  43940  43970  43270  43270  339900    14780670000  43485.348632  2016   \n",
              "3  43140  43700  43140  43620  400100    17427993000  43559.092727  2016   \n",
              "4  43310  43660  43090  43340  358200    15547803000  43405.368509  2016   \n",
              "\n",
              "   Month  Day    O_t-3    O_t-2    O_t-1    C_t-3    C_t-2    C_t-1  \n",
              "0     12   30  43140.0  43940.0  43000.0  43620.0  43270.0  42660.0  \n",
              "1     12   29  43310.0  43140.0  43940.0  43340.0  43620.0  43270.0  \n",
              "2     12   28  43660.0  43310.0  43140.0  43480.0  43340.0  43620.0  \n",
              "3     12   27  43900.0  43660.0  43310.0  44000.0  43480.0  43340.0  \n",
              "4     12   26  42910.0  43900.0  43660.0  43620.0  44000.0  43480.0  "
            ]
          },
          "metadata": {
            "tags": []
          },
          "execution_count": 61
        }
      ]
    },
    {
      "metadata": {
        "id": "FO_NXWsxahof",
        "colab_type": "code",
        "outputId": "9318aa07-b039-4eb5-8aa1-8143efc0eb30",
        "colab": {
          "base_uri": "https://localhost:8080/",
          "height": 221
        }
      },
      "cell_type": "code",
      "source": [
        "train1.tail()"
      ],
      "execution_count": 0,
      "outputs": [
        {
          "output_type": "execute_result",
          "data": {
            "text/html": [
              "<div>\n",
              "<style scoped>\n",
              "    .dataframe tbody tr th:only-of-type {\n",
              "        vertical-align: middle;\n",
              "    }\n",
              "\n",
              "    .dataframe tbody tr th {\n",
              "        vertical-align: top;\n",
              "    }\n",
              "\n",
              "    .dataframe thead th {\n",
              "        text-align: right;\n",
              "    }\n",
              "</style>\n",
              "<table border=\"1\" class=\"dataframe\">\n",
              "  <thead>\n",
              "    <tr style=\"text-align: right;\">\n",
              "      <th></th>\n",
              "      <th>Open</th>\n",
              "      <th>High</th>\n",
              "      <th>Low</th>\n",
              "      <th>Close</th>\n",
              "      <th>Volume</th>\n",
              "      <th>Stock Trading</th>\n",
              "      <th>Avg</th>\n",
              "      <th>Year</th>\n",
              "      <th>Month</th>\n",
              "      <th>Day</th>\n",
              "      <th>O_t-3</th>\n",
              "      <th>O_t-2</th>\n",
              "      <th>O_t-1</th>\n",
              "      <th>C_t-3</th>\n",
              "      <th>C_t-2</th>\n",
              "      <th>C_t-1</th>\n",
              "    </tr>\n",
              "  </thead>\n",
              "  <tbody>\n",
              "    <tr>\n",
              "      <th>1221</th>\n",
              "      <td>14360</td>\n",
              "      <td>14750</td>\n",
              "      <td>14280</td>\n",
              "      <td>14590</td>\n",
              "      <td>1043400</td>\n",
              "      <td>15191988000</td>\n",
              "      <td>14560.080506</td>\n",
              "      <td>2012</td>\n",
              "      <td>1</td>\n",
              "      <td>11</td>\n",
              "      <td>13720.0</td>\n",
              "      <td>13990.0</td>\n",
              "      <td>13890.0</td>\n",
              "      <td>13800.0</td>\n",
              "      <td>13850.0</td>\n",
              "      <td>14390.0</td>\n",
              "    </tr>\n",
              "    <tr>\n",
              "      <th>1222</th>\n",
              "      <td>13890</td>\n",
              "      <td>14390</td>\n",
              "      <td>13860</td>\n",
              "      <td>14390</td>\n",
              "      <td>952300</td>\n",
              "      <td>13533413000</td>\n",
              "      <td>14211.291610</td>\n",
              "      <td>2012</td>\n",
              "      <td>1</td>\n",
              "      <td>10</td>\n",
              "      <td>14050.0</td>\n",
              "      <td>13720.0</td>\n",
              "      <td>13990.0</td>\n",
              "      <td>13720.0</td>\n",
              "      <td>13800.0</td>\n",
              "      <td>13850.0</td>\n",
              "    </tr>\n",
              "    <tr>\n",
              "      <th>1223</th>\n",
              "      <td>13990</td>\n",
              "      <td>14030</td>\n",
              "      <td>13790</td>\n",
              "      <td>13850</td>\n",
              "      <td>765500</td>\n",
              "      <td>10635609000</td>\n",
              "      <td>13893.676029</td>\n",
              "      <td>2012</td>\n",
              "      <td>1</td>\n",
              "      <td>6</td>\n",
              "      <td>NaN</td>\n",
              "      <td>14050.0</td>\n",
              "      <td>13720.0</td>\n",
              "      <td>NaN</td>\n",
              "      <td>13720.0</td>\n",
              "      <td>13800.0</td>\n",
              "    </tr>\n",
              "    <tr>\n",
              "      <th>1224</th>\n",
              "      <td>13720</td>\n",
              "      <td>13840</td>\n",
              "      <td>13600</td>\n",
              "      <td>13800</td>\n",
              "      <td>511500</td>\n",
              "      <td>7030811000</td>\n",
              "      <td>13745.476051</td>\n",
              "      <td>2012</td>\n",
              "      <td>1</td>\n",
              "      <td>5</td>\n",
              "      <td>NaN</td>\n",
              "      <td>NaN</td>\n",
              "      <td>14050.0</td>\n",
              "      <td>NaN</td>\n",
              "      <td>NaN</td>\n",
              "      <td>13720.0</td>\n",
              "    </tr>\n",
              "    <tr>\n",
              "      <th>1225</th>\n",
              "      <td>14050</td>\n",
              "      <td>14050</td>\n",
              "      <td>13700</td>\n",
              "      <td>13720</td>\n",
              "      <td>559100</td>\n",
              "      <td>7719804000</td>\n",
              "      <td>13807.554999</td>\n",
              "      <td>2012</td>\n",
              "      <td>1</td>\n",
              "      <td>4</td>\n",
              "      <td>NaN</td>\n",
              "      <td>NaN</td>\n",
              "      <td>NaN</td>\n",
              "      <td>NaN</td>\n",
              "      <td>NaN</td>\n",
              "      <td>NaN</td>\n",
              "    </tr>\n",
              "  </tbody>\n",
              "</table>\n",
              "</div>"
            ],
            "text/plain": [
              "       Open   High    Low  Close   Volume  Stock Trading           Avg  Year  \\\n",
              "1221  14360  14750  14280  14590  1043400    15191988000  14560.080506  2012   \n",
              "1222  13890  14390  13860  14390   952300    13533413000  14211.291610  2012   \n",
              "1223  13990  14030  13790  13850   765500    10635609000  13893.676029  2012   \n",
              "1224  13720  13840  13600  13800   511500     7030811000  13745.476051  2012   \n",
              "1225  14050  14050  13700  13720   559100     7719804000  13807.554999  2012   \n",
              "\n",
              "      Month  Day    O_t-3    O_t-2    O_t-1    C_t-3    C_t-2    C_t-1  \n",
              "1221      1   11  13720.0  13990.0  13890.0  13800.0  13850.0  14390.0  \n",
              "1222      1   10  14050.0  13720.0  13990.0  13720.0  13800.0  13850.0  \n",
              "1223      1    6      NaN  14050.0  13720.0      NaN  13720.0  13800.0  \n",
              "1224      1    5      NaN      NaN  14050.0      NaN      NaN  13720.0  \n",
              "1225      1    4      NaN      NaN      NaN      NaN      NaN      NaN  "
            ]
          },
          "metadata": {
            "tags": []
          },
          "execution_count": 62
        }
      ]
    },
    {
      "metadata": {
        "id": "OKfcy5nPahom",
        "colab_type": "code",
        "colab": {}
      },
      "cell_type": "code",
      "source": [
        "#dropping null value rows\n",
        "train1.dropna(inplace = True)"
      ],
      "execution_count": 0,
      "outputs": []
    },
    {
      "metadata": {
        "id": "BWuPud-Uahoq",
        "colab_type": "code",
        "outputId": "01f7e68a-0321-497b-e751-88172f9f161b",
        "colab": {
          "base_uri": "https://localhost:8080/",
          "height": 221
        }
      },
      "cell_type": "code",
      "source": [
        "train1.tail()"
      ],
      "execution_count": 0,
      "outputs": [
        {
          "output_type": "execute_result",
          "data": {
            "text/html": [
              "<div>\n",
              "<style scoped>\n",
              "    .dataframe tbody tr th:only-of-type {\n",
              "        vertical-align: middle;\n",
              "    }\n",
              "\n",
              "    .dataframe tbody tr th {\n",
              "        vertical-align: top;\n",
              "    }\n",
              "\n",
              "    .dataframe thead th {\n",
              "        text-align: right;\n",
              "    }\n",
              "</style>\n",
              "<table border=\"1\" class=\"dataframe\">\n",
              "  <thead>\n",
              "    <tr style=\"text-align: right;\">\n",
              "      <th></th>\n",
              "      <th>Open</th>\n",
              "      <th>High</th>\n",
              "      <th>Low</th>\n",
              "      <th>Close</th>\n",
              "      <th>Volume</th>\n",
              "      <th>Stock Trading</th>\n",
              "      <th>Avg</th>\n",
              "      <th>Year</th>\n",
              "      <th>Month</th>\n",
              "      <th>Day</th>\n",
              "      <th>O_t-3</th>\n",
              "      <th>O_t-2</th>\n",
              "      <th>O_t-1</th>\n",
              "      <th>C_t-3</th>\n",
              "      <th>C_t-2</th>\n",
              "      <th>C_t-1</th>\n",
              "    </tr>\n",
              "  </thead>\n",
              "  <tbody>\n",
              "    <tr>\n",
              "      <th>1218</th>\n",
              "      <td>14610</td>\n",
              "      <td>14670</td>\n",
              "      <td>14530</td>\n",
              "      <td>14610</td>\n",
              "      <td>360100</td>\n",
              "      <td>5255652000</td>\n",
              "      <td>14594.979172</td>\n",
              "      <td>2012</td>\n",
              "      <td>1</td>\n",
              "      <td>16</td>\n",
              "      <td>14360.0</td>\n",
              "      <td>14520.0</td>\n",
              "      <td>14740.0</td>\n",
              "      <td>14590.0</td>\n",
              "      <td>14520.0</td>\n",
              "      <td>14770.0</td>\n",
              "    </tr>\n",
              "    <tr>\n",
              "      <th>1219</th>\n",
              "      <td>14740</td>\n",
              "      <td>14780</td>\n",
              "      <td>14450</td>\n",
              "      <td>14770</td>\n",
              "      <td>1543700</td>\n",
              "      <td>22669096000</td>\n",
              "      <td>14684.910280</td>\n",
              "      <td>2012</td>\n",
              "      <td>1</td>\n",
              "      <td>13</td>\n",
              "      <td>13890.0</td>\n",
              "      <td>14360.0</td>\n",
              "      <td>14520.0</td>\n",
              "      <td>14390.0</td>\n",
              "      <td>14590.0</td>\n",
              "      <td>14520.0</td>\n",
              "    </tr>\n",
              "    <tr>\n",
              "      <th>1220</th>\n",
              "      <td>14520</td>\n",
              "      <td>14600</td>\n",
              "      <td>14330</td>\n",
              "      <td>14520</td>\n",
              "      <td>540500</td>\n",
              "      <td>7814121000</td>\n",
              "      <td>14457.208141</td>\n",
              "      <td>2012</td>\n",
              "      <td>1</td>\n",
              "      <td>12</td>\n",
              "      <td>13990.0</td>\n",
              "      <td>13890.0</td>\n",
              "      <td>14360.0</td>\n",
              "      <td>13850.0</td>\n",
              "      <td>14390.0</td>\n",
              "      <td>14590.0</td>\n",
              "    </tr>\n",
              "    <tr>\n",
              "      <th>1221</th>\n",
              "      <td>14360</td>\n",
              "      <td>14750</td>\n",
              "      <td>14280</td>\n",
              "      <td>14590</td>\n",
              "      <td>1043400</td>\n",
              "      <td>15191988000</td>\n",
              "      <td>14560.080506</td>\n",
              "      <td>2012</td>\n",
              "      <td>1</td>\n",
              "      <td>11</td>\n",
              "      <td>13720.0</td>\n",
              "      <td>13990.0</td>\n",
              "      <td>13890.0</td>\n",
              "      <td>13800.0</td>\n",
              "      <td>13850.0</td>\n",
              "      <td>14390.0</td>\n",
              "    </tr>\n",
              "    <tr>\n",
              "      <th>1222</th>\n",
              "      <td>13890</td>\n",
              "      <td>14390</td>\n",
              "      <td>13860</td>\n",
              "      <td>14390</td>\n",
              "      <td>952300</td>\n",
              "      <td>13533413000</td>\n",
              "      <td>14211.291610</td>\n",
              "      <td>2012</td>\n",
              "      <td>1</td>\n",
              "      <td>10</td>\n",
              "      <td>14050.0</td>\n",
              "      <td>13720.0</td>\n",
              "      <td>13990.0</td>\n",
              "      <td>13720.0</td>\n",
              "      <td>13800.0</td>\n",
              "      <td>13850.0</td>\n",
              "    </tr>\n",
              "  </tbody>\n",
              "</table>\n",
              "</div>"
            ],
            "text/plain": [
              "       Open   High    Low  Close   Volume  Stock Trading           Avg  Year  \\\n",
              "1218  14610  14670  14530  14610   360100     5255652000  14594.979172  2012   \n",
              "1219  14740  14780  14450  14770  1543700    22669096000  14684.910280  2012   \n",
              "1220  14520  14600  14330  14520   540500     7814121000  14457.208141  2012   \n",
              "1221  14360  14750  14280  14590  1043400    15191988000  14560.080506  2012   \n",
              "1222  13890  14390  13860  14390   952300    13533413000  14211.291610  2012   \n",
              "\n",
              "      Month  Day    O_t-3    O_t-2    O_t-1    C_t-3    C_t-2    C_t-1  \n",
              "1218      1   16  14360.0  14520.0  14740.0  14590.0  14520.0  14770.0  \n",
              "1219      1   13  13890.0  14360.0  14520.0  14390.0  14590.0  14520.0  \n",
              "1220      1   12  13990.0  13890.0  14360.0  13850.0  14390.0  14590.0  \n",
              "1221      1   11  13720.0  13990.0  13890.0  13800.0  13850.0  14390.0  \n",
              "1222      1   10  14050.0  13720.0  13990.0  13720.0  13800.0  13850.0  "
            ]
          },
          "metadata": {
            "tags": []
          },
          "execution_count": 64
        }
      ]
    },
    {
      "metadata": {
        "id": "3wX29PRYahox",
        "colab_type": "code",
        "outputId": "cf6d869e-af7e-429f-f1dc-a11876c25f1f",
        "colab": {
          "base_uri": "https://localhost:8080/",
          "height": 34
        }
      },
      "cell_type": "code",
      "source": [
        "train1.shape"
      ],
      "execution_count": 0,
      "outputs": [
        {
          "output_type": "execute_result",
          "data": {
            "text/plain": [
              "(1223, 16)"
            ]
          },
          "metadata": {
            "tags": []
          },
          "execution_count": 67
        }
      ]
    },
    {
      "metadata": {
        "id": "xI9P1pGXaho2",
        "colab_type": "code",
        "colab": {}
      },
      "cell_type": "code",
      "source": [
        "#since for combining of data, both should have same number of rows. hence, removing the extra row\n",
        "#train1.drop(train1.head(1).index, inplace=True)\n",
        "#train1.shape"
      ],
      "execution_count": 0,
      "outputs": []
    },
    {
      "metadata": {
        "id": "6qd-snl-aho7",
        "colab_type": "text"
      },
      "cell_type": "markdown",
      "source": [
        "#### Rolling Window Statistics"
      ]
    },
    {
      "metadata": {
        "id": "RqIfpA4-aho8",
        "colab_type": "code",
        "colab": {}
      },
      "cell_type": "code",
      "source": [
        "# Appling window Features for the Highest Value Feature\n",
        "high = train['High']\n",
        "w = 5"
      ],
      "execution_count": 0,
      "outputs": []
    },
    {
      "metadata": {
        "id": "WSw8TSvZaho_",
        "colab_type": "code",
        "colab": {}
      },
      "cell_type": "code",
      "source": [
        "shift = high.shift(-w+1)"
      ],
      "execution_count": 0,
      "outputs": []
    },
    {
      "metadata": {
        "id": "8XrjJWg2ahpC",
        "colab_type": "code",
        "outputId": "c1758f2f-526f-480e-bd3d-6f21c049c976",
        "colab": {
          "base_uri": "https://localhost:8080/",
          "height": 170
        }
      },
      "cell_type": "code",
      "source": [
        "train['High'].head(8)"
      ],
      "execution_count": 0,
      "outputs": [
        {
          "output_type": "execute_result",
          "data": {
            "text/plain": [
              "0    42330\n",
              "1    43220\n",
              "2    43970\n",
              "3    43700\n",
              "4    43660\n",
              "5    43840\n",
              "6    44370\n",
              "7    43630\n",
              "Name: High, dtype: int64"
            ]
          },
          "metadata": {
            "tags": []
          },
          "execution_count": 72
        }
      ]
    },
    {
      "metadata": {
        "id": "ZqBBuff4ahpI",
        "colab_type": "code",
        "outputId": "0bd5c750-5572-4a6c-8ddc-423f1235e50c",
        "colab": {
          "base_uri": "https://localhost:8080/",
          "height": 170
        }
      },
      "cell_type": "code",
      "source": [
        "shift.head(8)"
      ],
      "execution_count": 0,
      "outputs": [
        {
          "output_type": "execute_result",
          "data": {
            "text/plain": [
              "0    43660.0\n",
              "1    43840.0\n",
              "2    44370.0\n",
              "3    43630.0\n",
              "4    43150.0\n",
              "5    43550.0\n",
              "6    43880.0\n",
              "7    43440.0\n",
              "Name: High, dtype: float64"
            ]
          },
          "metadata": {
            "tags": []
          },
          "execution_count": 73
        }
      ]
    },
    {
      "metadata": {
        "id": "nzrqQ1ODtkok",
        "colab_type": "code",
        "outputId": "61f032de-37af-47a4-ba40-1ee90ff0a506",
        "colab": {
          "base_uri": "https://localhost:8080/",
          "height": 119
        }
      },
      "cell_type": "code",
      "source": [
        "shift.head()"
      ],
      "execution_count": 0,
      "outputs": [
        {
          "output_type": "execute_result",
          "data": {
            "text/plain": [
              "0    43660.0\n",
              "1    43840.0\n",
              "2    44370.0\n",
              "3    43630.0\n",
              "4    43150.0\n",
              "Name: High, dtype: float64"
            ]
          },
          "metadata": {
            "tags": []
          },
          "execution_count": 74
        }
      ]
    },
    {
      "metadata": {
        "id": "SQvR97TOahpN",
        "colab_type": "code",
        "colab": {}
      },
      "cell_type": "code",
      "source": [
        "window = shift.rolling(window=w)"
      ],
      "execution_count": 0,
      "outputs": []
    },
    {
      "metadata": {
        "id": "0xiTLbg6ahpQ",
        "colab_type": "code",
        "outputId": "bd5ae0bd-5f31-4167-eb59-ca60fe6356dd",
        "colab": {
          "base_uri": "https://localhost:8080/",
          "height": 34
        }
      },
      "cell_type": "code",
      "source": [
        "type(window)"
      ],
      "execution_count": 0,
      "outputs": [
        {
          "output_type": "execute_result",
          "data": {
            "text/plain": [
              "pandas.core.window.Rolling"
            ]
          },
          "metadata": {
            "tags": []
          },
          "execution_count": 76
        }
      ]
    },
    {
      "metadata": {
        "id": "FXsw5JZ_ahpX",
        "colab_type": "code",
        "outputId": "d5f82943-bb2f-43f8-f6d6-ac8ec4cbee08",
        "colab": {
          "base_uri": "https://localhost:8080/",
          "height": 119
        }
      },
      "cell_type": "code",
      "source": [
        "window.min().head()"
      ],
      "execution_count": 0,
      "outputs": [
        {
          "output_type": "execute_result",
          "data": {
            "text/plain": [
              "0        NaN\n",
              "1        NaN\n",
              "2        NaN\n",
              "3        NaN\n",
              "4    43150.0\n",
              "Name: High, dtype: float64"
            ]
          },
          "metadata": {
            "tags": []
          },
          "execution_count": 77
        }
      ]
    },
    {
      "metadata": {
        "id": "xLoV1HecrwNt",
        "colab_type": "code",
        "outputId": "8ce1bfa5-2d2e-4a02-f781-8070136a4c79",
        "colab": {
          "base_uri": "https://localhost:8080/",
          "height": 1071
        }
      },
      "cell_type": "code",
      "source": [
        "window.min()"
      ],
      "execution_count": 0,
      "outputs": [
        {
          "output_type": "execute_result",
          "data": {
            "text/plain": [
              "0           NaN\n",
              "1           NaN\n",
              "2           NaN\n",
              "3           NaN\n",
              "4       43150.0\n",
              "5       43150.0\n",
              "6       43150.0\n",
              "7       43150.0\n",
              "8       43150.0\n",
              "9       43300.0\n",
              "10      42970.0\n",
              "11      41560.0\n",
              "12      41150.0\n",
              "13      40500.0\n",
              "14      40350.0\n",
              "15      40350.0\n",
              "16      40350.0\n",
              "17      40340.0\n",
              "18      40340.0\n",
              "19      40340.0\n",
              "20      40340.0\n",
              "21      40340.0\n",
              "22      40360.0\n",
              "23      40270.0\n",
              "24      40270.0\n",
              "25      39710.0\n",
              "26      39710.0\n",
              "27      38980.0\n",
              "28      38690.0\n",
              "29      37940.0\n",
              "         ...   \n",
              "1196    15650.0\n",
              "1197    15650.0\n",
              "1198    15650.0\n",
              "1199    15680.0\n",
              "1200    15520.0\n",
              "1201    15480.0\n",
              "1202    15250.0\n",
              "1203    15200.0\n",
              "1204    15200.0\n",
              "1205    15030.0\n",
              "1206    15020.0\n",
              "1207    15020.0\n",
              "1208    15020.0\n",
              "1209    14790.0\n",
              "1210    14790.0\n",
              "1211    14790.0\n",
              "1212    14790.0\n",
              "1213    14790.0\n",
              "1214    14670.0\n",
              "1215    14670.0\n",
              "1216    14600.0\n",
              "1217    14600.0\n",
              "1218    14390.0\n",
              "1219    14030.0\n",
              "1220    13840.0\n",
              "1221    13840.0\n",
              "1222        NaN\n",
              "1223        NaN\n",
              "1224        NaN\n",
              "1225        NaN\n",
              "Name: High, Length: 1226, dtype: float64"
            ]
          },
          "metadata": {
            "tags": []
          },
          "execution_count": 78
        }
      ]
    },
    {
      "metadata": {
        "id": "o5DYRmdFahpd",
        "colab_type": "code",
        "outputId": "be44e7cb-5143-45d0-efa9-9bdda129ca6c",
        "colab": {
          "base_uri": "https://localhost:8080/",
          "height": 884
        }
      },
      "cell_type": "code",
      "source": [
        "window.min().tail(50)"
      ],
      "execution_count": 0,
      "outputs": [
        {
          "output_type": "execute_result",
          "data": {
            "text/plain": [
              "1176    17400.0\n",
              "1177    16950.0\n",
              "1178    16950.0\n",
              "1179    16950.0\n",
              "1180    16950.0\n",
              "1181    16950.0\n",
              "1182    17000.0\n",
              "1183    16720.0\n",
              "1184    16670.0\n",
              "1185    16670.0\n",
              "1186    16670.0\n",
              "1187    16670.0\n",
              "1188    16480.0\n",
              "1189    16480.0\n",
              "1190    16480.0\n",
              "1191    16180.0\n",
              "1192    16180.0\n",
              "1193    15770.0\n",
              "1194    15650.0\n",
              "1195    15650.0\n",
              "1196    15650.0\n",
              "1197    15650.0\n",
              "1198    15650.0\n",
              "1199    15680.0\n",
              "1200    15520.0\n",
              "1201    15480.0\n",
              "1202    15250.0\n",
              "1203    15200.0\n",
              "1204    15200.0\n",
              "1205    15030.0\n",
              "1206    15020.0\n",
              "1207    15020.0\n",
              "1208    15020.0\n",
              "1209    14790.0\n",
              "1210    14790.0\n",
              "1211    14790.0\n",
              "1212    14790.0\n",
              "1213    14790.0\n",
              "1214    14670.0\n",
              "1215    14670.0\n",
              "1216    14600.0\n",
              "1217    14600.0\n",
              "1218    14390.0\n",
              "1219    14030.0\n",
              "1220    13840.0\n",
              "1221    13840.0\n",
              "1222        NaN\n",
              "1223        NaN\n",
              "1224        NaN\n",
              "1225        NaN\n",
              "Name: High, dtype: float64"
            ]
          },
          "metadata": {
            "tags": []
          },
          "execution_count": 79
        }
      ]
    },
    {
      "metadata": {
        "id": "6UybUnFmahpn",
        "colab_type": "code",
        "colab": {}
      },
      "cell_type": "code",
      "source": [
        "df = concat([window.min(), window.mean(), window.max()], axis=1)\n",
        "df.columns = ['min', 'mean', 'max']"
      ],
      "execution_count": 0,
      "outputs": []
    },
    {
      "metadata": {
        "id": "SmG2795cahpu",
        "colab_type": "code",
        "colab": {}
      },
      "cell_type": "code",
      "source": [
        ""
      ],
      "execution_count": 0,
      "outputs": []
    },
    {
      "metadata": {
        "id": "-SfMDjuYahp0",
        "colab_type": "code",
        "outputId": "6cd016b8-8855-4ee8-816e-d21c5ae2e028",
        "colab": {
          "base_uri": "https://localhost:8080/",
          "height": 359
        }
      },
      "cell_type": "code",
      "source": [
        "df.head(10)"
      ],
      "execution_count": 0,
      "outputs": [
        {
          "output_type": "execute_result",
          "data": {
            "text/html": [
              "<div>\n",
              "<style scoped>\n",
              "    .dataframe tbody tr th:only-of-type {\n",
              "        vertical-align: middle;\n",
              "    }\n",
              "\n",
              "    .dataframe tbody tr th {\n",
              "        vertical-align: top;\n",
              "    }\n",
              "\n",
              "    .dataframe thead th {\n",
              "        text-align: right;\n",
              "    }\n",
              "</style>\n",
              "<table border=\"1\" class=\"dataframe\">\n",
              "  <thead>\n",
              "    <tr style=\"text-align: right;\">\n",
              "      <th></th>\n",
              "      <th>min</th>\n",
              "      <th>mean</th>\n",
              "      <th>max</th>\n",
              "    </tr>\n",
              "  </thead>\n",
              "  <tbody>\n",
              "    <tr>\n",
              "      <th>0</th>\n",
              "      <td>NaN</td>\n",
              "      <td>NaN</td>\n",
              "      <td>NaN</td>\n",
              "    </tr>\n",
              "    <tr>\n",
              "      <th>1</th>\n",
              "      <td>NaN</td>\n",
              "      <td>NaN</td>\n",
              "      <td>NaN</td>\n",
              "    </tr>\n",
              "    <tr>\n",
              "      <th>2</th>\n",
              "      <td>NaN</td>\n",
              "      <td>NaN</td>\n",
              "      <td>NaN</td>\n",
              "    </tr>\n",
              "    <tr>\n",
              "      <th>3</th>\n",
              "      <td>NaN</td>\n",
              "      <td>NaN</td>\n",
              "      <td>NaN</td>\n",
              "    </tr>\n",
              "    <tr>\n",
              "      <th>4</th>\n",
              "      <td>43150.0</td>\n",
              "      <td>43730.0</td>\n",
              "      <td>44370.0</td>\n",
              "    </tr>\n",
              "    <tr>\n",
              "      <th>5</th>\n",
              "      <td>43150.0</td>\n",
              "      <td>43708.0</td>\n",
              "      <td>44370.0</td>\n",
              "    </tr>\n",
              "    <tr>\n",
              "      <th>6</th>\n",
              "      <td>43150.0</td>\n",
              "      <td>43716.0</td>\n",
              "      <td>44370.0</td>\n",
              "    </tr>\n",
              "    <tr>\n",
              "      <th>7</th>\n",
              "      <td>43150.0</td>\n",
              "      <td>43530.0</td>\n",
              "      <td>43880.0</td>\n",
              "    </tr>\n",
              "    <tr>\n",
              "      <th>8</th>\n",
              "      <td>43150.0</td>\n",
              "      <td>43464.0</td>\n",
              "      <td>43880.0</td>\n",
              "    </tr>\n",
              "    <tr>\n",
              "      <th>9</th>\n",
              "      <td>43300.0</td>\n",
              "      <td>43634.0</td>\n",
              "      <td>44000.0</td>\n",
              "    </tr>\n",
              "  </tbody>\n",
              "</table>\n",
              "</div>"
            ],
            "text/plain": [
              "       min     mean      max\n",
              "0      NaN      NaN      NaN\n",
              "1      NaN      NaN      NaN\n",
              "2      NaN      NaN      NaN\n",
              "3      NaN      NaN      NaN\n",
              "4  43150.0  43730.0  44370.0\n",
              "5  43150.0  43708.0  44370.0\n",
              "6  43150.0  43716.0  44370.0\n",
              "7  43150.0  43530.0  43880.0\n",
              "8  43150.0  43464.0  43880.0\n",
              "9  43300.0  43634.0  44000.0"
            ]
          },
          "metadata": {
            "tags": []
          },
          "execution_count": 81
        }
      ]
    },
    {
      "metadata": {
        "id": "l6zVIGxjahqH",
        "colab_type": "code",
        "colab": {}
      },
      "cell_type": "code",
      "source": [
        ""
      ],
      "execution_count": 0,
      "outputs": []
    },
    {
      "metadata": {
        "id": "Cn-gZOzUahqN",
        "colab_type": "code",
        "colab": {}
      },
      "cell_type": "code",
      "source": [
        "#combining the train1 and the rolling window features\n",
        "train2 = pd.concat([train1, df], axis=1)"
      ],
      "execution_count": 0,
      "outputs": []
    },
    {
      "metadata": {
        "id": "vb40eDY5ahqT",
        "colab_type": "code",
        "outputId": "aac1dd0c-674f-4348-c880-301732c178ba",
        "colab": {
          "base_uri": "https://localhost:8080/",
          "height": 241
        }
      },
      "cell_type": "code",
      "source": [
        "train2.head()"
      ],
      "execution_count": 0,
      "outputs": [
        {
          "output_type": "execute_result",
          "data": {
            "text/html": [
              "<div>\n",
              "<style scoped>\n",
              "    .dataframe tbody tr th:only-of-type {\n",
              "        vertical-align: middle;\n",
              "    }\n",
              "\n",
              "    .dataframe tbody tr th {\n",
              "        vertical-align: top;\n",
              "    }\n",
              "\n",
              "    .dataframe thead th {\n",
              "        text-align: right;\n",
              "    }\n",
              "</style>\n",
              "<table border=\"1\" class=\"dataframe\">\n",
              "  <thead>\n",
              "    <tr style=\"text-align: right;\">\n",
              "      <th></th>\n",
              "      <th>Open</th>\n",
              "      <th>High</th>\n",
              "      <th>Low</th>\n",
              "      <th>Close</th>\n",
              "      <th>Volume</th>\n",
              "      <th>Stock Trading</th>\n",
              "      <th>Avg</th>\n",
              "      <th>Year</th>\n",
              "      <th>Month</th>\n",
              "      <th>Day</th>\n",
              "      <th>O_t-3</th>\n",
              "      <th>O_t-2</th>\n",
              "      <th>O_t-1</th>\n",
              "      <th>C_t-3</th>\n",
              "      <th>C_t-2</th>\n",
              "      <th>C_t-1</th>\n",
              "      <th>min</th>\n",
              "      <th>mean</th>\n",
              "      <th>max</th>\n",
              "    </tr>\n",
              "  </thead>\n",
              "  <tbody>\n",
              "    <tr>\n",
              "      <th>0</th>\n",
              "      <td>42120.0</td>\n",
              "      <td>42330.0</td>\n",
              "      <td>41700.0</td>\n",
              "      <td>41830.0</td>\n",
              "      <td>610000.0</td>\n",
              "      <td>2.562803e+10</td>\n",
              "      <td>42013.160656</td>\n",
              "      <td>2016.0</td>\n",
              "      <td>12.0</td>\n",
              "      <td>30.0</td>\n",
              "      <td>43140.0</td>\n",
              "      <td>43940.0</td>\n",
              "      <td>43000.0</td>\n",
              "      <td>43620.0</td>\n",
              "      <td>43270.0</td>\n",
              "      <td>42660.0</td>\n",
              "      <td>NaN</td>\n",
              "      <td>NaN</td>\n",
              "      <td>NaN</td>\n",
              "    </tr>\n",
              "    <tr>\n",
              "      <th>1</th>\n",
              "      <td>43000.0</td>\n",
              "      <td>43220.0</td>\n",
              "      <td>42540.0</td>\n",
              "      <td>42660.0</td>\n",
              "      <td>448400.0</td>\n",
              "      <td>1.918823e+10</td>\n",
              "      <td>42792.656111</td>\n",
              "      <td>2016.0</td>\n",
              "      <td>12.0</td>\n",
              "      <td>29.0</td>\n",
              "      <td>43310.0</td>\n",
              "      <td>43140.0</td>\n",
              "      <td>43940.0</td>\n",
              "      <td>43340.0</td>\n",
              "      <td>43620.0</td>\n",
              "      <td>43270.0</td>\n",
              "      <td>NaN</td>\n",
              "      <td>NaN</td>\n",
              "      <td>NaN</td>\n",
              "    </tr>\n",
              "    <tr>\n",
              "      <th>2</th>\n",
              "      <td>43940.0</td>\n",
              "      <td>43970.0</td>\n",
              "      <td>43270.0</td>\n",
              "      <td>43270.0</td>\n",
              "      <td>339900.0</td>\n",
              "      <td>1.478067e+10</td>\n",
              "      <td>43485.348632</td>\n",
              "      <td>2016.0</td>\n",
              "      <td>12.0</td>\n",
              "      <td>28.0</td>\n",
              "      <td>43660.0</td>\n",
              "      <td>43310.0</td>\n",
              "      <td>43140.0</td>\n",
              "      <td>43480.0</td>\n",
              "      <td>43340.0</td>\n",
              "      <td>43620.0</td>\n",
              "      <td>NaN</td>\n",
              "      <td>NaN</td>\n",
              "      <td>NaN</td>\n",
              "    </tr>\n",
              "    <tr>\n",
              "      <th>3</th>\n",
              "      <td>43140.0</td>\n",
              "      <td>43700.0</td>\n",
              "      <td>43140.0</td>\n",
              "      <td>43620.0</td>\n",
              "      <td>400100.0</td>\n",
              "      <td>1.742799e+10</td>\n",
              "      <td>43559.092727</td>\n",
              "      <td>2016.0</td>\n",
              "      <td>12.0</td>\n",
              "      <td>27.0</td>\n",
              "      <td>43900.0</td>\n",
              "      <td>43660.0</td>\n",
              "      <td>43310.0</td>\n",
              "      <td>44000.0</td>\n",
              "      <td>43480.0</td>\n",
              "      <td>43340.0</td>\n",
              "      <td>NaN</td>\n",
              "      <td>NaN</td>\n",
              "      <td>NaN</td>\n",
              "    </tr>\n",
              "    <tr>\n",
              "      <th>4</th>\n",
              "      <td>43310.0</td>\n",
              "      <td>43660.0</td>\n",
              "      <td>43090.0</td>\n",
              "      <td>43340.0</td>\n",
              "      <td>358200.0</td>\n",
              "      <td>1.554780e+10</td>\n",
              "      <td>43405.368509</td>\n",
              "      <td>2016.0</td>\n",
              "      <td>12.0</td>\n",
              "      <td>26.0</td>\n",
              "      <td>42910.0</td>\n",
              "      <td>43900.0</td>\n",
              "      <td>43660.0</td>\n",
              "      <td>43620.0</td>\n",
              "      <td>44000.0</td>\n",
              "      <td>43480.0</td>\n",
              "      <td>43150.0</td>\n",
              "      <td>43730.0</td>\n",
              "      <td>44370.0</td>\n",
              "    </tr>\n",
              "  </tbody>\n",
              "</table>\n",
              "</div>"
            ],
            "text/plain": [
              "      Open     High      Low    Close    Volume  Stock Trading           Avg  \\\n",
              "0  42120.0  42330.0  41700.0  41830.0  610000.0   2.562803e+10  42013.160656   \n",
              "1  43000.0  43220.0  42540.0  42660.0  448400.0   1.918823e+10  42792.656111   \n",
              "2  43940.0  43970.0  43270.0  43270.0  339900.0   1.478067e+10  43485.348632   \n",
              "3  43140.0  43700.0  43140.0  43620.0  400100.0   1.742799e+10  43559.092727   \n",
              "4  43310.0  43660.0  43090.0  43340.0  358200.0   1.554780e+10  43405.368509   \n",
              "\n",
              "     Year  Month   Day    O_t-3    O_t-2    O_t-1    C_t-3    C_t-2    C_t-1  \\\n",
              "0  2016.0   12.0  30.0  43140.0  43940.0  43000.0  43620.0  43270.0  42660.0   \n",
              "1  2016.0   12.0  29.0  43310.0  43140.0  43940.0  43340.0  43620.0  43270.0   \n",
              "2  2016.0   12.0  28.0  43660.0  43310.0  43140.0  43480.0  43340.0  43620.0   \n",
              "3  2016.0   12.0  27.0  43900.0  43660.0  43310.0  44000.0  43480.0  43340.0   \n",
              "4  2016.0   12.0  26.0  42910.0  43900.0  43660.0  43620.0  44000.0  43480.0   \n",
              "\n",
              "       min     mean      max  \n",
              "0      NaN      NaN      NaN  \n",
              "1      NaN      NaN      NaN  \n",
              "2      NaN      NaN      NaN  \n",
              "3      NaN      NaN      NaN  \n",
              "4  43150.0  43730.0  44370.0  "
            ]
          },
          "metadata": {
            "tags": []
          },
          "execution_count": 83
        }
      ]
    },
    {
      "metadata": {
        "id": "LDCvAKydahqX",
        "colab_type": "code",
        "outputId": "d5477238-1e6c-446c-aba0-2ce9089eca65",
        "colab": {
          "base_uri": "https://localhost:8080/",
          "height": 241
        }
      },
      "cell_type": "code",
      "source": [
        "train2.tail()"
      ],
      "execution_count": 0,
      "outputs": [
        {
          "output_type": "execute_result",
          "data": {
            "text/html": [
              "<div>\n",
              "<style scoped>\n",
              "    .dataframe tbody tr th:only-of-type {\n",
              "        vertical-align: middle;\n",
              "    }\n",
              "\n",
              "    .dataframe tbody tr th {\n",
              "        vertical-align: top;\n",
              "    }\n",
              "\n",
              "    .dataframe thead th {\n",
              "        text-align: right;\n",
              "    }\n",
              "</style>\n",
              "<table border=\"1\" class=\"dataframe\">\n",
              "  <thead>\n",
              "    <tr style=\"text-align: right;\">\n",
              "      <th></th>\n",
              "      <th>Open</th>\n",
              "      <th>High</th>\n",
              "      <th>Low</th>\n",
              "      <th>Close</th>\n",
              "      <th>Volume</th>\n",
              "      <th>Stock Trading</th>\n",
              "      <th>Avg</th>\n",
              "      <th>Year</th>\n",
              "      <th>Month</th>\n",
              "      <th>Day</th>\n",
              "      <th>O_t-3</th>\n",
              "      <th>O_t-2</th>\n",
              "      <th>O_t-1</th>\n",
              "      <th>C_t-3</th>\n",
              "      <th>C_t-2</th>\n",
              "      <th>C_t-1</th>\n",
              "      <th>min</th>\n",
              "      <th>mean</th>\n",
              "      <th>max</th>\n",
              "    </tr>\n",
              "  </thead>\n",
              "  <tbody>\n",
              "    <tr>\n",
              "      <th>1221</th>\n",
              "      <td>14360.0</td>\n",
              "      <td>14750.0</td>\n",
              "      <td>14280.0</td>\n",
              "      <td>14590.0</td>\n",
              "      <td>1043400.0</td>\n",
              "      <td>1.519199e+10</td>\n",
              "      <td>14560.080506</td>\n",
              "      <td>2012.0</td>\n",
              "      <td>1.0</td>\n",
              "      <td>11.0</td>\n",
              "      <td>13720.0</td>\n",
              "      <td>13990.0</td>\n",
              "      <td>13890.0</td>\n",
              "      <td>13800.0</td>\n",
              "      <td>13850.0</td>\n",
              "      <td>14390.0</td>\n",
              "      <td>13840.0</td>\n",
              "      <td>14212.0</td>\n",
              "      <td>14750.0</td>\n",
              "    </tr>\n",
              "    <tr>\n",
              "      <th>1222</th>\n",
              "      <td>13890.0</td>\n",
              "      <td>14390.0</td>\n",
              "      <td>13860.0</td>\n",
              "      <td>14390.0</td>\n",
              "      <td>952300.0</td>\n",
              "      <td>1.353341e+10</td>\n",
              "      <td>14211.291610</td>\n",
              "      <td>2012.0</td>\n",
              "      <td>1.0</td>\n",
              "      <td>10.0</td>\n",
              "      <td>14050.0</td>\n",
              "      <td>13720.0</td>\n",
              "      <td>13990.0</td>\n",
              "      <td>13720.0</td>\n",
              "      <td>13800.0</td>\n",
              "      <td>13850.0</td>\n",
              "      <td>NaN</td>\n",
              "      <td>NaN</td>\n",
              "      <td>NaN</td>\n",
              "    </tr>\n",
              "    <tr>\n",
              "      <th>1223</th>\n",
              "      <td>NaN</td>\n",
              "      <td>NaN</td>\n",
              "      <td>NaN</td>\n",
              "      <td>NaN</td>\n",
              "      <td>NaN</td>\n",
              "      <td>NaN</td>\n",
              "      <td>NaN</td>\n",
              "      <td>NaN</td>\n",
              "      <td>NaN</td>\n",
              "      <td>NaN</td>\n",
              "      <td>NaN</td>\n",
              "      <td>NaN</td>\n",
              "      <td>NaN</td>\n",
              "      <td>NaN</td>\n",
              "      <td>NaN</td>\n",
              "      <td>NaN</td>\n",
              "      <td>NaN</td>\n",
              "      <td>NaN</td>\n",
              "      <td>NaN</td>\n",
              "    </tr>\n",
              "    <tr>\n",
              "      <th>1224</th>\n",
              "      <td>NaN</td>\n",
              "      <td>NaN</td>\n",
              "      <td>NaN</td>\n",
              "      <td>NaN</td>\n",
              "      <td>NaN</td>\n",
              "      <td>NaN</td>\n",
              "      <td>NaN</td>\n",
              "      <td>NaN</td>\n",
              "      <td>NaN</td>\n",
              "      <td>NaN</td>\n",
              "      <td>NaN</td>\n",
              "      <td>NaN</td>\n",
              "      <td>NaN</td>\n",
              "      <td>NaN</td>\n",
              "      <td>NaN</td>\n",
              "      <td>NaN</td>\n",
              "      <td>NaN</td>\n",
              "      <td>NaN</td>\n",
              "      <td>NaN</td>\n",
              "    </tr>\n",
              "    <tr>\n",
              "      <th>1225</th>\n",
              "      <td>NaN</td>\n",
              "      <td>NaN</td>\n",
              "      <td>NaN</td>\n",
              "      <td>NaN</td>\n",
              "      <td>NaN</td>\n",
              "      <td>NaN</td>\n",
              "      <td>NaN</td>\n",
              "      <td>NaN</td>\n",
              "      <td>NaN</td>\n",
              "      <td>NaN</td>\n",
              "      <td>NaN</td>\n",
              "      <td>NaN</td>\n",
              "      <td>NaN</td>\n",
              "      <td>NaN</td>\n",
              "      <td>NaN</td>\n",
              "      <td>NaN</td>\n",
              "      <td>NaN</td>\n",
              "      <td>NaN</td>\n",
              "      <td>NaN</td>\n",
              "    </tr>\n",
              "  </tbody>\n",
              "</table>\n",
              "</div>"
            ],
            "text/plain": [
              "         Open     High      Low    Close     Volume  Stock Trading  \\\n",
              "1221  14360.0  14750.0  14280.0  14590.0  1043400.0   1.519199e+10   \n",
              "1222  13890.0  14390.0  13860.0  14390.0   952300.0   1.353341e+10   \n",
              "1223      NaN      NaN      NaN      NaN        NaN            NaN   \n",
              "1224      NaN      NaN      NaN      NaN        NaN            NaN   \n",
              "1225      NaN      NaN      NaN      NaN        NaN            NaN   \n",
              "\n",
              "               Avg    Year  Month   Day    O_t-3    O_t-2    O_t-1    C_t-3  \\\n",
              "1221  14560.080506  2012.0    1.0  11.0  13720.0  13990.0  13890.0  13800.0   \n",
              "1222  14211.291610  2012.0    1.0  10.0  14050.0  13720.0  13990.0  13720.0   \n",
              "1223           NaN     NaN    NaN   NaN      NaN      NaN      NaN      NaN   \n",
              "1224           NaN     NaN    NaN   NaN      NaN      NaN      NaN      NaN   \n",
              "1225           NaN     NaN    NaN   NaN      NaN      NaN      NaN      NaN   \n",
              "\n",
              "        C_t-2    C_t-1      min     mean      max  \n",
              "1221  13850.0  14390.0  13840.0  14212.0  14750.0  \n",
              "1222  13800.0  13850.0      NaN      NaN      NaN  \n",
              "1223      NaN      NaN      NaN      NaN      NaN  \n",
              "1224      NaN      NaN      NaN      NaN      NaN  \n",
              "1225      NaN      NaN      NaN      NaN      NaN  "
            ]
          },
          "metadata": {
            "tags": []
          },
          "execution_count": 84
        }
      ]
    },
    {
      "metadata": {
        "id": "uQnpofgmahqb",
        "colab_type": "text"
      },
      "cell_type": "markdown",
      "source": [
        "#### Expanding window Statistics"
      ]
    },
    {
      "metadata": {
        "id": "NjIe4u9-ahqb",
        "colab_type": "code",
        "colab": {}
      },
      "cell_type": "code",
      "source": [
        "train2.dropna(inplace=True)"
      ],
      "execution_count": 0,
      "outputs": []
    },
    {
      "metadata": {
        "id": "WUgIkpEwokhp",
        "colab_type": "code",
        "outputId": "13d6d557-5d98-40cc-8ced-ef9702ea8a18",
        "colab": {
          "base_uri": "https://localhost:8080/",
          "height": 241
        }
      },
      "cell_type": "code",
      "source": [
        "train2.head()"
      ],
      "execution_count": 0,
      "outputs": [
        {
          "output_type": "execute_result",
          "data": {
            "text/html": [
              "<div>\n",
              "<style scoped>\n",
              "    .dataframe tbody tr th:only-of-type {\n",
              "        vertical-align: middle;\n",
              "    }\n",
              "\n",
              "    .dataframe tbody tr th {\n",
              "        vertical-align: top;\n",
              "    }\n",
              "\n",
              "    .dataframe thead th {\n",
              "        text-align: right;\n",
              "    }\n",
              "</style>\n",
              "<table border=\"1\" class=\"dataframe\">\n",
              "  <thead>\n",
              "    <tr style=\"text-align: right;\">\n",
              "      <th></th>\n",
              "      <th>Open</th>\n",
              "      <th>High</th>\n",
              "      <th>Low</th>\n",
              "      <th>Close</th>\n",
              "      <th>Volume</th>\n",
              "      <th>Stock Trading</th>\n",
              "      <th>Avg</th>\n",
              "      <th>Year</th>\n",
              "      <th>Month</th>\n",
              "      <th>Day</th>\n",
              "      <th>O_t-3</th>\n",
              "      <th>O_t-2</th>\n",
              "      <th>O_t-1</th>\n",
              "      <th>C_t-3</th>\n",
              "      <th>C_t-2</th>\n",
              "      <th>C_t-1</th>\n",
              "      <th>min</th>\n",
              "      <th>mean</th>\n",
              "      <th>max</th>\n",
              "    </tr>\n",
              "  </thead>\n",
              "  <tbody>\n",
              "    <tr>\n",
              "      <th>4</th>\n",
              "      <td>43310.0</td>\n",
              "      <td>43660.0</td>\n",
              "      <td>43090.0</td>\n",
              "      <td>43340.0</td>\n",
              "      <td>358200.0</td>\n",
              "      <td>1.554780e+10</td>\n",
              "      <td>43405.368509</td>\n",
              "      <td>2016.0</td>\n",
              "      <td>12.0</td>\n",
              "      <td>26.0</td>\n",
              "      <td>42910.0</td>\n",
              "      <td>43900.0</td>\n",
              "      <td>43660.0</td>\n",
              "      <td>43620.0</td>\n",
              "      <td>44000.0</td>\n",
              "      <td>43480.0</td>\n",
              "      <td>43150.0</td>\n",
              "      <td>43730.0</td>\n",
              "      <td>44370.0</td>\n",
              "    </tr>\n",
              "    <tr>\n",
              "      <th>5</th>\n",
              "      <td>43660.0</td>\n",
              "      <td>43840.0</td>\n",
              "      <td>43190.0</td>\n",
              "      <td>43480.0</td>\n",
              "      <td>381600.0</td>\n",
              "      <td>1.658649e+10</td>\n",
              "      <td>43465.647275</td>\n",
              "      <td>2016.0</td>\n",
              "      <td>12.0</td>\n",
              "      <td>22.0</td>\n",
              "      <td>42790.0</td>\n",
              "      <td>42910.0</td>\n",
              "      <td>43900.0</td>\n",
              "      <td>43130.0</td>\n",
              "      <td>43620.0</td>\n",
              "      <td>44000.0</td>\n",
              "      <td>43150.0</td>\n",
              "      <td>43708.0</td>\n",
              "      <td>44370.0</td>\n",
              "    </tr>\n",
              "    <tr>\n",
              "      <th>6</th>\n",
              "      <td>43900.0</td>\n",
              "      <td>44370.0</td>\n",
              "      <td>43610.0</td>\n",
              "      <td>44000.0</td>\n",
              "      <td>658900.0</td>\n",
              "      <td>2.899432e+10</td>\n",
              "      <td>44004.122022</td>\n",
              "      <td>2016.0</td>\n",
              "      <td>12.0</td>\n",
              "      <td>21.0</td>\n",
              "      <td>43350.0</td>\n",
              "      <td>42790.0</td>\n",
              "      <td>42910.0</td>\n",
              "      <td>43130.0</td>\n",
              "      <td>43130.0</td>\n",
              "      <td>43620.0</td>\n",
              "      <td>43150.0</td>\n",
              "      <td>43716.0</td>\n",
              "      <td>44370.0</td>\n",
              "    </tr>\n",
              "    <tr>\n",
              "      <th>7</th>\n",
              "      <td>42910.0</td>\n",
              "      <td>43630.0</td>\n",
              "      <td>42860.0</td>\n",
              "      <td>43620.0</td>\n",
              "      <td>499400.0</td>\n",
              "      <td>2.160610e+10</td>\n",
              "      <td>43264.120945</td>\n",
              "      <td>2016.0</td>\n",
              "      <td>12.0</td>\n",
              "      <td>20.0</td>\n",
              "      <td>43440.0</td>\n",
              "      <td>43350.0</td>\n",
              "      <td>42790.0</td>\n",
              "      <td>43000.0</td>\n",
              "      <td>43130.0</td>\n",
              "      <td>43130.0</td>\n",
              "      <td>43150.0</td>\n",
              "      <td>43530.0</td>\n",
              "      <td>43880.0</td>\n",
              "    </tr>\n",
              "    <tr>\n",
              "      <th>8</th>\n",
              "      <td>42790.0</td>\n",
              "      <td>43150.0</td>\n",
              "      <td>42740.0</td>\n",
              "      <td>43130.0</td>\n",
              "      <td>358700.0</td>\n",
              "      <td>1.542853e+10</td>\n",
              "      <td>43012.352941</td>\n",
              "      <td>2016.0</td>\n",
              "      <td>12.0</td>\n",
              "      <td>19.0</td>\n",
              "      <td>43300.0</td>\n",
              "      <td>43440.0</td>\n",
              "      <td>43350.0</td>\n",
              "      <td>43090.0</td>\n",
              "      <td>43000.0</td>\n",
              "      <td>43130.0</td>\n",
              "      <td>43150.0</td>\n",
              "      <td>43464.0</td>\n",
              "      <td>43880.0</td>\n",
              "    </tr>\n",
              "  </tbody>\n",
              "</table>\n",
              "</div>"
            ],
            "text/plain": [
              "      Open     High      Low    Close    Volume  Stock Trading           Avg  \\\n",
              "4  43310.0  43660.0  43090.0  43340.0  358200.0   1.554780e+10  43405.368509   \n",
              "5  43660.0  43840.0  43190.0  43480.0  381600.0   1.658649e+10  43465.647275   \n",
              "6  43900.0  44370.0  43610.0  44000.0  658900.0   2.899432e+10  44004.122022   \n",
              "7  42910.0  43630.0  42860.0  43620.0  499400.0   2.160610e+10  43264.120945   \n",
              "8  42790.0  43150.0  42740.0  43130.0  358700.0   1.542853e+10  43012.352941   \n",
              "\n",
              "     Year  Month   Day    O_t-3    O_t-2    O_t-1    C_t-3    C_t-2    C_t-1  \\\n",
              "4  2016.0   12.0  26.0  42910.0  43900.0  43660.0  43620.0  44000.0  43480.0   \n",
              "5  2016.0   12.0  22.0  42790.0  42910.0  43900.0  43130.0  43620.0  44000.0   \n",
              "6  2016.0   12.0  21.0  43350.0  42790.0  42910.0  43130.0  43130.0  43620.0   \n",
              "7  2016.0   12.0  20.0  43440.0  43350.0  42790.0  43000.0  43130.0  43130.0   \n",
              "8  2016.0   12.0  19.0  43300.0  43440.0  43350.0  43090.0  43000.0  43130.0   \n",
              "\n",
              "       min     mean      max  \n",
              "4  43150.0  43730.0  44370.0  \n",
              "5  43150.0  43708.0  44370.0  \n",
              "6  43150.0  43716.0  44370.0  \n",
              "7  43150.0  43530.0  43880.0  \n",
              "8  43150.0  43464.0  43880.0  "
            ]
          },
          "metadata": {
            "tags": []
          },
          "execution_count": 86
        }
      ]
    },
    {
      "metadata": {
        "id": "pDvd4wCWahqd",
        "colab_type": "code",
        "colab": {}
      },
      "cell_type": "code",
      "source": [
        "#Applying Expanding window for the Lowest Value\n",
        "low= train['Low']\n",
        "window = low.expanding(5)\n",
        "dfc = concat([window.min(), window.mean(), window.max()], axis=1)\n",
        "dfc.columns = ['min', 'mean', 'max']"
      ],
      "execution_count": 0,
      "outputs": []
    },
    {
      "metadata": {
        "id": "_pkW27t-ahqg",
        "colab_type": "code",
        "outputId": "1ddcc9bd-beee-4dc1-e8da-7d3e34fc4656",
        "colab": {
          "base_uri": "https://localhost:8080/",
          "height": 34
        }
      },
      "cell_type": "code",
      "source": [
        "#no null values\n",
        "dfc.shape"
      ],
      "execution_count": 0,
      "outputs": [
        {
          "output_type": "execute_result",
          "data": {
            "text/plain": [
              "(1226, 3)"
            ]
          },
          "metadata": {
            "tags": []
          },
          "execution_count": 116
        }
      ]
    },
    {
      "metadata": {
        "id": "8EhOaqlQahqj",
        "colab_type": "code",
        "colab": {}
      },
      "cell_type": "code",
      "source": [
        "#to make it equal to the train2, dropping forst 4 values\n",
        "#dfc.drop(dfc.head(4).index, inplace=True)"
      ],
      "execution_count": 0,
      "outputs": []
    },
    {
      "metadata": {
        "id": "CLAM7rRnahqo",
        "colab_type": "code",
        "outputId": "a56f8d6b-7f45-46e7-f4c9-5174c500c34d",
        "colab": {
          "base_uri": "https://localhost:8080/",
          "height": 34
        }
      },
      "cell_type": "code",
      "source": [
        "dfc.shape"
      ],
      "execution_count": 0,
      "outputs": [
        {
          "output_type": "execute_result",
          "data": {
            "text/plain": [
              "(1226, 3)"
            ]
          },
          "metadata": {
            "tags": []
          },
          "execution_count": 118
        }
      ]
    },
    {
      "metadata": {
        "id": "r2Q6i96Lahqt",
        "colab_type": "code",
        "colab": {}
      },
      "cell_type": "code",
      "source": [
        "#concating the expanding window features to the previous train2.\n",
        "train_final = pd.concat([train2, dfc], axis=1)"
      ],
      "execution_count": 0,
      "outputs": []
    },
    {
      "metadata": {
        "id": "2TH0BsObahqw",
        "colab_type": "code",
        "outputId": "fb795724-f770-40bb-99d2-990b5059fd3d",
        "colab": {
          "base_uri": "https://localhost:8080/",
          "height": 270
        }
      },
      "cell_type": "code",
      "source": [
        "train_final.tail()"
      ],
      "execution_count": 0,
      "outputs": [
        {
          "output_type": "execute_result",
          "data": {
            "text/html": [
              "<div>\n",
              "<style scoped>\n",
              "    .dataframe tbody tr th:only-of-type {\n",
              "        vertical-align: middle;\n",
              "    }\n",
              "\n",
              "    .dataframe tbody tr th {\n",
              "        vertical-align: top;\n",
              "    }\n",
              "\n",
              "    .dataframe thead th {\n",
              "        text-align: right;\n",
              "    }\n",
              "</style>\n",
              "<table border=\"1\" class=\"dataframe\">\n",
              "  <thead>\n",
              "    <tr style=\"text-align: right;\">\n",
              "      <th></th>\n",
              "      <th>Open</th>\n",
              "      <th>High</th>\n",
              "      <th>Low</th>\n",
              "      <th>Close</th>\n",
              "      <th>Volume</th>\n",
              "      <th>Stock Trading</th>\n",
              "      <th>Avg</th>\n",
              "      <th>Year</th>\n",
              "      <th>Month</th>\n",
              "      <th>Day</th>\n",
              "      <th>...</th>\n",
              "      <th>O_t-1</th>\n",
              "      <th>C_t-3</th>\n",
              "      <th>C_t-2</th>\n",
              "      <th>C_t-1</th>\n",
              "      <th>min</th>\n",
              "      <th>mean</th>\n",
              "      <th>max</th>\n",
              "      <th>min</th>\n",
              "      <th>mean</th>\n",
              "      <th>max</th>\n",
              "    </tr>\n",
              "  </thead>\n",
              "  <tbody>\n",
              "    <tr>\n",
              "      <th>1221</th>\n",
              "      <td>14360.0</td>\n",
              "      <td>14750.0</td>\n",
              "      <td>14280.0</td>\n",
              "      <td>14590.0</td>\n",
              "      <td>1043400.0</td>\n",
              "      <td>1.519199e+10</td>\n",
              "      <td>14560.080506</td>\n",
              "      <td>2012.0</td>\n",
              "      <td>1.0</td>\n",
              "      <td>11.0</td>\n",
              "      <td>...</td>\n",
              "      <td>13890.0</td>\n",
              "      <td>13800.0</td>\n",
              "      <td>13850.0</td>\n",
              "      <td>14390.0</td>\n",
              "      <td>13840.0</td>\n",
              "      <td>14212.0</td>\n",
              "      <td>14750.0</td>\n",
              "      <td>14280.0</td>\n",
              "      <td>33412.094926</td>\n",
              "      <td>60740.0</td>\n",
              "    </tr>\n",
              "    <tr>\n",
              "      <th>1222</th>\n",
              "      <td>NaN</td>\n",
              "      <td>NaN</td>\n",
              "      <td>NaN</td>\n",
              "      <td>NaN</td>\n",
              "      <td>NaN</td>\n",
              "      <td>NaN</td>\n",
              "      <td>NaN</td>\n",
              "      <td>NaN</td>\n",
              "      <td>NaN</td>\n",
              "      <td>NaN</td>\n",
              "      <td>...</td>\n",
              "      <td>NaN</td>\n",
              "      <td>NaN</td>\n",
              "      <td>NaN</td>\n",
              "      <td>NaN</td>\n",
              "      <td>NaN</td>\n",
              "      <td>NaN</td>\n",
              "      <td>NaN</td>\n",
              "      <td>13860.0</td>\n",
              "      <td>33396.107931</td>\n",
              "      <td>60740.0</td>\n",
              "    </tr>\n",
              "    <tr>\n",
              "      <th>1223</th>\n",
              "      <td>NaN</td>\n",
              "      <td>NaN</td>\n",
              "      <td>NaN</td>\n",
              "      <td>NaN</td>\n",
              "      <td>NaN</td>\n",
              "      <td>NaN</td>\n",
              "      <td>NaN</td>\n",
              "      <td>NaN</td>\n",
              "      <td>NaN</td>\n",
              "      <td>NaN</td>\n",
              "      <td>...</td>\n",
              "      <td>NaN</td>\n",
              "      <td>NaN</td>\n",
              "      <td>NaN</td>\n",
              "      <td>NaN</td>\n",
              "      <td>NaN</td>\n",
              "      <td>NaN</td>\n",
              "      <td>NaN</td>\n",
              "      <td>13790.0</td>\n",
              "      <td>33380.089869</td>\n",
              "      <td>60740.0</td>\n",
              "    </tr>\n",
              "    <tr>\n",
              "      <th>1224</th>\n",
              "      <td>NaN</td>\n",
              "      <td>NaN</td>\n",
              "      <td>NaN</td>\n",
              "      <td>NaN</td>\n",
              "      <td>NaN</td>\n",
              "      <td>NaN</td>\n",
              "      <td>NaN</td>\n",
              "      <td>NaN</td>\n",
              "      <td>NaN</td>\n",
              "      <td>NaN</td>\n",
              "      <td>...</td>\n",
              "      <td>NaN</td>\n",
              "      <td>NaN</td>\n",
              "      <td>NaN</td>\n",
              "      <td>NaN</td>\n",
              "      <td>NaN</td>\n",
              "      <td>NaN</td>\n",
              "      <td>NaN</td>\n",
              "      <td>13600.0</td>\n",
              "      <td>33363.942857</td>\n",
              "      <td>60740.0</td>\n",
              "    </tr>\n",
              "    <tr>\n",
              "      <th>1225</th>\n",
              "      <td>NaN</td>\n",
              "      <td>NaN</td>\n",
              "      <td>NaN</td>\n",
              "      <td>NaN</td>\n",
              "      <td>NaN</td>\n",
              "      <td>NaN</td>\n",
              "      <td>NaN</td>\n",
              "      <td>NaN</td>\n",
              "      <td>NaN</td>\n",
              "      <td>NaN</td>\n",
              "      <td>...</td>\n",
              "      <td>NaN</td>\n",
              "      <td>NaN</td>\n",
              "      <td>NaN</td>\n",
              "      <td>NaN</td>\n",
              "      <td>NaN</td>\n",
              "      <td>NaN</td>\n",
              "      <td>NaN</td>\n",
              "      <td>13600.0</td>\n",
              "      <td>33347.903752</td>\n",
              "      <td>60740.0</td>\n",
              "    </tr>\n",
              "  </tbody>\n",
              "</table>\n",
              "<p>5 rows × 22 columns</p>\n",
              "</div>"
            ],
            "text/plain": [
              "         Open     High      Low    Close     Volume  Stock Trading  \\\n",
              "1221  14360.0  14750.0  14280.0  14590.0  1043400.0   1.519199e+10   \n",
              "1222      NaN      NaN      NaN      NaN        NaN            NaN   \n",
              "1223      NaN      NaN      NaN      NaN        NaN            NaN   \n",
              "1224      NaN      NaN      NaN      NaN        NaN            NaN   \n",
              "1225      NaN      NaN      NaN      NaN        NaN            NaN   \n",
              "\n",
              "               Avg    Year  Month   Day   ...       O_t-1    C_t-3    C_t-2  \\\n",
              "1221  14560.080506  2012.0    1.0  11.0   ...     13890.0  13800.0  13850.0   \n",
              "1222           NaN     NaN    NaN   NaN   ...         NaN      NaN      NaN   \n",
              "1223           NaN     NaN    NaN   NaN   ...         NaN      NaN      NaN   \n",
              "1224           NaN     NaN    NaN   NaN   ...         NaN      NaN      NaN   \n",
              "1225           NaN     NaN    NaN   NaN   ...         NaN      NaN      NaN   \n",
              "\n",
              "        C_t-1      min     mean      max      min          mean      max  \n",
              "1221  14390.0  13840.0  14212.0  14750.0  14280.0  33412.094926  60740.0  \n",
              "1222      NaN      NaN      NaN      NaN  13860.0  33396.107931  60740.0  \n",
              "1223      NaN      NaN      NaN      NaN  13790.0  33380.089869  60740.0  \n",
              "1224      NaN      NaN      NaN      NaN  13600.0  33363.942857  60740.0  \n",
              "1225      NaN      NaN      NaN      NaN  13600.0  33347.903752  60740.0  \n",
              "\n",
              "[5 rows x 22 columns]"
            ]
          },
          "metadata": {
            "tags": []
          },
          "execution_count": 93
        }
      ]
    },
    {
      "metadata": {
        "id": "EeXNY_Lgahqz",
        "colab_type": "code",
        "colab": {}
      },
      "cell_type": "code",
      "source": [
        "#Replacing the null values with -1 if any.\n",
        "train_final.dropna(inplace = True)"
      ],
      "execution_count": 0,
      "outputs": []
    },
    {
      "metadata": {
        "id": "XZtNllkwahq3",
        "colab_type": "code",
        "outputId": "d4064191-6c49-4f6a-a33a-c5eebfd79c83",
        "colab": {
          "base_uri": "https://localhost:8080/",
          "height": 34
        }
      },
      "cell_type": "code",
      "source": [
        "#Complete final Train Data\n",
        "train_final.shape"
      ],
      "execution_count": 0,
      "outputs": [
        {
          "output_type": "execute_result",
          "data": {
            "text/plain": [
              "(1218, 22)"
            ]
          },
          "metadata": {
            "tags": []
          },
          "execution_count": 95
        }
      ]
    },
    {
      "metadata": {
        "id": "m8EIYYN8ahq9",
        "colab_type": "code",
        "colab": {}
      },
      "cell_type": "code",
      "source": [
        "train_final.drop('High',axis=1,inplace=True)\n",
        "train_final.drop('Low',axis=1,inplace=True)\n",
        "train_final.drop('Open',axis=1,inplace=True)"
      ],
      "execution_count": 0,
      "outputs": []
    },
    {
      "metadata": {
        "id": "gGclqSZqahq_",
        "colab_type": "text"
      },
      "cell_type": "markdown",
      "source": [
        "### Splitting of Data"
      ]
    },
    {
      "metadata": {
        "id": "fU9AmcE-ahrA",
        "colab_type": "code",
        "colab": {}
      },
      "cell_type": "code",
      "source": [
        "from sklearn.model_selection import train_test_split"
      ],
      "execution_count": 0,
      "outputs": []
    },
    {
      "metadata": {
        "id": "Es_4qfwNspYx",
        "colab_type": "code",
        "outputId": "074bc90c-b48b-4235-e91b-962fbc6a153e",
        "colab": {
          "base_uri": "https://localhost:8080/",
          "height": 425
        }
      },
      "cell_type": "code",
      "source": [
        "train_final.info()"
      ],
      "execution_count": 0,
      "outputs": [
        {
          "output_type": "stream",
          "text": [
            "<class 'pandas.core.frame.DataFrame'>\n",
            "Int64Index: 1218 entries, 4 to 1221\n",
            "Data columns (total 19 columns):\n",
            "Close            1218 non-null float64\n",
            "Volume           1218 non-null float64\n",
            "Stock Trading    1218 non-null float64\n",
            "Avg              1218 non-null float64\n",
            "Year             1218 non-null float64\n",
            "Month            1218 non-null float64\n",
            "Day              1218 non-null float64\n",
            "O_t-3            1218 non-null float64\n",
            "O_t-2            1218 non-null float64\n",
            "O_t-1            1218 non-null float64\n",
            "C_t-3            1218 non-null float64\n",
            "C_t-2            1218 non-null float64\n",
            "C_t-1            1218 non-null float64\n",
            "min              1218 non-null float64\n",
            "mean             1218 non-null float64\n",
            "max              1218 non-null float64\n",
            "min              1218 non-null float64\n",
            "mean             1218 non-null float64\n",
            "max              1218 non-null float64\n",
            "dtypes: float64(19)\n",
            "memory usage: 190.3 KB\n"
          ],
          "name": "stdout"
        }
      ]
    },
    {
      "metadata": {
        "id": "UXjU6vmkahrD",
        "colab_type": "code",
        "colab": {}
      },
      "cell_type": "code",
      "source": [
        "train_final.drop(['Avg'],axis=1,inplace=True)\n"
      ],
      "execution_count": 0,
      "outputs": []
    },
    {
      "metadata": {
        "id": "IAsk0RbLtLZ6",
        "colab_type": "code",
        "outputId": "f55e550e-87fb-47ca-c2d3-374bfa16f790",
        "colab": {
          "base_uri": "https://localhost:8080/",
          "height": 408
        }
      },
      "cell_type": "code",
      "source": [
        "train_final.info()"
      ],
      "execution_count": 0,
      "outputs": [
        {
          "output_type": "stream",
          "text": [
            "<class 'pandas.core.frame.DataFrame'>\n",
            "Int64Index: 1218 entries, 4 to 1221\n",
            "Data columns (total 18 columns):\n",
            "Close            1218 non-null float64\n",
            "Volume           1218 non-null float64\n",
            "Stock Trading    1218 non-null float64\n",
            "Year             1218 non-null float64\n",
            "Month            1218 non-null float64\n",
            "Day              1218 non-null float64\n",
            "O_t-3            1218 non-null float64\n",
            "O_t-2            1218 non-null float64\n",
            "O_t-1            1218 non-null float64\n",
            "C_t-3            1218 non-null float64\n",
            "C_t-2            1218 non-null float64\n",
            "C_t-1            1218 non-null float64\n",
            "min              1218 non-null float64\n",
            "mean             1218 non-null float64\n",
            "max              1218 non-null float64\n",
            "min              1218 non-null float64\n",
            "mean             1218 non-null float64\n",
            "max              1218 non-null float64\n",
            "dtypes: float64(18)\n",
            "memory usage: 180.8 KB\n"
          ],
          "name": "stdout"
        }
      ]
    },
    {
      "metadata": {
        "id": "H7iRznA1s3Tu",
        "colab_type": "code",
        "colab": {}
      },
      "cell_type": "code",
      "source": [
        "\n",
        "X_train,X_test,y_train,y_test = train_test_split(train_final.drop('Close',axis=1)\n",
        "                                                 ,train_final['Close'],random_state=42)"
      ],
      "execution_count": 0,
      "outputs": []
    },
    {
      "metadata": {
        "id": "zZG7ATGYahrF",
        "colab_type": "code",
        "outputId": "6b57338f-e892-4789-a7a0-5c234669292b",
        "colab": {
          "base_uri": "https://localhost:8080/",
          "height": 241
        }
      },
      "cell_type": "code",
      "source": [
        "X_train.head()"
      ],
      "execution_count": 0,
      "outputs": [
        {
          "output_type": "execute_result",
          "data": {
            "text/html": [
              "<div>\n",
              "<style scoped>\n",
              "    .dataframe tbody tr th:only-of-type {\n",
              "        vertical-align: middle;\n",
              "    }\n",
              "\n",
              "    .dataframe tbody tr th {\n",
              "        vertical-align: top;\n",
              "    }\n",
              "\n",
              "    .dataframe thead th {\n",
              "        text-align: right;\n",
              "    }\n",
              "</style>\n",
              "<table border=\"1\" class=\"dataframe\">\n",
              "  <thead>\n",
              "    <tr style=\"text-align: right;\">\n",
              "      <th></th>\n",
              "      <th>Volume</th>\n",
              "      <th>Stock Trading</th>\n",
              "      <th>Year</th>\n",
              "      <th>Month</th>\n",
              "      <th>Day</th>\n",
              "      <th>O_t-3</th>\n",
              "      <th>O_t-2</th>\n",
              "      <th>O_t-1</th>\n",
              "      <th>C_t-3</th>\n",
              "      <th>C_t-2</th>\n",
              "      <th>C_t-1</th>\n",
              "      <th>min</th>\n",
              "      <th>mean</th>\n",
              "      <th>max</th>\n",
              "      <th>min</th>\n",
              "      <th>mean</th>\n",
              "      <th>max</th>\n",
              "    </tr>\n",
              "  </thead>\n",
              "  <tbody>\n",
              "    <tr>\n",
              "      <th>465</th>\n",
              "      <td>354300.0</td>\n",
              "      <td>1.559639e+10</td>\n",
              "      <td>2015.0</td>\n",
              "      <td>2.0</td>\n",
              "      <td>6.0</td>\n",
              "      <td>43245.0</td>\n",
              "      <td>43100.0</td>\n",
              "      <td>43560.0</td>\n",
              "      <td>42185.0</td>\n",
              "      <td>43850.0</td>\n",
              "      <td>43475.0</td>\n",
              "      <td>43350.0</td>\n",
              "      <td>43834.0</td>\n",
              "      <td>44270.0</td>\n",
              "      <td>25305.0</td>\n",
              "      <td>40775.987124</td>\n",
              "      <td>60740.0</td>\n",
              "    </tr>\n",
              "    <tr>\n",
              "      <th>140</th>\n",
              "      <td>662200.0</td>\n",
              "      <td>1.984341e+10</td>\n",
              "      <td>2016.0</td>\n",
              "      <td>6.0</td>\n",
              "      <td>7.0</td>\n",
              "      <td>28800.0</td>\n",
              "      <td>29205.0</td>\n",
              "      <td>29420.0</td>\n",
              "      <td>28180.0</td>\n",
              "      <td>30120.0</td>\n",
              "      <td>30090.0</td>\n",
              "      <td>28800.0</td>\n",
              "      <td>29897.0</td>\n",
              "      <td>30450.0</td>\n",
              "      <td>25305.0</td>\n",
              "      <td>34756.985816</td>\n",
              "      <td>43610.0</td>\n",
              "    </tr>\n",
              "    <tr>\n",
              "      <th>1010</th>\n",
              "      <td>298200.0</td>\n",
              "      <td>5.013973e+09</td>\n",
              "      <td>2012.0</td>\n",
              "      <td>11.0</td>\n",
              "      <td>12.0</td>\n",
              "      <td>17480.0</td>\n",
              "      <td>17220.0</td>\n",
              "      <td>17050.0</td>\n",
              "      <td>17380.0</td>\n",
              "      <td>17140.0</td>\n",
              "      <td>16870.0</td>\n",
              "      <td>16950.0</td>\n",
              "      <td>17284.0</td>\n",
              "      <td>17530.0</td>\n",
              "      <td>16620.0</td>\n",
              "      <td>36890.267062</td>\n",
              "      <td>60740.0</td>\n",
              "    </tr>\n",
              "    <tr>\n",
              "      <th>437</th>\n",
              "      <td>601700.0</td>\n",
              "      <td>2.742257e+10</td>\n",
              "      <td>2015.0</td>\n",
              "      <td>3.0</td>\n",
              "      <td>19.0</td>\n",
              "      <td>46190.0</td>\n",
              "      <td>46810.0</td>\n",
              "      <td>46295.0</td>\n",
              "      <td>46265.0</td>\n",
              "      <td>46200.0</td>\n",
              "      <td>46140.0</td>\n",
              "      <td>45930.0</td>\n",
              "      <td>46476.0</td>\n",
              "      <td>46845.0</td>\n",
              "      <td>25305.0</td>\n",
              "      <td>40526.689498</td>\n",
              "      <td>60740.0</td>\n",
              "    </tr>\n",
              "    <tr>\n",
              "      <th>7</th>\n",
              "      <td>499400.0</td>\n",
              "      <td>2.160610e+10</td>\n",
              "      <td>2016.0</td>\n",
              "      <td>12.0</td>\n",
              "      <td>20.0</td>\n",
              "      <td>43440.0</td>\n",
              "      <td>43350.0</td>\n",
              "      <td>42790.0</td>\n",
              "      <td>43000.0</td>\n",
              "      <td>43130.0</td>\n",
              "      <td>43130.0</td>\n",
              "      <td>43150.0</td>\n",
              "      <td>43530.0</td>\n",
              "      <td>43880.0</td>\n",
              "      <td>41700.0</td>\n",
              "      <td>42925.000000</td>\n",
              "      <td>43610.0</td>\n",
              "    </tr>\n",
              "  </tbody>\n",
              "</table>\n",
              "</div>"
            ],
            "text/plain": [
              "        Volume  Stock Trading    Year  Month   Day    O_t-3    O_t-2    O_t-1  \\\n",
              "465   354300.0   1.559639e+10  2015.0    2.0   6.0  43245.0  43100.0  43560.0   \n",
              "140   662200.0   1.984341e+10  2016.0    6.0   7.0  28800.0  29205.0  29420.0   \n",
              "1010  298200.0   5.013973e+09  2012.0   11.0  12.0  17480.0  17220.0  17050.0   \n",
              "437   601700.0   2.742257e+10  2015.0    3.0  19.0  46190.0  46810.0  46295.0   \n",
              "7     499400.0   2.160610e+10  2016.0   12.0  20.0  43440.0  43350.0  42790.0   \n",
              "\n",
              "        C_t-3    C_t-2    C_t-1      min     mean      max      min  \\\n",
              "465   42185.0  43850.0  43475.0  43350.0  43834.0  44270.0  25305.0   \n",
              "140   28180.0  30120.0  30090.0  28800.0  29897.0  30450.0  25305.0   \n",
              "1010  17380.0  17140.0  16870.0  16950.0  17284.0  17530.0  16620.0   \n",
              "437   46265.0  46200.0  46140.0  45930.0  46476.0  46845.0  25305.0   \n",
              "7     43000.0  43130.0  43130.0  43150.0  43530.0  43880.0  41700.0   \n",
              "\n",
              "              mean      max  \n",
              "465   40775.987124  60740.0  \n",
              "140   34756.985816  43610.0  \n",
              "1010  36890.267062  60740.0  \n",
              "437   40526.689498  60740.0  \n",
              "7     42925.000000  43610.0  "
            ]
          },
          "metadata": {
            "tags": []
          },
          "execution_count": 102
        }
      ]
    },
    {
      "metadata": {
        "id": "MQQ1YVn2ahrK",
        "colab_type": "text"
      },
      "cell_type": "markdown",
      "source": [
        "### Applying Regressor Model"
      ]
    },
    {
      "metadata": {
        "id": "2cNBp9sKahrL",
        "colab_type": "code",
        "colab": {}
      },
      "cell_type": "code",
      "source": [
        "model=RandomForestRegressor()\n"
      ],
      "execution_count": 0,
      "outputs": []
    },
    {
      "metadata": {
        "id": "7TN2pbNsahrN",
        "colab_type": "code",
        "outputId": "44621d20-171f-406a-858f-38d78f45ec4d",
        "colab": {
          "base_uri": "https://localhost:8080/",
          "height": 119
        }
      },
      "cell_type": "code",
      "source": [
        "model.fit(X_train,y_train)"
      ],
      "execution_count": 0,
      "outputs": [
        {
          "output_type": "execute_result",
          "data": {
            "text/plain": [
              "RandomForestRegressor(bootstrap=True, criterion='mse', max_depth=None,\n",
              "           max_features='auto', max_leaf_nodes=None,\n",
              "           min_impurity_decrease=0.0, min_impurity_split=None,\n",
              "           min_samples_leaf=1, min_samples_split=2,\n",
              "           min_weight_fraction_leaf=0.0, n_estimators=10, n_jobs=1,\n",
              "           oob_score=False, random_state=None, verbose=0, warm_start=False)"
            ]
          },
          "metadata": {
            "tags": []
          },
          "execution_count": 104
        }
      ]
    },
    {
      "metadata": {
        "id": "58_Zfjj3ahrS",
        "colab_type": "code",
        "colab": {}
      },
      "cell_type": "code",
      "source": [
        "predict=model.predict(X_test)"
      ],
      "execution_count": 0,
      "outputs": []
    },
    {
      "metadata": {
        "id": "IrDCe00vahrW",
        "colab_type": "code",
        "outputId": "7d55599d-eeb2-43e1-f0b3-814e940c5383",
        "colab": {
          "base_uri": "https://localhost:8080/",
          "height": 102
        }
      },
      "cell_type": "code",
      "source": [
        "model.feature_importances_"
      ],
      "execution_count": 0,
      "outputs": [
        {
          "output_type": "execute_result",
          "data": {
            "text/plain": [
              "array([4.46053664e-04, 4.06862641e-04, 3.62074106e-03, 1.88145893e-04,\n",
              "       3.32499005e-04, 5.41658738e-03, 7.40572802e-02, 1.25680587e-01,\n",
              "       4.85934482e-03, 7.03764097e-02, 4.49159206e-01, 1.31861091e-02,\n",
              "       4.26119946e-02, 2.07849386e-01, 1.16070099e-03, 6.14562756e-04,\n",
              "       3.35300464e-05])"
            ]
          },
          "metadata": {
            "tags": []
          },
          "execution_count": 106
        }
      ]
    },
    {
      "metadata": {
        "id": "qjeY8PA0ahrb",
        "colab_type": "code",
        "colab": {}
      },
      "cell_type": "code",
      "source": [
        "imp_list = list(model.feature_importances_)"
      ],
      "execution_count": 0,
      "outputs": []
    },
    {
      "metadata": {
        "id": "vpW8ZZvnahrd",
        "colab_type": "code",
        "colab": {}
      },
      "cell_type": "code",
      "source": [
        "col_lis = list(X_test.columns)"
      ],
      "execution_count": 0,
      "outputs": []
    },
    {
      "metadata": {
        "id": "pRFgJPMaahrf",
        "colab_type": "code",
        "colab": {}
      },
      "cell_type": "code",
      "source": [
        "feature_importances = {i[0]:\"{0:.4f}\".format(i[1]) for i in list(zip(col_lis,imp_list))}"
      ],
      "execution_count": 0,
      "outputs": []
    },
    {
      "metadata": {
        "id": "nBPE3Y36ahrh",
        "colab_type": "code",
        "outputId": "d721c871-18f8-49c0-e27a-e1f12b7378f1",
        "colab": {
          "base_uri": "https://localhost:8080/",
          "height": 255
        }
      },
      "cell_type": "code",
      "source": [
        "feature_importances"
      ],
      "execution_count": 0,
      "outputs": [
        {
          "output_type": "execute_result",
          "data": {
            "text/plain": [
              "{'C_t-1': '0.4492',\n",
              " 'C_t-2': '0.0704',\n",
              " 'C_t-3': '0.0049',\n",
              " 'Day': '0.0003',\n",
              " 'Month': '0.0002',\n",
              " 'O_t-1': '0.1257',\n",
              " 'O_t-2': '0.0741',\n",
              " 'O_t-3': '0.0054',\n",
              " 'Stock Trading': '0.0004',\n",
              " 'Volume': '0.0004',\n",
              " 'Year': '0.0036',\n",
              " 'max': '0.0000',\n",
              " 'mean': '0.0006',\n",
              " 'min': '0.0012'}"
            ]
          },
          "metadata": {
            "tags": []
          },
          "execution_count": 123
        }
      ]
    },
    {
      "metadata": {
        "id": "o7Kn1PT2ahrk",
        "colab_type": "text"
      },
      "cell_type": "markdown",
      "source": [
        "#### Measuring the Score. (Evaluation Metrics)"
      ]
    },
    {
      "metadata": {
        "id": "BhLArz9pahrl",
        "colab_type": "code",
        "outputId": "52de452e-c44b-491e-a76c-aba444d8e78d",
        "colab": {
          "base_uri": "https://localhost:8080/",
          "height": 68
        }
      },
      "cell_type": "code",
      "source": [
        "from sklearn import metrics\n",
        "print('MAE:', metrics.mean_absolute_error(y_test, predict))\n",
        "print('MSE:', metrics.mean_squared_error(y_test, predict))\n",
        "print('RMSE:', np.sqrt(metrics.mean_squared_error(y_test, predict)))"
      ],
      "execution_count": 0,
      "outputs": [
        {
          "output_type": "stream",
          "text": [
            "MAE: 655.5131147540984\n",
            "MSE: 873424.3926229508\n",
            "RMSE: 934.5717696479767\n"
          ],
          "name": "stdout"
        }
      ]
    },
    {
      "metadata": {
        "id": "Ybkfbz3zahro",
        "colab_type": "code",
        "outputId": "3b5ff466-b65e-481b-dcb9-2bc007e44d13",
        "colab": {
          "base_uri": "https://localhost:8080/",
          "height": 34
        }
      },
      "cell_type": "code",
      "source": [
        "from sklearn.cross_validation import cross_val_score\n",
        "\n",
        "print(cross_val_score(model, X_test, y_test,cv=5))"
      ],
      "execution_count": 0,
      "outputs": [
        {
          "output_type": "stream",
          "text": [
            "[0.99133273 0.98842653 0.99119089 0.99046626 0.99055362]\n"
          ],
          "name": "stdout"
        }
      ]
    },
    {
      "metadata": {
        "id": "fqw3_nKat4FJ",
        "colab_type": "code",
        "colab": {}
      },
      "cell_type": "code",
      "source": [
        ""
      ],
      "execution_count": 0,
      "outputs": []
    }
  ]
}