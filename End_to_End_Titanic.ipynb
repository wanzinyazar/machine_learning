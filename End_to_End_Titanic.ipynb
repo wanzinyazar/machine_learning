{
  "nbformat": 4,
  "nbformat_minor": 0,
  "metadata": {
    "colab": {
      "name": "End-to-End Titanic.ipynb",
      "version": "0.3.2",
      "provenance": [],
      "private_outputs": true,
      "collapsed_sections": [
        "n0xmcHwoq2RJ",
        "WsxNikbDKadm",
        "lgi4ItFDp8PB",
        "cUnOm_5Sq8GT",
        "QbYMguutw0U7",
        "2Rpa7e44q9hG",
        "pLaE28PNqGcB",
        "IMJIkyRlqGch",
        "bwlH7SZAqGc1",
        "dIQKjiAlqGdC",
        "bzBbQPjTqGd3",
        "xG35AZ1aqGd4",
        "RayCVmJgrdHz",
        "oR-3amnaqGeO",
        "jxlMr97iqGei",
        "1svSbe48rkAL",
        "MxQbphc5r2fF",
        "FtA5kul0qGew",
        "oFrtqs9vqGez",
        "T_fkmW6Lr5sc",
        "8jw68DIRqGfH"
      ]
    },
    "kernelspec": {
      "name": "python3",
      "display_name": "Python 3"
    },
    "accelerator": "GPU"
  },
  "cells": [
    {
      "metadata": {
        "id": "8YZcPYIAqGbC",
        "colab_type": "text"
      },
      "cell_type": "markdown",
      "source": [
        "# Kaggle Titanic\n",
        "## Logistic Regression with Python\n",
        "\n",
        "\n",
        "For this lecture we will be working with the [Titanic Data Set from Kaggle](https://www.kaggle.com/c/titanic). This is a very famous dataset.\n"
      ]
    },
    {
      "metadata": {
        "id": "cUnOm_5Sq8GT",
        "colab_type": "text"
      },
      "cell_type": "markdown",
      "source": [
        "# Step - 1 : Frame The Problem"
      ]
    },
    {
      "metadata": {
        "id": "7_0XVu7I62vk",
        "colab_type": "code",
        "colab": {}
      },
      "cell_type": "code",
      "source": [
        "ls -l"
      ],
      "execution_count": 0,
      "outputs": []
    },
    {
      "metadata": {
        "id": "Z4Nt6c3Nrtdt",
        "colab_type": "code",
        "colab": {}
      },
      "cell_type": "code",
      "source": [
        "a = 5"
      ],
      "execution_count": 0,
      "outputs": []
    },
    {
      "metadata": {
        "id": "brANUMgWr3kH",
        "colab_type": "code",
        "colab": {}
      },
      "cell_type": "code",
      "source": [
        "b = 8"
      ],
      "execution_count": 0,
      "outputs": []
    },
    {
      "metadata": {
        "id": "TAMjZlWfGc-F",
        "colab_type": "code",
        "colab": {}
      },
      "cell_type": "code",
      "source": [
        "a*b"
      ],
      "execution_count": 0,
      "outputs": []
    },
    {
      "metadata": {
        "id": "scZ1zEkDr3dy",
        "colab_type": "code",
        "colab": {}
      },
      "cell_type": "code",
      "source": [
        "a = 5"
      ],
      "execution_count": 0,
      "outputs": []
    },
    {
      "metadata": {
        "id": "W7C20F3Cr3T4",
        "colab_type": "code",
        "colab": {}
      },
      "cell_type": "code",
      "source": [
        "b = 8"
      ],
      "execution_count": 0,
      "outputs": []
    },
    {
      "metadata": {
        "id": "g2RFIf96GfVH",
        "colab_type": "code",
        "colab": {}
      },
      "cell_type": "code",
      "source": [
        "a*b"
      ],
      "execution_count": 0,
      "outputs": []
    },
    {
      "metadata": {
        "id": "NHGZp-Mbr3go",
        "colab_type": "code",
        "colab": {}
      },
      "cell_type": "code",
      "source": [
        "a*b"
      ],
      "execution_count": 0,
      "outputs": []
    },
    {
      "metadata": {
        "id": "0uinjbqww7AY",
        "colab_type": "text"
      },
      "cell_type": "markdown",
      "source": [
        "The sinking of the RMS Titanic is one of the most infamous shipwrecks in history.  On April 15, 1912, during her maiden voyage, the Titanic sank after colliding with an iceberg, killing 1502 out of 2224 passengers and crew. This sensational tragedy shocked the international community and led to better safety regulations for ships.\n",
        "\n",
        "One of the reasons that the shipwreck led to such loss of life was that there were not enough lifeboats for the passengers and crew. Although there was some element of luck involved in surviving the sinking, some groups of people were more likely to survive than others, such as women, children, and the upper-class.\n",
        "\n",
        "In this challenge, we ask you to complete the analysis of what sorts of people were likely to survive. In particular, we ask you to apply the tools of machine learning to predict which passengers survived the tragedy.\n",
        "\n"
      ]
    },
    {
      "metadata": {
        "id": "QbYMguutw0U7",
        "colab_type": "text"
      },
      "cell_type": "markdown",
      "source": [
        "# Step - 2 : Obtain the Data"
      ]
    },
    {
      "metadata": {
        "id": "2Rpa7e44q9hG",
        "colab_type": "text"
      },
      "cell_type": "markdown",
      "source": [
        "## Import Libraries"
      ]
    },
    {
      "metadata": {
        "id": "DoloRktKqGbF",
        "colab_type": "code",
        "colab": {}
      },
      "cell_type": "code",
      "source": [
        "!pip install missingno"
      ],
      "execution_count": 0,
      "outputs": []
    },
    {
      "metadata": {
        "id": "R8l03wUUqGbO",
        "colab_type": "code",
        "colab": {}
      },
      "cell_type": "code",
      "source": [
        "import pandas as pd\n",
        "import numpy as np\n",
        "import matplotlib.pyplot as plt\n",
        "import seaborn as sns\n",
        "import missingno as ms\n",
        "%matplotlib inline"
      ],
      "execution_count": 0,
      "outputs": []
    },
    {
      "metadata": {
        "id": "8izv57KJfyHf",
        "colab_type": "code",
        "colab": {}
      },
      "cell_type": "code",
      "source": [
        "!ls -l"
      ],
      "execution_count": 0,
      "outputs": []
    },
    {
      "metadata": {
        "id": "DInPcxyBqGbT",
        "colab_type": "text"
      },
      "cell_type": "markdown",
      "source": [
        "Pandas provides two important data types with in built functions to be able to provide extensive capability to handle the data.The datatypes include Series and DataFrames."
      ]
    },
    {
      "metadata": {
        "id": "MszA1lldqGbU",
        "colab_type": "text"
      },
      "cell_type": "markdown",
      "source": [
        "Pandas provides ways to read or get the data from various sources like read_csv,read_excel,read_html etc.The data is read and stored in the form of DataFrames."
      ]
    },
    {
      "metadata": {
        "id": "MksYS8zQigKr",
        "colab_type": "text"
      },
      "cell_type": "markdown",
      "source": [
        ""
      ]
    },
    {
      "metadata": {
        "id": "xhQhLNWGVf98",
        "colab_type": "code",
        "colab": {}
      },
      "cell_type": "code",
      "source": [
        "!wget https://www.dropbox.com/s/8grgwn4b6y25frw/titanic.csv"
      ],
      "execution_count": 0,
      "outputs": []
    },
    {
      "metadata": {
        "id": "gmWCjQ-FSWGB",
        "colab_type": "code",
        "colab": {}
      },
      "cell_type": "code",
      "source": [
        "!ls -l"
      ],
      "execution_count": 0,
      "outputs": []
    },
    {
      "metadata": {
        "id": "NGWNIC97qGbU",
        "colab_type": "code",
        "colab": {}
      },
      "cell_type": "code",
      "source": [
        "data = pd.read_csv('titanic.csv')"
      ],
      "execution_count": 0,
      "outputs": []
    },
    {
      "metadata": {
        "id": "VQArfkvzqGbX",
        "colab_type": "code",
        "colab": {}
      },
      "cell_type": "code",
      "source": [
        "data.head(3)"
      ],
      "execution_count": 0,
      "outputs": []
    },
    {
      "metadata": {
        "id": "7ZhH0YPKqGbd",
        "colab_type": "code",
        "colab": {}
      },
      "cell_type": "code",
      "source": [
        "#to get the last 5 entries of the data\n",
        "data.tail()"
      ],
      "execution_count": 0,
      "outputs": []
    },
    {
      "metadata": {
        "id": "oeXMHo68qGbg",
        "colab_type": "code",
        "colab": {}
      },
      "cell_type": "code",
      "source": [
        "type(data)"
      ],
      "execution_count": 0,
      "outputs": []
    },
    {
      "metadata": {
        "id": "z6AqB_2ZqGbj",
        "colab_type": "code",
        "colab": {}
      },
      "cell_type": "code",
      "source": [
        "data.shape"
      ],
      "execution_count": 0,
      "outputs": []
    },
    {
      "metadata": {
        "id": "8HTrlDouqGbm",
        "colab_type": "code",
        "colab": {}
      },
      "cell_type": "code",
      "source": [
        "data.info()"
      ],
      "execution_count": 0,
      "outputs": []
    },
    {
      "metadata": {
        "id": "cCD55xzuqGbt",
        "colab_type": "code",
        "colab": {}
      },
      "cell_type": "code",
      "source": [
        "a = data['Age']"
      ],
      "execution_count": 0,
      "outputs": []
    },
    {
      "metadata": {
        "id": "2jT6smHqqGbw",
        "colab_type": "code",
        "colab": {}
      },
      "cell_type": "code",
      "source": [
        "a"
      ],
      "execution_count": 0,
      "outputs": []
    },
    {
      "metadata": {
        "id": "x0ophbx9qGby",
        "colab_type": "code",
        "colab": {}
      },
      "cell_type": "code",
      "source": [
        "type(a)"
      ],
      "execution_count": 0,
      "outputs": []
    },
    {
      "metadata": {
        "id": "bxaercuoqGb3",
        "colab_type": "code",
        "colab": {}
      },
      "cell_type": "code",
      "source": [
        "type(data)"
      ],
      "execution_count": 0,
      "outputs": []
    },
    {
      "metadata": {
        "id": "cCRuD3VoqGb6",
        "colab_type": "code",
        "colab": {}
      },
      "cell_type": "code",
      "source": [
        "data.info()"
      ],
      "execution_count": 0,
      "outputs": []
    },
    {
      "metadata": {
        "id": "Gn1GrNdDqGb-",
        "colab_type": "code",
        "colab": {}
      },
      "cell_type": "code",
      "source": [
        "data.describe()"
      ],
      "execution_count": 0,
      "outputs": []
    },
    {
      "metadata": {
        "id": "pLaE28PNqGcB",
        "colab_type": "text"
      },
      "cell_type": "markdown",
      "source": [
        "## Accessing individual data in the data frame"
      ]
    },
    {
      "metadata": {
        "id": "bbygvAR8qGcE",
        "colab_type": "text"
      },
      "cell_type": "markdown",
      "source": [
        "### Working with Columns"
      ]
    },
    {
      "metadata": {
        "id": "AAksftHTqGcF",
        "colab_type": "text"
      },
      "cell_type": "markdown",
      "source": [
        "since each dataframe is a collection of series if we access a single column we get a series object"
      ]
    },
    {
      "metadata": {
        "id": "s2ix-monqGcG",
        "colab_type": "code",
        "colab": {}
      },
      "cell_type": "code",
      "source": [
        "data['Cabin'].value_counts()"
      ],
      "execution_count": 0,
      "outputs": []
    },
    {
      "metadata": {
        "id": "Ag2wXKEEqGcP",
        "colab_type": "code",
        "colab": {}
      },
      "cell_type": "code",
      "source": [
        "y = data[['Cabin','Parch']].head()"
      ],
      "execution_count": 0,
      "outputs": []
    },
    {
      "metadata": {
        "id": "XxBmn3-CqGcU",
        "colab_type": "code",
        "colab": {}
      },
      "cell_type": "code",
      "source": [
        "type(y)"
      ],
      "execution_count": 0,
      "outputs": []
    },
    {
      "metadata": {
        "id": "imdoleNfqGcW",
        "colab_type": "code",
        "colab": {}
      },
      "cell_type": "code",
      "source": [
        "y.head()"
      ],
      "execution_count": 0,
      "outputs": []
    },
    {
      "metadata": {
        "id": "EQuJZbnnqGcd",
        "colab_type": "code",
        "colab": {}
      },
      "cell_type": "code",
      "source": [
        "data.info() #New_parch is added to the set of columns in the data frames"
      ],
      "execution_count": 0,
      "outputs": []
    },
    {
      "metadata": {
        "id": "1aLi16Vvvwb8",
        "colab_type": "code",
        "colab": {}
      },
      "cell_type": "code",
      "source": [
        ""
      ],
      "execution_count": 0,
      "outputs": []
    },
    {
      "metadata": {
        "id": "dIQKjiAlqGdC",
        "colab_type": "text"
      },
      "cell_type": "markdown",
      "source": [
        "# Step - 3 : Analyse the Data"
      ]
    },
    {
      "metadata": {
        "id": "xwDfDthBqGdD",
        "colab_type": "code",
        "colab": {}
      },
      "cell_type": "code",
      "source": [
        "ms.matrix(data)"
      ],
      "execution_count": 0,
      "outputs": []
    },
    {
      "metadata": {
        "id": "pMkSSvIRqGdF",
        "colab_type": "code",
        "colab": {}
      },
      "cell_type": "code",
      "source": [
        ""
      ],
      "execution_count": 0,
      "outputs": []
    },
    {
      "metadata": {
        "id": "EH7C5W3pqGdI",
        "colab_type": "code",
        "colab": {}
      },
      "cell_type": "code",
      "source": [
        "data.info()"
      ],
      "execution_count": 0,
      "outputs": []
    },
    {
      "metadata": {
        "id": "I-9dyLg_qGdK",
        "colab_type": "text"
      },
      "cell_type": "markdown",
      "source": [
        "We can observe that there are missing values in 'Age', 'Cabin' and 'Embarked'. Let's continue."
      ]
    },
    {
      "metadata": {
        "id": "KtxY0ruTqGdK",
        "colab_type": "code",
        "colab": {}
      },
      "cell_type": "code",
      "source": [
        "data.info()"
      ],
      "execution_count": 0,
      "outputs": []
    },
    {
      "metadata": {
        "id": "HGZZY5WgqGdO",
        "colab_type": "text"
      },
      "cell_type": "markdown",
      "source": [
        "Visualization of data with Seaborn"
      ]
    },
    {
      "metadata": {
        "id": "tH5M6x_xqGdP",
        "colab_type": "code",
        "colab": {}
      },
      "cell_type": "code",
      "source": [
        "sns.jointplot(x='Fare',y='Age',data=data)"
      ],
      "execution_count": 0,
      "outputs": []
    },
    {
      "metadata": {
        "id": "VqU7t6mZqGdT",
        "colab_type": "code",
        "colab": {}
      },
      "cell_type": "code",
      "source": [
        "sns.distplot(data['Fare'])"
      ],
      "execution_count": 0,
      "outputs": []
    },
    {
      "metadata": {
        "id": "8cOJ9fXNqGdU",
        "colab_type": "code",
        "colab": {}
      },
      "cell_type": "code",
      "source": [
        "sns.heatmap(data.corr(),cmap='coolwarm')\n",
        "plt.title('data.corr()')"
      ],
      "execution_count": 0,
      "outputs": []
    },
    {
      "metadata": {
        "id": "sebwPKFXqGdc",
        "colab_type": "code",
        "colab": {}
      },
      "cell_type": "code",
      "source": [
        "sns.swarmplot\n",
        "sns.swarmplot(x='Pclass',y='Age',data=data,palette='Set2')"
      ],
      "execution_count": 0,
      "outputs": []
    },
    {
      "metadata": {
        "id": "FYnW2ls8qGde",
        "colab_type": "code",
        "colab": {}
      },
      "cell_type": "code",
      "source": [
        "sns.set_style('whitegrid')\n",
        "sns.countplot(x='Survived',data=data,palette='RdBu_r')"
      ],
      "execution_count": 0,
      "outputs": []
    },
    {
      "metadata": {
        "id": "5X0kVGCmqGdk",
        "colab_type": "code",
        "colab": {}
      },
      "cell_type": "code",
      "source": [
        "sns.set_style('whitegrid')\n",
        "sns.countplot(x='Survived',hue='Sex',data=data,palette='RdBu_r')"
      ],
      "execution_count": 0,
      "outputs": []
    },
    {
      "metadata": {
        "id": "QpxCS2k2qGdn",
        "colab_type": "code",
        "colab": {}
      },
      "cell_type": "code",
      "source": [
        "sns.set_style('whitegrid')\n",
        "sns.countplot(x='Survived',hue='Pclass',data = data,palette='rainbow')"
      ],
      "execution_count": 0,
      "outputs": []
    },
    {
      "metadata": {
        "id": "g1EPepxuqGdt",
        "colab_type": "code",
        "colab": {}
      },
      "cell_type": "code",
      "source": [
        "data['Age'].hist(bins = 30, color = 'darkred', alpha = 0.8)"
      ],
      "execution_count": 0,
      "outputs": []
    },
    {
      "metadata": {
        "id": "f8rUUA0OqGdx",
        "colab_type": "code",
        "colab": {}
      },
      "cell_type": "code",
      "source": [
        "sns.countplot(x = 'SibSp', data = data)"
      ],
      "execution_count": 0,
      "outputs": []
    },
    {
      "metadata": {
        "id": "0MvfzUUDqGdz",
        "colab_type": "code",
        "colab": {}
      },
      "cell_type": "code",
      "source": [
        "data['Fare'].hist(color = 'green', bins = 40, figsize = (8,3))"
      ],
      "execution_count": 0,
      "outputs": []
    },
    {
      "metadata": {
        "id": "bzBbQPjTqGd3",
        "colab_type": "text"
      },
      "cell_type": "markdown",
      "source": [
        "#### What do you observe from the above charts?"
      ]
    },
    {
      "metadata": {
        "id": "xG35AZ1aqGd4",
        "colab_type": "text"
      },
      "cell_type": "markdown",
      "source": [
        "# Step - 4 : Feature Engineering"
      ]
    },
    {
      "metadata": {
        "id": "RayCVmJgrdHz",
        "colab_type": "text"
      },
      "cell_type": "markdown",
      "source": [
        "## Feature Engineering\n",
        "\n",
        "We want to fill the missing values of the age in the dataset with the average age value for each of the classes. This is called data imputation."
      ]
    },
    {
      "metadata": {
        "id": "3RxPvDC8fLeV",
        "colab_type": "code",
        "colab": {}
      },
      "cell_type": "code",
      "source": [
        "data.info()"
      ],
      "execution_count": 0,
      "outputs": []
    },
    {
      "metadata": {
        "id": "cA01gIyFqGd6",
        "colab_type": "code",
        "colab": {}
      },
      "cell_type": "code",
      "source": [
        "plt.figure(figsize=(12, 7))\n",
        "sns.boxplot(x='Pclass',y='Age',data=data,palette='winter')"
      ],
      "execution_count": 0,
      "outputs": []
    },
    {
      "metadata": {
        "id": "9qoh8udrfoD7",
        "colab_type": "code",
        "colab": {}
      },
      "cell_type": "code",
      "source": [
        "data['Cabin'].value_counts()"
      ],
      "execution_count": 0,
      "outputs": []
    },
    {
      "metadata": {
        "id": "M1yKKlqLqGd9",
        "colab_type": "text"
      },
      "cell_type": "markdown",
      "source": [
        "The average age for each of the classes are estimated to be as follows:\n",
        "  \n",
        "  * For **Class 1** - The median age is 37\n",
        "  * For **Class 2** - The median age is 29\n",
        "  * For **Class 3** - The median age is 24\n",
        "  \n",
        "Let's impute these values into the age column."
      ]
    },
    {
      "metadata": {
        "id": "OtMLZAHWqGd9",
        "colab_type": "code",
        "colab": {}
      },
      "cell_type": "code",
      "source": [
        "def impute_age(cols):\n",
        "    Age = cols[0]\n",
        "    Pclass = cols[1]\n",
        "    \n",
        "    if pd.isnull(Age):\n",
        "        # Class-1\n",
        "        if Pclass == 1:\n",
        "            return 37\n",
        "        # Class-2 \n",
        "        elif Pclass == 2:\n",
        "            return 29\n",
        "        # Class-3\n",
        "        else:\n",
        "            return 24\n",
        "\n",
        "    else:\n",
        "        return Age"
      ],
      "execution_count": 0,
      "outputs": []
    },
    {
      "metadata": {
        "id": "N6OROGCHqGd_",
        "colab_type": "text"
      },
      "cell_type": "markdown",
      "source": [
        "Applying the function."
      ]
    },
    {
      "metadata": {
        "id": "SzBf6AG2qGd_",
        "colab_type": "code",
        "colab": {}
      },
      "cell_type": "code",
      "source": [
        "data['Age'] = data[['Age','Pclass']].apply(impute_age,axis=1)"
      ],
      "execution_count": 0,
      "outputs": []
    },
    {
      "metadata": {
        "id": "aND3OdBbqGeB",
        "colab_type": "text"
      },
      "cell_type": "markdown",
      "source": [
        "Now let's visualize the missing values."
      ]
    },
    {
      "metadata": {
        "id": "iRrNx-tHcpRp",
        "colab_type": "code",
        "colab": {}
      },
      "cell_type": "code",
      "source": [
        ""
      ],
      "execution_count": 0,
      "outputs": []
    },
    {
      "metadata": {
        "id": "VAq4OM_zqGeC",
        "colab_type": "code",
        "colab": {}
      },
      "cell_type": "code",
      "source": [
        "ms.matrix(data)"
      ],
      "execution_count": 0,
      "outputs": []
    },
    {
      "metadata": {
        "id": "kk0SpICkqGeF",
        "colab_type": "text"
      },
      "cell_type": "markdown",
      "source": [
        "The Age column is imputed sucessfully.\n",
        "\n",
        "Let's drop the Cabin column and the row in the Embarked that is NaN."
      ]
    },
    {
      "metadata": {
        "id": "NWgx7WhqqGeF",
        "colab_type": "code",
        "colab": {}
      },
      "cell_type": "code",
      "source": [
        "data.drop('Cabin', axis = 1,inplace=True)"
      ],
      "execution_count": 0,
      "outputs": []
    },
    {
      "metadata": {
        "id": "fNdWNAhJqGeH",
        "colab_type": "code",
        "colab": {}
      },
      "cell_type": "code",
      "source": [
        "data.head()"
      ],
      "execution_count": 0,
      "outputs": []
    },
    {
      "metadata": {
        "id": "dOdiaYbAqGeJ",
        "colab_type": "code",
        "colab": {}
      },
      "cell_type": "code",
      "source": [
        "data.dropna(inplace = True)"
      ],
      "execution_count": 0,
      "outputs": []
    },
    {
      "metadata": {
        "id": "t-88eh_geT7R",
        "colab_type": "code",
        "colab": {}
      },
      "cell_type": "code",
      "source": [
        "data[\"Embarked\"].value_counts()"
      ],
      "execution_count": 0,
      "outputs": []
    },
    {
      "metadata": {
        "id": "82GLJhmrqGeK",
        "colab_type": "code",
        "colab": {}
      },
      "cell_type": "code",
      "source": [
        "ms.matrix(data)"
      ],
      "execution_count": 0,
      "outputs": []
    },
    {
      "metadata": {
        "id": "yleBqUeKqGeL",
        "colab_type": "code",
        "colab": {}
      },
      "cell_type": "code",
      "source": [
        "data.info()"
      ],
      "execution_count": 0,
      "outputs": []
    },
    {
      "metadata": {
        "id": "oR-3amnaqGeO",
        "colab_type": "text"
      },
      "cell_type": "markdown",
      "source": [
        "## Converting Categorical Features \n",
        "\n",
        "We'll need to convert categorical features to dummy variables using pandas! Otherwise our machine learning algorithm won't be able to directly take in those features as inputs."
      ]
    },
    {
      "metadata": {
        "id": "0vtZYikmMgkS",
        "colab_type": "code",
        "colab": {}
      },
      "cell_type": "code",
      "source": [
        "data['Sex'].value_counts()"
      ],
      "execution_count": 0,
      "outputs": []
    },
    {
      "metadata": {
        "id": "X1iN1CpyqGeO",
        "colab_type": "code",
        "colab": {}
      },
      "cell_type": "code",
      "source": [
        "data['Embarked'].value_counts()"
      ],
      "execution_count": 0,
      "outputs": []
    },
    {
      "metadata": {
        "id": "2j5npHKGqGeS",
        "colab_type": "code",
        "colab": {}
      },
      "cell_type": "code",
      "source": [
        "sex = pd.get_dummies(data['Sex'],drop_first=True)\n",
        "embark = pd.get_dummies(data['Embarked'],drop_first=True)\n",
        "embark.head()\n"
      ],
      "execution_count": 0,
      "outputs": []
    },
    {
      "metadata": {
        "id": "hNZIx3jQqGeV",
        "colab_type": "code",
        "colab": {}
      },
      "cell_type": "code",
      "source": [
        "sex.head()"
      ],
      "execution_count": 0,
      "outputs": []
    },
    {
      "metadata": {
        "id": "ndOkCQz67H02",
        "colab_type": "code",
        "colab": {}
      },
      "cell_type": "code",
      "source": [
        "data.head()"
      ],
      "execution_count": 0,
      "outputs": []
    },
    {
      "metadata": {
        "id": "_X0iFWXRqGeX",
        "colab_type": "code",
        "colab": {}
      },
      "cell_type": "code",
      "source": [
        "old_data = data.copy()\n",
        "data.drop(['Sex','Embarked','Name','Ticket'],axis=1,inplace=True)\n",
        "data.head()\n",
        "\n"
      ],
      "execution_count": 0,
      "outputs": []
    },
    {
      "metadata": {
        "id": "B4DSuUOpqGea",
        "colab_type": "code",
        "colab": {}
      },
      "cell_type": "code",
      "source": [
        "#data.drop(['PassengerId'],axis=1,inplace=True)\n",
        "\n",
        "#data.info()"
      ],
      "execution_count": 0,
      "outputs": []
    },
    {
      "metadata": {
        "id": "dBedobT4qGed",
        "colab_type": "code",
        "colab": {}
      },
      "cell_type": "code",
      "source": [
        "data = pd.concat([data,sex,embark],axis=1)"
      ],
      "execution_count": 0,
      "outputs": []
    },
    {
      "metadata": {
        "id": "g1kTmlgIqGed",
        "colab_type": "code",
        "colab": {}
      },
      "cell_type": "code",
      "source": [
        "data.head()"
      ],
      "execution_count": 0,
      "outputs": []
    },
    {
      "metadata": {
        "id": "ql2ebxjskKOb",
        "colab_type": "text"
      },
      "cell_type": "markdown",
      "source": [
        ""
      ]
    },
    {
      "metadata": {
        "id": "i0Oryse3qGef",
        "colab_type": "code",
        "colab": {}
      },
      "cell_type": "code",
      "source": [
        "data.info()"
      ],
      "execution_count": 0,
      "outputs": []
    },
    {
      "metadata": {
        "id": "gqp49FYeqGeg",
        "colab_type": "code",
        "colab": {}
      },
      "cell_type": "code",
      "source": [
        "data.describe()"
      ],
      "execution_count": 0,
      "outputs": []
    },
    {
      "metadata": {
        "id": "jxlMr97iqGei",
        "colab_type": "text"
      },
      "cell_type": "markdown",
      "source": [
        "# Step - 5 : Model Selection"
      ]
    },
    {
      "metadata": {
        "id": "1svSbe48rkAL",
        "colab_type": "text"
      },
      "cell_type": "markdown",
      "source": [
        "## Building a Logistic Regression model"
      ]
    },
    {
      "metadata": {
        "id": "3bH6QYxaqGek",
        "colab_type": "code",
        "colab": {}
      },
      "cell_type": "code",
      "source": [
        "from sklearn.model_selection import train_test_split"
      ],
      "execution_count": 0,
      "outputs": []
    },
    {
      "metadata": {
        "id": "Cq1_Jk1xmwJl",
        "colab_type": "code",
        "colab": {}
      },
      "cell_type": "code",
      "source": [
        "X = data.drop('Survived',axis=1)\n",
        "y = data['Survived']"
      ],
      "execution_count": 0,
      "outputs": []
    },
    {
      "metadata": {
        "id": "E22tvUEmqGel",
        "colab_type": "code",
        "colab": {}
      },
      "cell_type": "code",
      "source": [
        "X_train, X_test, y_train, y_test = train_test_split(data.drop('Survived',axis=1), \n",
        "                                                    data['Survived'], test_size=0.30, \n",
        "                                                    random_state=42)"
      ],
      "execution_count": 0,
      "outputs": []
    },
    {
      "metadata": {
        "id": "5jf2Zl2NqGeo",
        "colab_type": "code",
        "colab": {}
      },
      "cell_type": "code",
      "source": [
        "len(y_test)"
      ],
      "execution_count": 0,
      "outputs": []
    },
    {
      "metadata": {
        "id": "6oRS_E2OqGer",
        "colab_type": "code",
        "colab": {}
      },
      "cell_type": "code",
      "source": [
        "268/889"
      ],
      "execution_count": 0,
      "outputs": []
    },
    {
      "metadata": {
        "id": "KKzr-_boqGes",
        "colab_type": "code",
        "colab": {}
      },
      "cell_type": "code",
      "source": [
        "from sklearn.linear_model import LogisticRegression\n",
        "\n",
        "# Build the Model.\n",
        "logmodel = LogisticRegression()\n",
        "logmodel.fit(X_train,y_train)"
      ],
      "execution_count": 0,
      "outputs": []
    },
    {
      "metadata": {
        "id": "9YAKpVMVsmYx",
        "colab_type": "code",
        "colab": {}
      },
      "cell_type": "code",
      "source": [
        "logmodel.coef_"
      ],
      "execution_count": 0,
      "outputs": []
    },
    {
      "metadata": {
        "id": "S8bdMGNbqGet",
        "colab_type": "code",
        "colab": {}
      },
      "cell_type": "code",
      "source": [
        "predict =  logmodel.predict(X_test)\n",
        "predict[:5]"
      ],
      "execution_count": 0,
      "outputs": []
    },
    {
      "metadata": {
        "id": "J5CkHvS-qGev",
        "colab_type": "code",
        "colab": {}
      },
      "cell_type": "code",
      "source": [
        "y_test[:5]"
      ],
      "execution_count": 0,
      "outputs": []
    },
    {
      "metadata": {
        "id": "_YKIZMdEqGev",
        "colab_type": "text"
      },
      "cell_type": "markdown",
      "source": [
        "Let's move on to evaluate our model."
      ]
    },
    {
      "metadata": {
        "id": "MxQbphc5r2fF",
        "colab_type": "text"
      },
      "cell_type": "markdown",
      "source": [
        "# Step - 6 : Evaluation"
      ]
    },
    {
      "metadata": {
        "id": "FtA5kul0qGew",
        "colab_type": "text"
      },
      "cell_type": "markdown",
      "source": [
        "## Evaluation\n",
        "\n",
        "We can check precision, recall, f1 - score using classification report!"
      ]
    },
    {
      "metadata": {
        "id": "OHiyGYVpqGew",
        "colab_type": "text"
      },
      "cell_type": "markdown",
      "source": [
        "#### Confusion Matrix"
      ]
    },
    {
      "metadata": {
        "id": "Qms9QjqeqGex",
        "colab_type": "code",
        "colab": {}
      },
      "cell_type": "code",
      "source": [
        "from sklearn.metrics import confusion_matrix, classification_report"
      ],
      "execution_count": 0,
      "outputs": []
    },
    {
      "metadata": {
        "id": "oFrtqs9vqGez",
        "colab_type": "text"
      },
      "cell_type": "markdown",
      "source": [
        "## Confusion Matrix\n",
        "\n",
        "True positive   |\tFalse positive,  \n",
        "________________|________________  \n",
        "                |                  \n",
        "False negative  |\tTrue negative    "
      ]
    },
    {
      "metadata": {
        "id": "xoJmRVG7qGez",
        "colab_type": "code",
        "colab": {}
      },
      "cell_type": "code",
      "source": [
        "print(confusion_matrix(y_test, predict))"
      ],
      "execution_count": 0,
      "outputs": []
    },
    {
      "metadata": {
        "id": "9Z1-yu_vqGe2",
        "colab_type": "text"
      },
      "cell_type": "markdown",
      "source": [
        "#### Precision Score"
      ]
    },
    {
      "metadata": {
        "id": "mcj-1sHYqGe2",
        "colab_type": "text"
      },
      "cell_type": "markdown",
      "source": [
        "The precision is the ratio tp / (tp + fp) where tp is the number of true positives and fp the number of false positives. The precision is intuitively the ability of the classifier not to label as positive a sample that is negative.\n",
        "\n",
        "The best value is 1 and the worst value is 0."
      ]
    },
    {
      "metadata": {
        "id": "65HchaaPqGe4",
        "colab_type": "code",
        "colab": {}
      },
      "cell_type": "code",
      "source": [
        "from sklearn.metrics import precision_score"
      ],
      "execution_count": 0,
      "outputs": []
    },
    {
      "metadata": {
        "id": "c_I5eE7uqGe6",
        "colab_type": "code",
        "colab": {}
      },
      "cell_type": "code",
      "source": [
        "print(precision_score(y_test,predict))"
      ],
      "execution_count": 0,
      "outputs": []
    },
    {
      "metadata": {
        "id": "ndN57PlvqGe9",
        "colab_type": "text"
      },
      "cell_type": "markdown",
      "source": [
        "#### Recall score"
      ]
    },
    {
      "metadata": {
        "id": "wnfIk5lhqGe9",
        "colab_type": "text"
      },
      "cell_type": "markdown",
      "source": [
        "The recall is the ratio tp / (tp + fn) where tp is the number of true positives and fn the number of false negatives. The recall is intuitively the ability of the classifier to find all the positive samples.\n",
        "\n",
        "The best value is 1 and the worst value is 0."
      ]
    },
    {
      "metadata": {
        "id": "XjigXG56qGe9",
        "colab_type": "code",
        "colab": {}
      },
      "cell_type": "code",
      "source": [
        "from sklearn.metrics import recall_score"
      ],
      "execution_count": 0,
      "outputs": []
    },
    {
      "metadata": {
        "id": "buu1n6O3qGe_",
        "colab_type": "code",
        "colab": {}
      },
      "cell_type": "code",
      "source": [
        "print(recall_score(y_test,predict))"
      ],
      "execution_count": 0,
      "outputs": []
    },
    {
      "metadata": {
        "id": "XBU67SX3qGfA",
        "colab_type": "text"
      },
      "cell_type": "markdown",
      "source": [
        "#### f1_score"
      ]
    },
    {
      "metadata": {
        "id": "HDraVqivqGfA",
        "colab_type": "text"
      },
      "cell_type": "markdown",
      "source": [
        "The F1 score can be interpreted as a weighted average of the precision and recall, where an F1 score reaches its best value at 1 and worst score at 0. The relative contribution of precision and recall to the F1 score are equal. The formula for the F1 score is:\n",
        "                F1 = 2 \\* (precision \\* recall) / (precision + recall)"
      ]
    },
    {
      "metadata": {
        "id": "9R8FIjtdqGfA",
        "colab_type": "code",
        "colab": {}
      },
      "cell_type": "code",
      "source": [
        "from sklearn.metrics import f1_score"
      ],
      "execution_count": 0,
      "outputs": []
    },
    {
      "metadata": {
        "id": "8gI5gjbLqGfC",
        "colab_type": "code",
        "colab": {}
      },
      "cell_type": "code",
      "source": [
        "print(f1_score(y_test,predict))"
      ],
      "execution_count": 0,
      "outputs": []
    },
    {
      "metadata": {
        "id": "t9YzG2swqGfF",
        "colab_type": "text"
      },
      "cell_type": "markdown",
      "source": [
        "To get all the above metrics at one go, use the following function:"
      ]
    },
    {
      "metadata": {
        "id": "cUCMnocIqGfF",
        "colab_type": "code",
        "colab": {}
      },
      "cell_type": "code",
      "source": [
        "from sklearn.metrics import classification_report"
      ],
      "execution_count": 0,
      "outputs": []
    },
    {
      "metadata": {
        "id": "WpCBr2d2qGfG",
        "colab_type": "code",
        "colab": {}
      },
      "cell_type": "code",
      "source": [
        "print(classification_report(y_test,predict))"
      ],
      "execution_count": 0,
      "outputs": []
    },
    {
      "metadata": {
        "id": "78s1G6-VnrLn",
        "colab_type": "code",
        "colab": {}
      },
      "cell_type": "code",
      "source": [
        ""
      ],
      "execution_count": 0,
      "outputs": []
    },
    {
      "metadata": {
        "id": "T_fkmW6Lr5sc",
        "colab_type": "text"
      },
      "cell_type": "markdown",
      "source": [
        "# Step - 7 : Predict on New Cases"
      ]
    },
    {
      "metadata": {
        "id": "8jw68DIRqGfH",
        "colab_type": "text"
      },
      "cell_type": "markdown",
      "source": [
        "## Prediction on Test Data From Kaggle\n",
        "\n",
        "create an account on www.kaggle.com"
      ]
    },
    {
      "metadata": {
        "id": "rnIhqWcBqGfH",
        "colab_type": "code",
        "colab": {}
      },
      "cell_type": "code",
      "source": [
        "!wget https://www.dropbox.com/s/6hyaidkuyfsv45u/production.csv\n",
        "prod_data=pd.read_csv('production.csv')"
      ],
      "execution_count": 0,
      "outputs": []
    },
    {
      "metadata": {
        "id": "DYNcmSBDqGfK",
        "colab_type": "code",
        "colab": {}
      },
      "cell_type": "code",
      "source": [
        "prod_data.info()"
      ],
      "execution_count": 0,
      "outputs": []
    },
    {
      "metadata": {
        "id": "HXfrnBmSqGfM",
        "colab_type": "code",
        "colab": {}
      },
      "cell_type": "code",
      "source": [
        "prod_data.head()\n"
      ],
      "execution_count": 0,
      "outputs": []
    },
    {
      "metadata": {
        "id": "aYPbGOa5qGfN",
        "colab_type": "code",
        "colab": {}
      },
      "cell_type": "code",
      "source": [
        "ms.matrix(prod_data)"
      ],
      "execution_count": 0,
      "outputs": []
    },
    {
      "metadata": {
        "id": "uZtXdHmXqGfN",
        "colab_type": "text"
      },
      "cell_type": "markdown",
      "source": [
        "### Data Cleaning"
      ]
    },
    {
      "metadata": {
        "id": "c3-Q26YAqGfN",
        "colab_type": "text"
      },
      "cell_type": "markdown",
      "source": [
        "There are inconsistencies in test data.We can use the same graph functions that are used to visualize the train data for test data as well.We use the same data cleaning techniques like removing the cabin column and applying impute_age function on age column on test data.  \n",
        "But we cannot remove any rows because kaggle wants same number of rows in submission csv also. So we fill the missing values in fare with mean."
      ]
    },
    {
      "metadata": {
        "id": "KsHb_ko1qGfP",
        "colab_type": "code",
        "colab": {}
      },
      "cell_type": "code",
      "source": [
        "prod_data['Age'] = prod_data[['Age','Pclass']].apply(impute_age,axis=1)"
      ],
      "execution_count": 0,
      "outputs": []
    },
    {
      "metadata": {
        "id": "s2tm_cfqqGfQ",
        "colab_type": "code",
        "colab": {}
      },
      "cell_type": "code",
      "source": [
        "ms.matrix(prod_data)"
      ],
      "execution_count": 0,
      "outputs": []
    },
    {
      "metadata": {
        "id": "R1IGYbNbqGfT",
        "colab_type": "code",
        "colab": {}
      },
      "cell_type": "code",
      "source": [
        "prod_data.drop('Cabin', axis = 1, inplace= True)"
      ],
      "execution_count": 0,
      "outputs": []
    },
    {
      "metadata": {
        "id": "q4dt1-vAqGfU",
        "colab_type": "code",
        "colab": {}
      },
      "cell_type": "code",
      "source": [
        "ms.matrix(prod_data)"
      ],
      "execution_count": 0,
      "outputs": []
    },
    {
      "metadata": {
        "id": "6By8hiwrqGfV",
        "colab_type": "code",
        "colab": {}
      },
      "cell_type": "code",
      "source": [
        "prod_data.fillna(prod_data['Fare'].mean(),inplace=True)"
      ],
      "execution_count": 0,
      "outputs": []
    },
    {
      "metadata": {
        "id": "k31N4YzxqGfV",
        "colab_type": "code",
        "colab": {}
      },
      "cell_type": "code",
      "source": [
        "prod_data.info()"
      ],
      "execution_count": 0,
      "outputs": []
    },
    {
      "metadata": {
        "id": "lGxAUKi2qGfX",
        "colab_type": "code",
        "colab": {}
      },
      "cell_type": "code",
      "source": [
        "ms.matrix(prod_data)"
      ],
      "execution_count": 0,
      "outputs": []
    },
    {
      "metadata": {
        "id": "k9Jx7nvTqGfZ",
        "colab_type": "code",
        "colab": {}
      },
      "cell_type": "code",
      "source": [
        "sex = pd.get_dummies(prod_data['Sex'], drop_first=True)\n",
        "embark = pd.get_dummies(prod_data['Embarked'], drop_first=True)\n",
        "\n",
        "prod_data.drop(['Sex','Embarked','Name','Ticket'],axis=1,inplace=True)\n",
        "\n",
        "prod_data = pd.concat([prod_data,sex,embark],axis=1)"
      ],
      "execution_count": 0,
      "outputs": []
    },
    {
      "metadata": {
        "id": "LJbu2foTqGfa",
        "colab_type": "code",
        "colab": {}
      },
      "cell_type": "code",
      "source": [
        "prod_data.head()"
      ],
      "execution_count": 0,
      "outputs": []
    },
    {
      "metadata": {
        "id": "pnCJxZ3dqGfc",
        "colab_type": "code",
        "colab": {}
      },
      "cell_type": "code",
      "source": [
        "predict1=logmodel.predict(prod_data)"
      ],
      "execution_count": 0,
      "outputs": []
    },
    {
      "metadata": {
        "id": "5VQ5f1iCqGff",
        "colab_type": "code",
        "colab": {}
      },
      "cell_type": "code",
      "source": [
        "predict1"
      ],
      "execution_count": 0,
      "outputs": []
    },
    {
      "metadata": {
        "id": "Wc-VVMB9qGfh",
        "colab_type": "code",
        "colab": {}
      },
      "cell_type": "code",
      "source": [
        "df1=pd.DataFrame(predict1,columns=['Survived'])"
      ],
      "execution_count": 0,
      "outputs": []
    },
    {
      "metadata": {
        "id": "CVpkokggqGfi",
        "colab_type": "code",
        "colab": {}
      },
      "cell_type": "code",
      "source": [
        "df2=pd.DataFrame(prod_data['PassengerId'],columns=['PassengerId'])"
      ],
      "execution_count": 0,
      "outputs": []
    },
    {
      "metadata": {
        "id": "5XB5PGdQqGfj",
        "colab_type": "code",
        "colab": {}
      },
      "cell_type": "code",
      "source": [
        "df2.head()"
      ],
      "execution_count": 0,
      "outputs": []
    },
    {
      "metadata": {
        "id": "TCPDeXq9qGfk",
        "colab_type": "code",
        "colab": {}
      },
      "cell_type": "code",
      "source": [
        "result = pd.concat([df2,df1],axis=1)\n",
        "result.head()"
      ],
      "execution_count": 0,
      "outputs": []
    },
    {
      "metadata": {
        "id": "MJI3XUNbqGfm",
        "colab_type": "code",
        "colab": {}
      },
      "cell_type": "code",
      "source": [
        "result.to_csv('result.csv',index=False)"
      ],
      "execution_count": 0,
      "outputs": []
    },
    {
      "metadata": {
        "id": "kxAEAL5bpBjF",
        "colab_type": "code",
        "colab": {}
      },
      "cell_type": "code",
      "source": [
        "from google.colab import files\n",
        "files.download('result.csv') "
      ],
      "execution_count": 0,
      "outputs": []
    },
    {
      "metadata": {
        "id": "Tao8H7g4uyms",
        "colab_type": "text"
      },
      "cell_type": "markdown",
      "source": [
        ""
      ]
    },
    {
      "metadata": {
        "id": "9MFqPAUfjKT-",
        "colab_type": "code",
        "colab": {}
      },
      "cell_type": "code",
      "source": [
        "!ls -l"
      ],
      "execution_count": 0,
      "outputs": []
    },
    {
      "metadata": {
        "id": "Mtih6v-dsFZ4",
        "colab_type": "code",
        "colab": {}
      },
      "cell_type": "code",
      "source": [
        "\n"
      ],
      "execution_count": 0,
      "outputs": []
    },
    {
      "metadata": {
        "id": "LQ6UuWP6qGfn",
        "colab_type": "text"
      },
      "cell_type": "markdown",
      "source": [
        "Submit the file to https://www.kaggle.com/c/titanic"
      ]
    },
    {
      "metadata": {
        "id": "TXRha7n1qGfn",
        "colab_type": "text"
      },
      "cell_type": "markdown",
      "source": [
        "---\n",
        "                                                     THE END"
      ]
    }
  ]
}